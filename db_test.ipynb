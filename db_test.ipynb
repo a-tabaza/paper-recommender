{
 "cells": [
  {
   "cell_type": "code",
   "execution_count": 1,
   "metadata": {},
   "outputs": [],
   "source": [
    "import glob\n",
    "import os\n",
    "import pandas as pd\n",
    "import numpy as np\n",
    "import weaviate\n",
    "import chromadb"
   ]
  },
  {
   "cell_type": "code",
   "execution_count": 67,
   "metadata": {},
   "outputs": [],
   "source": [
    "chroma_client = chromadb.Client()"
   ]
  },
  {
   "cell_type": "code",
   "execution_count": null,
   "metadata": {},
   "outputs": [],
   "source": [
    "weaviate_client = weaviate.Client(\"http://localhost:8080/\")\n",
    "weaviate_client.is_ready()"
   ]
  },
  {
   "cell_type": "code",
   "execution_count": 4,
   "metadata": {},
   "outputs": [],
   "source": [
    "def load_parquet(parquet_path):\n",
    "    return pd.read_parquet(parquet_path)"
   ]
  },
  {
   "cell_type": "code",
   "execution_count": 5,
   "metadata": {},
   "outputs": [],
   "source": [
    "def print_parquet_data(data):\n",
    "    for _, row in data.iterrows():\n",
    "        print(\"Abstract:\", row['abstract'])\n",
    "        print(\"Embedding:\", row['embeddings'])\n",
    "        print(\"DOI:\", row['doi'])\n",
    "        print()"
   ]
  },
  {
   "cell_type": "code",
   "execution_count": 6,
   "metadata": {},
   "outputs": [],
   "source": [
    "abstracts1 = load_parquet('arxiv-paper-abstracts/arxiv_abstracts/arxiv_abstracts/arxiv_abstracts/abstracts_1.parquet')"
   ]
  },
  {
   "cell_type": "code",
   "execution_count": 10,
   "metadata": {},
   "outputs": [
    {
     "data": {
      "text/plain": [
       "100000"
      ]
     },
     "execution_count": 10,
     "metadata": {},
     "output_type": "execute_result"
    }
   ],
   "source": [
    "len(abstracts1['abstract'])"
   ]
  },
  {
   "cell_type": "code",
   "execution_count": 68,
   "metadata": {},
   "outputs": [],
   "source": [
    "collection1 = chroma_client.create_collection(name=\"abstracts1\")"
   ]
  },
  {
   "cell_type": "code",
   "execution_count": 50,
   "metadata": {},
   "outputs": [],
   "source": [
    "test_batch = abstracts1[:1000]"
   ]
  },
  {
   "cell_type": "code",
   "execution_count": 69,
   "metadata": {},
   "outputs": [],
   "source": [
    "collection1.add(\n",
    "    embeddings = [embedding.tolist() for embedding in test_batch['embeddings']],\n",
    "    documents = [abstract for abstract in test_batch['abstract']],\n",
    "    metadatas = [{'doi': doi} for doi in test_batch['doi']],\n",
    "    ids = [f'id{i}' for i in range(len(test_batch['doi']))]\n",
    ")"
   ]
  },
  {
   "cell_type": "code",
   "execution_count": 64,
   "metadata": {},
   "outputs": [
    {
     "name": "stderr",
     "output_type": "stream",
     "text": [
      "Downloading (…)8df09/.gitattributes: 100%|██████████| 1.18k/1.18k [00:00<00:00, 2.38MB/s]\n",
      "Downloading (…)_Pooling/config.json: 100%|██████████| 190/190 [00:00<00:00, 299kB/s]\n",
      "Downloading (…)50dc78df09/README.md: 100%|██████████| 6.14k/6.14k [00:00<00:00, 7.27MB/s]\n",
      "Downloading (…)dc78df09/config.json: 100%|██████████| 636/636 [00:00<00:00, 516kB/s]\n",
      "Downloading (…)ce_transformers.json: 100%|██████████| 116/116 [00:00<00:00, 927kB/s]\n",
      "Downloading pytorch_model.bin: 100%|██████████| 438M/438M [02:52<00:00, 2.53MB/s] \n",
      "Downloading (…)nce_bert_config.json: 100%|██████████| 54.0/54.0 [00:00<00:00, 131kB/s]\n",
      "Downloading (…)cial_tokens_map.json: 100%|██████████| 112/112 [00:00<00:00, 420kB/s]\n",
      "Downloading (…)8df09/tokenizer.json: 100%|██████████| 466k/466k [00:00<00:00, 796kB/s]\n",
      "Downloading (…)okenizer_config.json: 100%|██████████| 461/461 [00:00<00:00, 978kB/s]\n",
      "Downloading (…)df09/train_script.py: 100%|██████████| 10.4k/10.4k [00:00<00:00, 12.8MB/s]\n",
      "Downloading (…)50dc78df09/vocab.txt: 100%|██████████| 232k/232k [00:00<00:00, 415kB/s]\n",
      "Downloading (…)c78df09/modules.json: 100%|██████████| 229/229 [00:00<00:00, 702kB/s]\n"
     ]
    }
   ],
   "source": [
    "from sentence_transformers import SentenceTransformer\n",
    "model = SentenceTransformer('sentence-transformers/msmarco-bert-base-dot-v5')"
   ]
  },
  {
   "cell_type": "code",
   "execution_count": 65,
   "metadata": {},
   "outputs": [],
   "source": [
    "query = model.encode('applications of temperature gradient')"
   ]
  },
  {
   "cell_type": "code",
   "execution_count": 71,
   "metadata": {},
   "outputs": [],
   "source": [
    "result = collection1.query(\n",
    "    query_embeddings=query.tolist(),\n",
    "    n_results=10)"
   ]
  },
  {
   "cell_type": "code",
   "execution_count": 76,
   "metadata": {},
   "outputs": [
    {
     "data": {
      "text/plain": [
       "[[{'doi': '0704.0684'},\n",
       "  {'doi': '0704.0157'},\n",
       "  {'doi': '0704.0701'},\n",
       "  {'doi': '0704.0889'},\n",
       "  {'doi': '0704.0534'},\n",
       "  {'doi': '0704.0472'},\n",
       "  {'doi': '0704.0993'},\n",
       "  {'doi': '0704.0393'},\n",
       "  {'doi': '0704.0434'},\n",
       "  {'doi': '0704.0338'}]]"
      ]
     },
     "execution_count": 76,
     "metadata": {},
     "output_type": "execute_result"
    }
   ],
   "source": [
    "result['metadatas']"
   ]
  }
 ],
 "metadata": {
  "kernelspec": {
   "display_name": "Python 3",
   "language": "python",
   "name": "python3"
  },
  "language_info": {
   "codemirror_mode": {
    "name": "ipython",
    "version": 3
   },
   "file_extension": ".py",
   "mimetype": "text/x-python",
   "name": "python",
   "nbconvert_exporter": "python",
   "pygments_lexer": "ipython3",
   "version": "3.10.6"
  },
  "orig_nbformat": 4
 },
 "nbformat": 4,
 "nbformat_minor": 2
}
