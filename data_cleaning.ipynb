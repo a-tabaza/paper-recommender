{
 "cells": [
  {
   "cell_type": "code",
   "execution_count": 1,
   "metadata": {},
   "outputs": [],
   "source": [
    "import pandas as pd \n",
    "import numpy as np\n",
    "import ast\n",
    "import re\n",
    "from bs4 import BeautifulSoup\n",
    "import PyPDF2 # type: ignore\n",
    "from sentence_transformers import SentenceTransformer, util # type: ignore"
   ]
  },
  {
   "cell_type": "code",
   "execution_count": 2,
   "metadata": {},
   "outputs": [],
   "source": [
    "model = SentenceTransformer('all-mpnet-base-v2')"
   ]
  },
  {
   "attachments": {},
   "cell_type": "markdown",
   "metadata": {},
   "source": [
    "#### Tags Text Cleaning"
   ]
  },
  {
   "cell_type": "code",
   "execution_count": 3,
   "metadata": {},
   "outputs": [],
   "source": [
    "def clean_categories(categories):\n",
    "    tags = [tag.strip() for tag in ast.literal_eval(categories)]\n",
    "    return tags"
   ]
  },
  {
   "cell_type": "code",
   "execution_count": 4,
   "metadata": {},
   "outputs": [],
   "source": [
    "df = pd.read_csv(r'arxiv-paper-abstracts\\arxiv_data_210930-054931.csv')\n",
    "categories = pd.DataFrame(list(df['terms'].unique()),columns=['categories'])\n",
    "categories['clean_categories'] = categories['categories'].apply(clean_categories)\n",
    "tags = set()\n",
    "for index, row in categories.iterrows():\n",
    "    categories = row['clean_categories']\n",
    "    for category in categories:\n",
    "        tags.add(category)\n",
    "tags_df = pd.DataFrame(list(tags), columns=['tags'])\n",
    "tags = set()\n",
    "for index, row in tags_df.iterrows():\n",
    "    categories_str = row['tags']\n",
    "    categories_list = [category.strip() for category in categories_str.replace(',', ';').split(';')]\n",
    "    for category in categories_list:\n",
    "        tags.add(category)\n",
    "tags_df = pd.DataFrame(list(tags), columns=['tags'])\n",
    "tags = set()\n",
    "for index, row in tags_df.iterrows():\n",
    "    categories_str = row['tags']\n",
    "    categories_list = [category.strip() for category in categories_str.replace(',', ';').split(';')]\n",
    "    for category in categories_list:\n",
    "        if '(' in category and ')' in category:\n",
    "            subcategories = [subcat.strip() for subcat in category.split() if subcat[0].isdigit()]\n",
    "            for subcategory in subcategories:\n",
    "                tags.add(subcategory)\n",
    "        else:\n",
    "            tags.add(category)\n",
    "tags.discard('')\n"
   ]
  },
  {
   "cell_type": "code",
   "execution_count": 5,
   "metadata": {},
   "outputs": [
    {
     "name": "stdout",
     "output_type": "stream",
     "text": [
      "['93E03', '60L10', '62P10', '14M07', 'C.4', '46M20', 'q-fin.PM', 'H.2.7', 'I.7.1', '68U35', '92C55', 'cond-mat.mes-hall', '68: computer science', 'H.2.8', '68M25', 'cs.NA', '15A83', 'C.2.6', '60J05', '93E20', 'I.2.2', 'physics.optics', '86-04', '60J27', 'math-ph', '90', '90-01', '65M20', '68T09', '35K15', '15A29', '51K05', 'math.DG', '2010', 'cs.SY', '65R32', '91G80', '60G35', 'I.2.9', '35J08', '86A10', '65N21', 'physics.geo-ph', '14J60', 'cond-mat.str-el', '35Q84', '62G10', '92B20', 'D.2.11', '05C80', 'cond-mat.dis-nn', '60B20', 'K.3.2', '65M22', '62F07', '74L05', '90C90', '49N10', '62P12', 'F.m', '92B25 92F99', '49-06', '62F15', '62R40', 'astro-ph', 'I.2.0.b', '00-02', 'H.4.m', 'math.NA', 'math.MG', '90C35', '65N12', 'C.1.3', 'I.4.7', 'math.PR', '74Q15', '68T05', 'q-bio.QM', '41A52', '35A18', '62G32', '65F50', 'C.4.4', 'I.2.4', '49M41', '68T07', '68T01', 'G.3.11', '60D05', '35Q79', 'physics.acc-ph', '65R30', '78', 'I.4.0', '30E05', '53Z50', 'cond-mat.other', '91A12', 'cs.CR', 'cs.OS', 'This paper tells us how human can be identified by their Gait cycle\\n  using any simple camera', 'I.2.8', 'cs.FL', '68N30', 'hep-ph', '47G20', '68W50', '54E40', 'K.4.2', '47A58', 'cs.IR', '68T07', 'cond-mat.stat-mech', '62R01', '14J26', '94A08', '41A30', '60G09', 'I.2.1', 'econ.EM', 'eess.IV', '62J02', 'nlin.PS', 'D.2.0', '37M25', '68N20', '65S05', 'G.1.0', '65C50', 'H.1.2', 'q-bio.NC', '90-05', '65J22', '68Wxx', '65D05', '14F05', '26A33', 'J.2.', 'J.2.5', 'I.4.1', 'cs.PL', '53A04', '62B86', 'cs.CY', '62F35', 'cs.RO', '68W27', 'C.2.1', '28A33', '05C21', '76D07', 'math.RA', '57-08', 'G.1.2', '97N80', '76M10', '60J10', '06A06', 'math.RT', '74L10', 'H.2.0', '68U20', 'cs.LG', '93B30', 'eess.SY', '90B18', '62H30', 'cs.MM', '68U05', 'physics.data-an', 'physics.chem-ph', '35-XX', '47A60', 'math.ST', 'A.1', 'I.0', '91Bxx', '62H20', 'I.3.4', 'cs.IT', 'math.LO', '62C05', '60G10', '65M12', 'D.3.2', 'cs.CV', '91-08', '94C15', 'H.5.5', '94A17', '93B35', 'physics.med-ph', '05C62', '52C25', '49M15', '62M45', '05C85', 'cs.OH', '03-04', 'I.4.m I.2.7', 'C.2.4', '41A05', '58D10', '15A06', 'J.3', '60C05', 'I.2.3', '68U99', 'H.2.4', 'cs.DM', '33E10', 'G.3.7', '94A60', '62P99', '44A12', '62M05', 'q-bio.BM', 'I.2.10', '49M37', '68T04', '68R10', 'I.5.0', '57Z25', 'Artificial intelligence', '41A10', 'cs.CC', 'I.2.6', 'cs.MS', '60J22', '62D05', 'cs.SI', '62-09', 'K.3.8', '68U10', '05C50', 'B.7.2', '00B25', '05C81', 'I.4.3', '35K55', 'C.3', 'I.1.2', '62h30', '91A20', '05A16', '37N30', '60J20', '65D18', 'J.6', 'K.4.4', '35CXX', 'I.6.3', '35J47', 'I.4', '74A40', '62P15', '65T50', '90C46', 'physics.soc-ph', '62M15', 'I.6.5', '62P10', 'stat.AP', 'J.4', '65Z05', '6006', '15A63', '90C40', '90-08', '00Bxx', '62M02', 'org', '68Q55', 'G.1.3', '49J20', '62-08', '35A15', '68T99', 'cond-mat.mtrl-sci', 'quant-ph', '11J71', '58E30', 'physics.space-ph', 'stat.TH', '55R35', '03B70', '90C17', '11Z05', '62E17', 'J.m', 'econ.TH', 'D.3.4', 'math.GN', 'q-fin.CP', 'q-bio.TO', '94-02', '62C99', '46M40', '65Dxx', '65D15', 'D.2.5', '49L20', '62L10', '62P35', '60-08', '68T37', '03G10', 'H.1.1', '03B52', 'F.3.1', 'G.2.3', 'H.3.4', 'F.2.4', 'D.1.3', 'I.4.m', 'E.0', '62', '62M40', '06B99', 'hep-th', '62D20', 'Computing methodologies for image processing', 'math.NT', '37Nxx', '68-01', 'I.2.10.f', '92B20', '62J07', 'F.1.1', '47N30', 'G.2.1', 'E.3', 'G.2.6', 'math.AG', '14M25', 'physics.bio-ph', 'I.1.3', '93B50', '60H99', '65C10', 'cs.GR', '62H99', 'cs.SE', '55N99', 'cs.SC', '90C27', '65C20', '94', 'cs.DL', '76T99', '62G20', '90B99', '62M09', '60', '35J50', 'F.4.2', 'I.2.4.j', 'q-fin.EC', '62H15', '68T10', 'eess.SP', 'cs.NE', 'math.HO', '90C26', 'ams.org', '91A06', 'gr-qc', '70-08', 'H.5.1', '68T40', 'I.5.2.b', 'H.2', '92D20', '35Q74', '60G15', 'cond-mat.soft', 'J.3.1', 'I.5.4.m', '91E40', '00', 'astro-ph.EP', '46N10', 'J.7', 'H.3.3', '60H30', '16G20', 'physics.pop-ph', 'I.2.1 Applications Expert Systems', 'H.3', 'I.4.6', '05C99', '60E05', '62G05', 'nucl-th', '51N05', 'I.5.1', '90C22', 'I.3.6', '62H25', '10010147.10010257.10010258.10010259.10010263', 'F.1.3', '90-06', '34A99', '62F03', 'Computer science applications- 97R60 Computer graphics', '68T05', '62-07l', '65L05', '60G60', '42C40', '92', 'I.3.8', '90C08', 'D.2.8', '30C40', '62F10', '91A60', 'I.1.5', 'E.5', '93B15', 'I.5.5', 'B.5.1', 'I.5.3', '49M29', '35K57', '65K05', '94A34', '68-XX', '65D10', '93Cxx', '65D19', '53A20', 'astro-ph.CO', '60-06', '60L20', 'G.2.2', '14R10', '46E30', 'G.1.6', 'I.6.6', '05B45', 'B.m', 'I.3.7', '46M15', 'I.3', '93C85', '68Q32', '68P30', '91B08', 'I.2.11', '14M15', '62P30', 'I.6', '68', '15B48', 'cs.AI', '92C50', '53B20', '14Q15', '92B99', '90-10', '62G99', '54E05', 'nucl-ex', '68T30', '90C59', '49Q22', '93E35', 'astro-ph.HE', 'I.6.4', '91B84', '34H05', '37M10', '90C30', 'physics.ed-ph', '68P15', '65Zxx', '35B50', '60H05', '05C70', '62R07', 'J.2', 'math.SP', 'I.4.8', '6804', '62F25', '74S30', '68T05 91E40', '68U10', '65N06', '62G08', '03B65', '62M10', '15A60', 'math.AT', '68T42', '05C20', '54F45', 'math.CV', '68T45', '62A09', 'cs.CE', 'I.6.8', '37H99', '74Pxx', '91C99', '81Pxx', '68Q87', 'physics.ins-det', 'H.4', 'stat.ME', 'I.3.5', '41A46', '62G86', '65F15', '62H17', 'D.2.2', '54H30', '53A17', 'B.7.1', '90B22', '78M32', 'I.1.4', '68R99', '62G07', 'J.1', 'cs.CL', '41A63', '46N30', 'math.IT', 'math.CO', 'eess.AS', '76S05', 'math.OA', '37N35', 'H.4.0', 'nlin.CG', '68P20', '55N31', '90C20', '68Tx', '93', 'math.AP', '62J10', 'stat.ML', '62H22', '97P30', '62F12', 'K.5.2', '62E10', 'I.7.5', 'F.4.1', 'q-bio.OT', '49-11', 'I.2.0', '68W10', '35J20', 'I.5', '91G70', 'B.4.2', 'q-fin.GN', '90Cxx', 'cs.GT', '93C41', '82C32', 'math.FA', 'nlin.AO', 'E.1', '97R40', 'astro-ph.GA', 'G.2', '47G30', '68-04', '35P15', 'K.3.m', '68W25', '58J35', '06A15', '35K08', 'cs.LO', 'q-fin.ST', '62J05', '34C20', '74B05', '86-08', 'q-bio.CB', '41A65', '93E12', 'I.7', 'G.1', '65D17', 'G.1.4', '65M55', '03D10', '93E10', 'F.2.0', 'math.DS', 'G.3', '14L24', 'I.5.2', 'I.4.5', '60G40', '68U15', '65T60', '68U01', '49N30', '26B40', '90C06', 'F.2.2', 'cs.NI', '91-10', 'cs.PF', '65C60', '60J25', 'hep-lat', '91F20', 'cs.DC', '68T20', '92E10', '90C05', 'q-fin.PR', 'cs.CG', '65L07', 'astro-ph.SR', 'cs.SD', 'H.5.2', '11Y16', '65Yxx', '94A12', '68Q42', 'physics.app-ph', 'I.2.7.g', 'physics.plasm-ph', 'H.4.2', 'I.2.7', '92C55', '91B10', '43A32', '91D30', 'F.2.1', 'cs.DB', '91B16', 'q-fin.RM', '46E22', 'math.OC', 'D.4.6', '55U10', '37G05', '65N99', '49J55', '62-02', 'I.3.3', '68Q25', 'cs.AR', '37N99', 'E.2', '62F40', '74S05', '65C05', 'econ.GN', 'I.5.4', 'physics.flu-dyn', '65F30', 'K.4', '47B34', '91E30', 'q-bio.GN', 'cond-mat', '62C10', '68T27', '62-07', '68T50', '62G09', '2020: 49N45', 'cs.DS', '65C30', '62H35', 'G.4', 'astro-ph.IM', 'H.5.0', 'D.2', '14T10', '51M20', '62J12', '68W05', '82B20', 'J.0', '62J99', '91A80', 'cs.ET', 'q-bio.PE', '37M05', 'physics.class-ph', '62H12', '91C20', 'J.2.4', '62B10', 'I5.3', 'C.2.2', '68W15', 'physics.ao-ph', 'E.4', '47N10', '60K35', '94A15', '68T45 68T07', '49N45', '62G35', '68W01', 'stat.CO', '68W40', '68T01', 'cs.MA', 'hep-ex', '42B35', 'stat.OT', 'q-bio.MN', 'I.4.10', 'H.3.1', 'math.CA', '68Txx', '65Kxx', '80A30', '15A69', '65M06', '62M20', '97C30', 'I.3.0', 'F.2', '90C25', 'I.5.4.b', '35J15', '60G99', 'math.AC', '62J10', 'I.4.2', '58J90', '35Q68', '49Q10', 'math.CT', 'I.2.m', '47B32', '68P99', 'q-fin.MF', 'I.2.5', '49', 'G.1.8', '55U99', '60G55', '65M99', '68W99', 'I.2', 'math.GR', 'H.5', 'I.4.9', '65F55', 'q-fin.TR', 'adap-org', '90C10', 'nlin.CD', '37E25', '68-06', 'C.2', '65F22', '92-XX', '35R02', 'cs.HC', 'math.GT', 'H.0', 'J.5', '05C60', '42-08', '65K10', 'physics.comp-ph', '62-XX', 'I.4.4', 'math.MP']\n"
     ]
    }
   ],
   "source": [
    "tags_list = []\n",
    "for tag in tags:\n",
    "    tag = tag.replace('(Primary)', '')\n",
    "    tag = tag.replace('Primary', '')\n",
    "    tag = tag.replace('(Secondary)', '')\n",
    "    tag = tag.replace('(secondary)', '')\n",
    "    tag = tag.replace('secondary', '')\n",
    "    tag = tag.replace('Secondary', '')\n",
    "    tag = tag.replace('and ', '')\n",
    "    tags_list.append(tag.strip())\n",
    "print(tags_list)"
   ]
  },
  {
   "cell_type": "code",
   "execution_count": 6,
   "metadata": {},
   "outputs": [],
   "source": [
    "# create empty lists for each classification\n",
    "msc = set()\n",
    "ccs = set()\n",
    "arxiv = set()\n",
    "misc = set()\n",
    "\n",
    "for tag in tags_list:\n",
    "    if re.match(r'\\d{2}[A-Z]\\d{2}|\\d{2}[A-Z]-xx|\\d{2}\\w{2,}', tag):\n",
    "        msc.add(tag)\n",
    "    elif re.match(r'\\d{2}-\\d{2}|\\d{2}-xx|\\d{2}-XX', tag):\n",
    "        msc.add(tag)\n",
    "    elif re.match(r'\\d{2}', tag):\n",
    "        msc.add(tag)\n",
    "    elif re.match(r'[A-Z]\\.\\d\\.\\d', tag):\n",
    "        ccs.add(tag)\n",
    "    elif re.match(r'[A-Z]\\.\\d', tag):\n",
    "        ccs.add(tag)\n",
    "    elif re.match(r'[A-Z]\\d\\.\\d', tag):\n",
    "        ccs.add(tag)\n",
    "    elif re.match(r'\\w+\\.\\w+', tag):\n",
    "        arxiv.add(tag)\n",
    "    elif re.match(r'\\w+-\\w+\\.\\w+-\\w+', tag):\n",
    "        arxiv.add(tag)\n",
    "    elif re.match(r'\\w+-\\w+\\.\\w+', tag):\n",
    "        arxiv.add(tag)\n",
    "    elif re.match(r'\\w+-\\w+', tag):\n",
    "        arxiv.add(tag)\n",
    "    else:\n",
    "        misc.add(tag)\n"
   ]
  },
  {
   "cell_type": "code",
   "execution_count": 7,
   "metadata": {},
   "outputs": [
    {
     "name": "stdout",
     "output_type": "stream",
     "text": [
      "MSC: 453\n",
      "CCS: 162\n",
      "ArXiv: 149\n",
      "Misc: 5\n"
     ]
    }
   ],
   "source": [
    "print(f'MSC: {len(msc)}\\nCCS: {len(ccs)}\\nArXiv: {len(arxiv)}\\nMisc: {len(misc)}')"
   ]
  },
  {
   "attachments": {},
   "cell_type": "markdown",
   "metadata": {},
   "source": [
    "**Contents of misc:**\n",
    "- Artificial intelligence': corresponds to 68Txx\n",
    "- Computer science applications- 97R60 Computer graphics': corresponds to 97R60\n",
    "- Computing methodologies for image processing': corresponds to 68U10\n",
    "- This paper tells us how human can be identified by their Gait cycle\\n  using any simple camera': dropped\n",
    "- org: dropped"
   ]
  },
  {
   "cell_type": "code",
   "execution_count": 8,
   "metadata": {},
   "outputs": [],
   "source": [
    "msc.add('97R60')\n",
    "del misc"
   ]
  },
  {
   "cell_type": "code",
   "execution_count": 58,
   "metadata": {},
   "outputs": [],
   "source": [
    "msc_cleaned = pd.DataFrame(list(msc), columns=['msc'])\n",
    "ccs_cleaned = pd.DataFrame(list(ccs), columns=['ccs'])\n",
    "arxiv_cleaned = pd.DataFrame(list(arxiv), columns=['arxiv'])"
   ]
  },
  {
   "attachments": {},
   "cell_type": "markdown",
   "metadata": {},
   "source": [
    "#### Retrieve Descriptions for Each Tag"
   ]
  },
  {
   "cell_type": "code",
   "execution_count": 59,
   "metadata": {},
   "outputs": [],
   "source": [
    "msc_html = r'C:\\Users\\User\\Desktop\\ml_paper_recommender_system\\paper-recommender\\Classification Codes Data\\MSC Classification Codes.html'\n",
    "\n",
    "# Parse MSC Classification Codes html file\n",
    "with open(msc_html) as fp:\n",
    "    msc_soup = BeautifulSoup(fp, 'html.parser')\n",
    "\n",
    "# Extract MSC Classification Codes\n",
    "msc_tree = [element.text for element in msc_soup.find_all('li')]\n",
    "\n",
    "# Define Dictionary for MSC Classification Codes where the key is the main class and the value is a list of sub-classes\n",
    "msc_classes = {}\n",
    "\n",
    "# Populate the dictionary\n",
    "for cls in msc_tree:\n",
    "    if re.match(r'^\\d\\d-xx:', cls):\n",
    "        msc_classes[cls.split('\\n')[0]] = []\n",
    "\n",
    "for element in msc_tree:\n",
    "    for cls in msc_classes.keys():\n",
    "        if cls[0:2] == element[0:2]:\n",
    "            msc_classes[cls].append(element)\n",
    "\n",
    "for cls in msc_classes.keys():\n",
    "    msc_classes[cls].pop(0)\n",
    "\n",
    "# Create a dataframe from the dictionary\n",
    "msc_df = pd.DataFrame(msc_classes.items(),columns=['class','sub_classes'])"
   ]
  },
  {
   "cell_type": "code",
   "execution_count": 60,
   "metadata": {},
   "outputs": [],
   "source": [
    "for i, subclass in enumerate(msc_df['sub_classes']):\n",
    "    for idx, sub in enumerate(subclass):\n",
    "        if re.match(r'\\d+\\d+[A-Z]xx', sub):\n",
    "            msc_df['sub_classes'][i][idx] = sub.split('\\n')[0]"
   ]
  },
  {
   "cell_type": "code",
   "execution_count": 61,
   "metadata": {},
   "outputs": [],
   "source": [
    "for i, subclass in enumerate(msc_df['sub_classes']):\n",
    "    curr_cls = msc_df['class'][i]\n",
    "    for idx, sub in enumerate(subclass):\n",
    "        msc_df['sub_classes'][i][idx] = curr_cls + ' ' + msc_df['sub_classes'][i][idx]"
   ]
  },
  {
   "cell_type": "code",
   "execution_count": 62,
   "metadata": {},
   "outputs": [],
   "source": [
    "for idx, tag in enumerate(msc_cleaned['msc']):\n",
    "    if ':' in tag:\n",
    "        msc_cleaned['msc'][idx] = tag.split(':')[0]"
   ]
  },
  {
   "cell_type": "code",
   "execution_count": 63,
   "metadata": {},
   "outputs": [],
   "source": [
    "msc_cleaned['description'] = None"
   ]
  },
  {
   "cell_type": "code",
   "execution_count": 64,
   "metadata": {},
   "outputs": [],
   "source": [
    "for i, tag in enumerate(msc_cleaned['msc']):\n",
    "    for j, subclass in enumerate(msc_df['sub_classes']):\n",
    "        for k, cls in enumerate(subclass):\n",
    "            if tag in cls:\n",
    "                msc_cleaned['description'][i] = cls"
   ]
  },
  {
   "cell_type": "code",
   "execution_count": 65,
   "metadata": {},
   "outputs": [
    {
     "name": "stdout",
     "output_type": "stream",
     "text": [
      "Status:\n",
      "72 out of 454 tags are missing a description\n"
     ]
    }
   ],
   "source": [
    "missing_msc = []\n",
    "for idx, description in enumerate(msc_cleaned['description']):\n",
    "    if description is None:\n",
    "        missing_msc.append(msc_cleaned['msc'][idx])\n",
    "print(f'Status:\\n{len(missing_msc)} out of {len(msc_cleaned)} tags are missing a description')"
   ]
  },
  {
   "cell_type": "code",
   "execution_count": 66,
   "metadata": {},
   "outputs": [],
   "source": [
    "# Extract Description from MSC Classification Codes 2020\n",
    "reader = PyPDF2.PdfReader(r'C:\\Users\\User\\Desktop\\ml_paper_recommender_system\\paper-recommender\\Classification Codes Data\\msc2020.pdf')\n",
    "missing_corpus = []\n",
    "for idx, page in enumerate(reader.pages):\n",
    "    text = page.extract_text()\n",
    "    for idx, code in enumerate(missing_msc):\n",
    "        if code in text:\n",
    "            missing_corpus.append(text)\n",
    "            # print(f'Page {idx+1}: {code}')"
   ]
  },
  {
   "cell_type": "code",
   "execution_count": 67,
   "metadata": {},
   "outputs": [],
   "source": [
    "for idx, text in enumerate(missing_corpus):\n",
    "    missing_corpus[idx] = text.split('\\n')"
   ]
  },
  {
   "cell_type": "code",
   "execution_count": 68,
   "metadata": {},
   "outputs": [],
   "source": [
    "missing_descriptions = set()\n",
    "for code in missing_msc:\n",
    "    for idx, text in enumerate(missing_corpus):\n",
    "        for line in text:\n",
    "            if code in line:\n",
    "                desc = f'{code}: {line}'\n",
    "                missing_descriptions.add(desc)"
   ]
  },
  {
   "cell_type": "code",
   "execution_count": 75,
   "metadata": {},
   "outputs": [],
   "source": [
    "# Inspected manually because data quality right?\n",
    "missing_descriptions = [\n",
    " '60B20: 60B20 Random matrices (probabilistic aspects)',\n",
    " '62H22: 62H22 Probabilistic graphical models',\n",
    " '97P30: 97P30 Systems, databases (educational aspects)',\n",
    " '05C81: 05C81 Random walks on graphs',\n",
    " '62B86: 62B86 Statistical aspects of fuzziness, sufficiency, and information',\n",
    " '68T42: 68T42 Agent technology and artificial intelligence',\n",
    " '97N80: 97N80 Mathematical software, computer programs (educational aspects)',\n",
    " '60L10: 60L10 Signatures and data streams',\n",
    " '35Q68: 35Q68 PDEs in connection with computer science',\n",
    " '68T07: 68T07 Artificial neural networks and deep learning',\n",
    " '60L20: 60L20 Rough paths',\n",
    " '62-08: 62-08 Computational methods for problems pertaining to statistics',\n",
    " '35Q79: 35Q79 PDEs in connection with classical thermodynamics and heat transfer',\n",
    " '15B48: 15B48 Positive matrices and their generalizations; cones of matrices',\n",
    " '68W50: 68W50 Evolutionary algorithms, genetic algorithms (computational aspects)',\n",
    " '62-XX: 62-XX Statistics',\n",
    " '65Zxx: 65Zxx Applications to the sciences',\n",
    " '62G86: 62G86 Nonparametric inference and fuzziness',\n",
    " '62R40: 62R40 Topological data analysis',\n",
    " '05C21: 05C21 Flows in graphs',\n",
    " \"35J08: 35J08 Green's functions for elliptic equations\",\n",
    " '91-10: 91-10 Mathematical modeling or simulation for problems pertaining to game theory, economics, and Finance',\n",
    " '90-05: 90-05 Experimental work for problems pertaining to operations research and mathematical programming',\n",
    " '68W27: 68W27 Online algorithms; streaming algorithms',\n",
    " '14T10: 14T10 Foundations of tropical geometry and relations with algebra',\n",
    " '62D20: 62D20 Causal inference from observational studies',\n",
    " '49Q22: 49Q22 Optimal transportation',\n",
    " '35R02: 35R02 PDEs on graphs and networks (ramified or polygonal spaces)',\n",
    " '57-08: 57-08 Computational methods for problems pertaining to manifolds and cell complexes',\n",
    " '65F55: 65F55 Numerical methods for low-rank matrix approximation; matrix compression',\n",
    " '90C17: 90C17 Robustness in mathematical programming',\n",
    " '53Z50: 53Z50 Applications of differential geometry to data and computer science',\n",
    " '35J47: 35J47 Second-order elliptic systems',\n",
    " '62R07: 62R07 Statistical aspects of big data and data science',\n",
    " '15A83: 15A83 Matrix completion problems',\n",
    " '91G80: 91G80 Financial applications of other theories',\n",
    " '54H30: 54H30 Applications of general topology to computer science (e.g., digital topology, image processing)',\n",
    " '35K08: 35K08 Heat kernel',\n",
    " '90-10: 90-10 Mathematical modeling or simulation for problems pertaining to operations research and mathematical programming',\n",
    " '78M32: 78M32 Neural and heuristic methods applied to problems in optics and electromagnetic theory',\n",
    " '62A09: 62A09 Graphical methods in statistics',\n",
    " '35Q74: 35Q74 PDEs in connection with mechanics of deformable solids',\n",
    " '55N31: 55N31 Persistent homology and applications, topological data analysis',\n",
    " '68-XX: 68-XX Computer science',\n",
    " '65D19: 65D19 Computational issues in computer and robotic vision',\n",
    " '68M25: 68M25 Computer security',\n",
    " '62-08: 62-08 Computational methods for problems pertaining to statistics',\n",
    " '92-XX: 92-XX Biology and other natural sciences',\n",
    " '35-XX: 35-XX Partial differential equations',\n",
    " '68Q87: 68Q87 Probability in computer science (algorithm analysis, random structures, phase transitions, etc.)',\n",
    " '60B20: 15B52 Random matrices (algebraic aspects) fFor probabilistic aspects, see 60B20 g',\n",
    " '91G70: 91G70 Statistical methods; risk measures [See also 62P05, 62P20]',\n",
    " '62R01: 62R01 Algebraic statistics',\n",
    " '49Q22: 35Q49 Transport equations fFor calculus of variations and optimal control, see 49Q22; for Fluid mechanics, see',\n",
    " '60B20: 60B20 Random matrices (probabilistic aspects)',\n",
    " '49M41: 49M41 PDE constrained optimization (numerical aspects)',\n",
    " '57Z25: 57Z25 Relations of manifolds and cell complexes with computer and data science',\n",
    " '49-11: 49-11 Research data for problems pertaining to calculus of variations and optimal control',\n",
    " '35Q84: 35Q84 Fokker-Planck equations',\n",
    " '42-08: 42-08 Computational methods for problems pertaining to harmonic analysis on Euclidean spaces',\n",
    " '68T09: 68T09 Computational aspects of data analysis and big data',\n",
    " '65M22: 65M22 Numerical solution of discretized equations for initial value and initial-boundary value problems involving ']\n",
    "\n",
    "for idx, desc in enumerate(missing_descriptions):\n",
    "    missing_descriptions[idx] = desc.split(':')\n",
    "\n",
    "\n",
    "for idx, description in enumerate(missing_descriptions):\n",
    "    m, d = missing_descriptions[idx]\n",
    "    for idx2, code in enumerate(msc_cleaned['msc']):\n",
    "        if msc_cleaned['msc'][idx2] == m:\n",
    "            msc_cleaned['description'][idx2] = d.strip()\n",
    "    "
   ]
  },
  {
   "cell_type": "code",
   "execution_count": null,
   "metadata": {},
   "outputs": [],
   "source": [
    "# # Add row to dataframe\n",
    "# msc_cleaned.loc[-1] = [m, d.strip()]\n",
    "# msc_cleaned.index = msc_cleaned.index + 1\n",
    "# msc_cleaned = msc_cleaned.sort_index()"
   ]
  },
  {
   "cell_type": "code",
   "execution_count": 82,
   "metadata": {},
   "outputs": [
    {
     "data": {
      "text/plain": [
       "[['68W27', ' 68W27 Online algorithms; streaming algorithms'],\n",
       " ['68W50',\n",
       "  ' 68W50 Evolutionary algorithms, genetic algorithms (computational aspects)'],\n",
       " ['78M32',\n",
       "  ' 78M32 Neural and heuristic methods applied to problems in optics and electromagnetic theory'],\n",
       " ['90-05',\n",
       "  ' 90-05 Experimental work for problems pertaining to operations research and mathematical programming'],\n",
       " ['90-10',\n",
       "  ' 90-10 Mathematical modeling or simulation for problems pertaining to operations research and mathematical programming'],\n",
       " ['90C17', ' 90C17 Robustness in mathematical programming'],\n",
       " ['91-10',\n",
       "  ' 91-10 Mathematical modeling or simulation for problems pertaining to game theory, economics, and Finance'],\n",
       " ['91G70',\n",
       "  ' 91G70 Statistical methods; risk measures [See also 62P05, 62P20]'],\n",
       " ['91G80', ' 91G80 Financial applications of other theories'],\n",
       " ['92-XX', ' 92-XX Biology and other natural sciences'],\n",
       " ['97N80',\n",
       "  ' 97N80 Mathematical software, computer programs (educational aspects)']]"
      ]
     },
     "execution_count": 82,
     "metadata": {},
     "output_type": "execute_result"
    }
   ],
   "source": [
    "missing_descriptions.sort()\n",
    "missing_descriptions[50:-1]  "
   ]
  },
  {
   "cell_type": "code",
   "execution_count": 76,
   "metadata": {},
   "outputs": [
    {
     "data": {
      "text/html": [
       "<div>\n",
       "<style scoped>\n",
       "    .dataframe tbody tr th:only-of-type {\n",
       "        vertical-align: middle;\n",
       "    }\n",
       "\n",
       "    .dataframe tbody tr th {\n",
       "        vertical-align: top;\n",
       "    }\n",
       "\n",
       "    .dataframe thead th {\n",
       "        text-align: right;\n",
       "    }\n",
       "</style>\n",
       "<table border=\"1\" class=\"dataframe\">\n",
       "  <thead>\n",
       "    <tr style=\"text-align: right;\">\n",
       "      <th></th>\n",
       "      <th>msc</th>\n",
       "      <th>description</th>\n",
       "    </tr>\n",
       "  </thead>\n",
       "  <tbody>\n",
       "    <tr>\n",
       "      <th>18</th>\n",
       "      <td>2010</td>\n",
       "      <td>None</td>\n",
       "    </tr>\n",
       "    <tr>\n",
       "      <th>36</th>\n",
       "      <td>92B25 92F99</td>\n",
       "      <td>None</td>\n",
       "    </tr>\n",
       "    <tr>\n",
       "      <th>56</th>\n",
       "      <td>97R60</td>\n",
       "      <td>None</td>\n",
       "    </tr>\n",
       "    <tr>\n",
       "      <th>127</th>\n",
       "      <td>68T04</td>\n",
       "      <td>None</td>\n",
       "    </tr>\n",
       "    <tr>\n",
       "      <th>139</th>\n",
       "      <td>62h30</td>\n",
       "      <td>None</td>\n",
       "    </tr>\n",
       "    <tr>\n",
       "      <th>145</th>\n",
       "      <td>35CXX</td>\n",
       "      <td>None</td>\n",
       "    </tr>\n",
       "    <tr>\n",
       "      <th>155</th>\n",
       "      <td>6006</td>\n",
       "      <td>None</td>\n",
       "    </tr>\n",
       "    <tr>\n",
       "      <th>228</th>\n",
       "      <td>10010147.10010257.10010258.10010259.10010263</td>\n",
       "      <td>None</td>\n",
       "    </tr>\n",
       "    <tr>\n",
       "      <th>233</th>\n",
       "      <td>62-07l</td>\n",
       "      <td>None</td>\n",
       "    </tr>\n",
       "    <tr>\n",
       "      <th>288</th>\n",
       "      <td>6804</td>\n",
       "      <td>None</td>\n",
       "    </tr>\n",
       "    <tr>\n",
       "      <th>290</th>\n",
       "      <td>68T05 91E40</td>\n",
       "      <td>None</td>\n",
       "    </tr>\n",
       "    <tr>\n",
       "      <th>337</th>\n",
       "      <td>97R40</td>\n",
       "      <td>None</td>\n",
       "    </tr>\n",
       "    <tr>\n",
       "      <th>399</th>\n",
       "      <td>2020</td>\n",
       "      <td>None</td>\n",
       "    </tr>\n",
       "    <tr>\n",
       "      <th>417</th>\n",
       "      <td>68T45 68T07</td>\n",
       "      <td>None</td>\n",
       "    </tr>\n",
       "  </tbody>\n",
       "</table>\n",
       "</div>"
      ],
      "text/plain": [
       "                                              msc description\n",
       "18                                           2010        None\n",
       "36                                    92B25 92F99        None\n",
       "56                                          97R60        None\n",
       "127                                         68T04        None\n",
       "139                                         62h30        None\n",
       "145                                         35CXX        None\n",
       "155                                          6006        None\n",
       "228  10010147.10010257.10010258.10010259.10010263        None\n",
       "233                                        62-07l        None\n",
       "288                                          6804        None\n",
       "290                                   68T05 91E40        None\n",
       "337                                         97R40        None\n",
       "399                                          2020        None\n",
       "417                                   68T45 68T07        None"
      ]
     },
     "execution_count": 76,
     "metadata": {},
     "output_type": "execute_result"
    }
   ],
   "source": [
    "msc_cleaned[msc_cleaned['description'].isnull()] # TODO fetch"
   ]
  }
 ],
 "metadata": {
  "kernelspec": {
   "display_name": "Python 3",
   "language": "python",
   "name": "python3"
  },
  "language_info": {
   "codemirror_mode": {
    "name": "ipython",
    "version": 3
   },
   "file_extension": ".py",
   "mimetype": "text/x-python",
   "name": "python",
   "nbconvert_exporter": "python",
   "pygments_lexer": "ipython3",
   "version": "3.10.8"
  },
  "orig_nbformat": 4
 },
 "nbformat": 4,
 "nbformat_minor": 2
}
