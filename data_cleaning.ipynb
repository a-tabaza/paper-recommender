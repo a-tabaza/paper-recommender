{
 "cells": [
  {
   "cell_type": "code",
   "execution_count": null,
   "metadata": {},
   "outputs": [],
   "source": [
    "import pandas as pd \n",
    "import numpy as np\n",
    "import ast\n",
    "import re\n",
    "from bs4 import BeautifulSoup\n",
    "import PyPDF2 # type: ignore\n",
    "from sentence_transformers import SentenceTransformer, util # type: ignore"
   ]
  },
  {
   "cell_type": "code",
   "execution_count": null,
   "metadata": {},
   "outputs": [],
   "source": [
    "model = SentenceTransformer('all-mpnet-base-v2')"
   ]
  },
  {
   "attachments": {},
   "cell_type": "markdown",
   "metadata": {},
   "source": [
    "#### Tags Text Cleaning"
   ]
  },
  {
   "cell_type": "code",
   "execution_count": null,
   "metadata": {},
   "outputs": [],
   "source": [
    "def clean_categories(categories):\n",
    "    tags = [tag.strip() for tag in ast.literal_eval(categories)]\n",
    "    return tags"
   ]
  },
  {
   "cell_type": "code",
   "execution_count": null,
   "metadata": {},
   "outputs": [],
   "source": [
    "df = pd.read_csv(r'arxiv-paper-abstracts\\arxiv_data_210930-054931.csv')\n",
    "categories = pd.DataFrame(list(df['terms'].unique()),columns=['categories'])\n",
    "categories['clean_categories'] = categories['categories'].apply(clean_categories)\n",
    "tags = set()\n",
    "for index, row in categories.iterrows():\n",
    "    categories = row['clean_categories']\n",
    "    for category in categories:\n",
    "        tags.add(category)\n",
    "tags_df = pd.DataFrame(list(tags), columns=['tags'])\n",
    "tags = set()\n",
    "for index, row in tags_df.iterrows():\n",
    "    categories_str = row['tags']\n",
    "    categories_list = [category.strip() for category in categories_str.replace(',', ';').split(';')]\n",
    "    for category in categories_list:\n",
    "        tags.add(category)\n",
    "tags_df = pd.DataFrame(list(tags), columns=['tags'])\n",
    "tags = set()\n",
    "for index, row in tags_df.iterrows():\n",
    "    categories_str = row['tags']\n",
    "    categories_list = [category.strip() for category in categories_str.replace(',', ';').split(';')]\n",
    "    for category in categories_list:\n",
    "        if '(' in category and ')' in category:\n",
    "            subcategories = [subcat.strip() for subcat in category.split() if subcat[0].isdigit()]\n",
    "            for subcategory in subcategories:\n",
    "                tags.add(subcategory)\n",
    "        else:\n",
    "            tags.add(category)\n",
    "tags.discard('')\n"
   ]
  },
  {
   "cell_type": "code",
   "execution_count": null,
   "metadata": {},
   "outputs": [],
   "source": [
    "tags_list = []\n",
    "for tag in tags:\n",
    "    tag = tag.replace('(Primary)', '')\n",
    "    tag = tag.replace('Primary', '')\n",
    "    tag = tag.replace('(Secondary)', '')\n",
    "    tag = tag.replace('(secondary)', '')\n",
    "    tag = tag.replace('secondary', '')\n",
    "    tag = tag.replace('Secondary', '')\n",
    "    tag = tag.replace('and ', '')\n",
    "    tags_list.append(tag.strip())\n",
    "print(tags_list)"
   ]
  },
  {
   "cell_type": "code",
   "execution_count": null,
   "metadata": {},
   "outputs": [],
   "source": [
    "# create empty lists for each classification\n",
    "msc = set()\n",
    "ccs = set()\n",
    "arxiv = set()\n",
    "misc = set()\n",
    "\n",
    "for tag in tags_list:\n",
    "    if re.match(r'\\d{2}[A-Z]\\d{2}|\\d{2}[A-Z]-xx|\\d{2}\\w{2,}', tag):\n",
    "        msc.add(tag)\n",
    "    elif re.match(r'\\d{2}-\\d{2}|\\d{2}-xx|\\d{2}-XX', tag):\n",
    "        msc.add(tag)\n",
    "    elif re.match(r'\\d{2}', tag):\n",
    "        msc.add(tag)\n",
    "    elif re.match(r'[A-Z]\\.\\d\\.\\d', tag):\n",
    "        ccs.add(tag)\n",
    "    elif re.match(r'[A-Z]\\.\\d', tag):\n",
    "        ccs.add(tag)\n",
    "    elif re.match(r'[A-Z]\\d\\.\\d', tag):\n",
    "        ccs.add(tag)\n",
    "    elif re.match(r'\\w+\\.\\w+', tag):\n",
    "        arxiv.add(tag)\n",
    "    elif re.match(r'\\w+-\\w+\\.\\w+-\\w+', tag):\n",
    "        arxiv.add(tag)\n",
    "    elif re.match(r'\\w+-\\w+\\.\\w+', tag):\n",
    "        arxiv.add(tag)\n",
    "    elif re.match(r'\\w+-\\w+', tag):\n",
    "        arxiv.add(tag)\n",
    "    else:\n",
    "        misc.add(tag)\n"
   ]
  },
  {
   "cell_type": "code",
   "execution_count": null,
   "metadata": {},
   "outputs": [],
   "source": [
    "print(f'MSC: {len(msc)}\\nCCS: {len(ccs)}\\nArXiv: {len(arxiv)}\\nMisc: {len(misc)}')"
   ]
  },
  {
   "attachments": {},
   "cell_type": "markdown",
   "metadata": {},
   "source": [
    "**Contents of misc:**\n",
    "- Artificial intelligence': corresponds to 68Txx\n",
    "- Computer science applications- 97R60 Computer graphics': corresponds to 97R60\n",
    "- Computing methodologies for image processing': corresponds to 68U10\n",
    "- This paper tells us how human can be identified by their Gait cycle\\n  using any simple camera': dropped\n",
    "- org: dropped"
   ]
  },
  {
   "cell_type": "code",
   "execution_count": null,
   "metadata": {},
   "outputs": [],
   "source": [
    "msc.add('97R60')\n",
    "del misc"
   ]
  },
  {
   "cell_type": "code",
   "execution_count": null,
   "metadata": {},
   "outputs": [],
   "source": [
    "msc_cleaned = pd.DataFrame(list(msc), columns=['msc'])\n",
    "ccs_cleaned = pd.DataFrame(list(ccs), columns=['ccs'])\n",
    "arxiv_cleaned = pd.DataFrame(list(arxiv), columns=['arxiv'])"
   ]
  },
  {
   "attachments": {},
   "cell_type": "markdown",
   "metadata": {},
   "source": [
    "#### Retrieve Descriptions for Each Tag"
   ]
  },
  {
   "cell_type": "code",
   "execution_count": null,
   "metadata": {},
   "outputs": [],
   "source": [
    "msc_html = r'C:\\Users\\User\\Desktop\\ml_paper_recommender_system\\paper-recommender\\Classification Codes Data\\MSC Classification Codes.html'\n",
    "\n",
    "# Parse MSC Classification Codes html file\n",
    "with open(msc_html) as fp:\n",
    "    msc_soup = BeautifulSoup(fp, 'html.parser')\n",
    "\n",
    "# Extract MSC Classification Codes\n",
    "msc_tree = [element.text for element in msc_soup.find_all('li')]\n",
    "\n",
    "# Define Dictionary for MSC Classification Codes where the key is the main class and the value is a list of sub-classes\n",
    "msc_classes = {}\n",
    "\n",
    "# Populate the dictionary\n",
    "for cls in msc_tree:\n",
    "    if re.match(r'^\\d\\d-xx:', cls):\n",
    "        msc_classes[cls.split('\\n')[0]] = []\n",
    "\n",
    "for element in msc_tree:\n",
    "    for cls in msc_classes.keys():\n",
    "        if cls[0:2] == element[0:2]:\n",
    "            msc_classes[cls].append(element)\n",
    "\n",
    "for cls in msc_classes.keys():\n",
    "    msc_classes[cls].pop(0)\n",
    "\n",
    "# Create a dataframe from the dictionary\n",
    "msc_df = pd.DataFrame(msc_classes.items(),columns=['class','sub_classes'])"
   ]
  },
  {
   "cell_type": "code",
   "execution_count": null,
   "metadata": {},
   "outputs": [],
   "source": [
    "for i, subclass in enumerate(msc_df['sub_classes']):\n",
    "    for idx, sub in enumerate(subclass):\n",
    "        if re.match(r'\\d+\\d+[A-Z]xx', sub):\n",
    "            msc_df['sub_classes'][i][idx] = sub.split('\\n')[0]"
   ]
  },
  {
   "cell_type": "code",
   "execution_count": null,
   "metadata": {},
   "outputs": [],
   "source": [
    "for i, subclass in enumerate(msc_df['sub_classes']):\n",
    "    curr_cls = msc_df['class'][i]\n",
    "    for idx, sub in enumerate(subclass):\n",
    "        msc_df['sub_classes'][i][idx] = curr_cls + ' ' + msc_df['sub_classes'][i][idx]"
   ]
  },
  {
   "cell_type": "code",
   "execution_count": null,
   "metadata": {},
   "outputs": [],
   "source": [
    "for idx, tag in enumerate(msc_cleaned['msc']):\n",
    "    if ':' in tag:\n",
    "        msc_cleaned['msc'][idx] = tag.split(':')[0]"
   ]
  },
  {
   "cell_type": "code",
   "execution_count": null,
   "metadata": {},
   "outputs": [],
   "source": [
    "msc_cleaned['description'] = None"
   ]
  },
  {
   "cell_type": "code",
   "execution_count": null,
   "metadata": {},
   "outputs": [],
   "source": [
    "for i, tag in enumerate(msc_cleaned['msc']):\n",
    "    for j, subclass in enumerate(msc_df['sub_classes']):\n",
    "        for k, cls in enumerate(subclass):\n",
    "            if tag in cls:\n",
    "                msc_cleaned['description'][i] = cls"
   ]
  },
  {
   "cell_type": "code",
   "execution_count": null,
   "metadata": {},
   "outputs": [],
   "source": [
    "missing_msc = []\n",
    "for idx, description in enumerate(msc_cleaned['description']):\n",
    "    if description is None:\n",
    "        missing_msc.append(msc_cleaned['msc'][idx])\n",
    "print(f'Status:\\n{len(missing_msc)} out of {len(msc_cleaned)} tags are missing a description')"
   ]
  },
  {
   "cell_type": "code",
   "execution_count": null,
   "metadata": {},
   "outputs": [],
   "source": [
    "# Extract Description from MSC Classification Codes 2020\n",
    "reader = PyPDF2.PdfReader(r'C:\\Users\\User\\Desktop\\ml_paper_recommender_system\\paper-recommender\\Classification Codes Data\\msc2020.pdf')\n",
    "missing_corpus = []\n",
    "for idx, page in enumerate(reader.pages):\n",
    "    text = page.extract_text()\n",
    "    for idx, code in enumerate(missing_msc):\n",
    "        if code in text:\n",
    "            missing_corpus.append(text)\n",
    "            # print(f'Page {idx+1}: {code}')"
   ]
  },
  {
   "cell_type": "code",
   "execution_count": null,
   "metadata": {},
   "outputs": [],
   "source": [
    "for idx, text in enumerate(missing_corpus):\n",
    "    missing_corpus[idx] = text.split('\\n')"
   ]
  },
  {
   "cell_type": "code",
   "execution_count": null,
   "metadata": {},
   "outputs": [],
   "source": [
    "missing_descriptions = set()\n",
    "for code in missing_msc:\n",
    "    for idx, text in enumerate(missing_corpus):\n",
    "        for line in text:\n",
    "            if code in line:\n",
    "                desc = f'{code}: {line}'\n",
    "                missing_descriptions.add(desc)"
   ]
  },
  {
   "cell_type": "code",
   "execution_count": null,
   "metadata": {},
   "outputs": [],
   "source": [
    "# Inspected manually because data quality right?\n",
    "missing_descriptions = [\n",
    " '60B20: 60B20 Random matrices (probabilistic aspects)',\n",
    " '62H22: 62H22 Probabilistic graphical models',\n",
    " '97P30: 97P30 Systems, databases (educational aspects)',\n",
    " '05C81: 05C81 Random walks on graphs',\n",
    " '62B86: 62B86 Statistical aspects of fuzziness, sufficiency, and information',\n",
    " '68T42: 68T42 Agent technology and artificial intelligence',\n",
    " '97N80: 97N80 Mathematical software, computer programs (educational aspects)',\n",
    " '60L10: 60L10 Signatures and data streams',\n",
    " '35Q68: 35Q68 PDEs in connection with computer science',\n",
    " '68T07: 68T07 Artificial neural networks and deep learning',\n",
    " '60L20: 60L20 Rough paths',\n",
    " '62-08: 62-08 Computational methods for problems pertaining to statistics',\n",
    " '35Q79: 35Q79 PDEs in connection with classical thermodynamics and heat transfer',\n",
    " '15B48: 15B48 Positive matrices and their generalizations; cones of matrices',\n",
    " '68W50: 68W50 Evolutionary algorithms, genetic algorithms (computational aspects)',\n",
    " '62-XX: 62-XX Statistics',\n",
    " '65Zxx: 65Zxx Applications to the sciences',\n",
    " '62G86: 62G86 Nonparametric inference and fuzziness',\n",
    " '62R40: 62R40 Topological data analysis',\n",
    " '05C21: 05C21 Flows in graphs',\n",
    " \"35J08: 35J08 Green's functions for elliptic equations\",\n",
    " '91-10: 91-10 Mathematical modeling or simulation for problems pertaining to game theory, economics, and Finance',\n",
    " '90-05: 90-05 Experimental work for problems pertaining to operations research and mathematical programming',\n",
    " '68W27: 68W27 Online algorithms; streaming algorithms',\n",
    " '14T10: 14T10 Foundations of tropical geometry and relations with algebra',\n",
    " '62D20: 62D20 Causal inference from observational studies',\n",
    " '49Q22: 49Q22 Optimal transportation',\n",
    " '35R02: 35R02 PDEs on graphs and networks (ramified or polygonal spaces)',\n",
    " '57-08: 57-08 Computational methods for problems pertaining to manifolds and cell complexes',\n",
    " '65F55: 65F55 Numerical methods for low-rank matrix approximation; matrix compression',\n",
    " '90C17: 90C17 Robustness in mathematical programming',\n",
    " '53Z50: 53Z50 Applications of differential geometry to data and computer science',\n",
    " '35J47: 35J47 Second-order elliptic systems',\n",
    " '62R07: 62R07 Statistical aspects of big data and data science',\n",
    " '15A83: 15A83 Matrix completion problems',\n",
    " '91G80: 91G80 Financial applications of other theories',\n",
    " '54H30: 54H30 Applications of general topology to computer science (e.g., digital topology, image processing)',\n",
    " '35K08: 35K08 Heat kernel',\n",
    " '90-10: 90-10 Mathematical modeling or simulation for problems pertaining to operations research and mathematical programming',\n",
    " '78M32: 78M32 Neural and heuristic methods applied to problems in optics and electromagnetic theory',\n",
    " '62A09: 62A09 Graphical methods in statistics',\n",
    " '35Q74: 35Q74 PDEs in connection with mechanics of deformable solids',\n",
    " '55N31: 55N31 Persistent homology and applications, topological data analysis',\n",
    " '68-XX: 68-XX Computer science',\n",
    " '65D19: 65D19 Computational issues in computer and robotic vision',\n",
    " '68M25: 68M25 Computer security',\n",
    " '62-08: 62-08 Computational methods for problems pertaining to statistics',\n",
    " '92-XX: 92-XX Biology and other natural sciences',\n",
    " '35-XX: 35-XX Partial differential equations',\n",
    " '68Q87: 68Q87 Probability in computer science (algorithm analysis, random structures, phase transitions, etc.)',\n",
    " '60B20: 15B52 Random matrices (algebraic aspects) fFor probabilistic aspects, see 60B20 g',\n",
    " '91G70: 91G70 Statistical methods; risk measures [See also 62P05, 62P20]',\n",
    " '62R01: 62R01 Algebraic statistics',\n",
    " '49Q22: 35Q49 Transport equations fFor calculus of variations and optimal control, see 49Q22; for Fluid mechanics, see',\n",
    " '60B20: 60B20 Random matrices (probabilistic aspects)',\n",
    " '49M41: 49M41 PDE constrained optimization (numerical aspects)',\n",
    " '57Z25: 57Z25 Relations of manifolds and cell complexes with computer and data science',\n",
    " '49-11: 49-11 Research data for problems pertaining to calculus of variations and optimal control',\n",
    " '35Q84: 35Q84 Fokker-Planck equations',\n",
    " '42-08: 42-08 Computational methods for problems pertaining to harmonic analysis on Euclidean spaces',\n",
    " '68T09: 68T09 Computational aspects of data analysis and big data',\n",
    " '65M22: 65M22 Numerical solution of discretized equations for initial value and initial-boundary value problems involving ']\n",
    "\n",
    "for idx, desc in enumerate(missing_descriptions):\n",
    "    missing_descriptions[idx] = desc.split(':')\n",
    "\n",
    "\n",
    "for idx, description in enumerate(missing_descriptions):\n",
    "    m, d = missing_descriptions[idx]\n",
    "    for idx2, code in enumerate(msc_cleaned['msc']):\n",
    "        if msc_cleaned['msc'][idx2] == m:\n",
    "            msc_cleaned['description'][idx2] = d.strip()\n",
    "    "
   ]
  },
  {
   "cell_type": "code",
   "execution_count": null,
   "metadata": {},
   "outputs": [],
   "source": [
    "# Split and add misplaced string back to ACM codes\n",
    "print(f'Before: {len(ccs_cleaned)}')\n",
    "acm_misplaced_string = '10010147.10010257.10010258.10010259.10010263'.split('.')\n",
    "for str in acm_misplaced_string:\n",
    "    ccs_cleaned.loc[-1] = str\n",
    "    ccs_cleaned.index = ccs_cleaned.index + 1\n",
    "    ccs_cleaned = ccs_cleaned.sort_index()\n",
    "print(f'After: {len(ccs_cleaned)}')"
   ]
  },
  {
   "cell_type": "code",
   "execution_count": null,
   "metadata": {},
   "outputs": [],
   "source": [
    "rem = msc_cleaned[msc_cleaned['description'].isnull()]['msc'].values\n",
    "rem = ['60-06', '68T05', '91E40', '92B25', '92F99', '35CXX', '97R60', '68-04',\n",
    "       '68T45', '68T07', '62h30', '97R40', '62-07', '68T04']\n",
    "found_rem = []\n",
    "for r in rem:\n",
    "    desc = msc_cleaned['description'][idx]\n",
    "    if r in msc_cleaned['msc'].values:\n",
    "        print(f'Found: {r}')\n",
    "        desc = msc_cleaned[msc_cleaned['msc'] == r]['description'].values[0]\n",
    "        print(f'Description: {desc}')\n",
    "        if desc is not None:\n",
    "            found_rem.append(r)\n",
    "    else:\n",
    "        print(f'Not found: {r}')"
   ]
  },
  {
   "cell_type": "code",
   "execution_count": null,
   "metadata": {},
   "outputs": [],
   "source": [
    "rem = set(rem) - set(found_rem)\n",
    "rem = list(rem)\n",
    "rem"
   ]
  },
  {
   "cell_type": "code",
   "execution_count": null,
   "metadata": {},
   "outputs": [],
   "source": [
    "# TODO: Descriptions should have main class >> sub class >> sub sub class"
   ]
  },
  {
   "cell_type": "code",
   "execution_count": null,
   "metadata": {},
   "outputs": [],
   "source": [
    "# Don't append before finishing TODO above\n",
    "missing_descriptions.append([['97R60', '97-XX Mathematics education'], \n",
    "                            ['92B25', '92-XX Biology and other natural sciences 92Bxx Mathematical biology in general 92B25 Biological rhythms and synchronization'],\n",
    "                            ['68T04', '68-XX Computer science 68Txx Artificial intelligence 68T05 Learning and adaptive systems in artificial intelligence'],\n",
    "                            ['97R40', '97-XX Mathematics education'],\n",
    "                            ['92F99', '92-XX Biology and other natural sciences 92Fxx Other natural sciences (mathematical treatment)'],\n",
    "                            ['62H30', '62-XX Statistics 62Hxx Multivariate analysis  62H30 Classification and discrimination; cluster analysis (statistical aspects); mixture models'],\n",
    "                            ['35CXX', '35Cxx Representations of solutions to partial differential equations']])"
   ]
  },
  {
   "cell_type": "code",
   "execution_count": null,
   "metadata": {},
   "outputs": [],
   "source": [
    "missing_descriptions"
   ]
  }
 ],
 "metadata": {
  "kernelspec": {
   "display_name": "Python 3",
   "language": "python",
   "name": "python3"
  },
  "language_info": {
   "codemirror_mode": {
    "name": "ipython",
    "version": 3
   },
   "file_extension": ".py",
   "mimetype": "text/x-python",
   "name": "python",
   "nbconvert_exporter": "python",
   "pygments_lexer": "ipython3",
   "version": "3.10.8"
  },
  "orig_nbformat": 4
 },
 "nbformat": 4,
 "nbformat_minor": 2
}
