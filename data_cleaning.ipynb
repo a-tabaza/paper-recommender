{
 "cells": [
  {
   "cell_type": "code",
   "execution_count": 1,
   "metadata": {},
   "outputs": [],
   "source": [
    "import pandas as pd \n",
    "import numpy as np\n",
    "import ast\n",
    "import re\n",
    "from bs4 import BeautifulSoup\n",
    "from tqdm import tqdm\n",
    "import torch\n",
    "from sentence_transformers import SentenceTransformer, util # type: ignore"
   ]
  },
  {
   "cell_type": "code",
   "execution_count": 4,
   "metadata": {},
   "outputs": [],
   "source": [
    "model = SentenceTransformer('msmarco-distilbert-base-tas-b')"
   ]
  },
  {
   "cell_type": "code",
   "execution_count": 2,
   "metadata": {},
   "outputs": [],
   "source": [
    "df = pd.read_csv(r'arxiv-paper-abstracts\\arxiv_data_210930-054931.csv')"
   ]
  },
  {
   "cell_type": "code",
   "execution_count": 3,
   "metadata": {},
   "outputs": [],
   "source": [
    "def clean_categories(categories):\n",
    "    tags = [tag.strip() for tag in ast.literal_eval(categories)]\n",
    "    return tags"
   ]
  },
  {
   "cell_type": "code",
   "execution_count": 4,
   "metadata": {},
   "outputs": [],
   "source": [
    "categories = pd.DataFrame(list(df['terms'].unique()),columns=['categories'])\n",
    "categories['clean_categories'] = categories['categories'].apply(clean_categories)"
   ]
  },
  {
   "cell_type": "code",
   "execution_count": 5,
   "metadata": {},
   "outputs": [],
   "source": [
    "tags = set()\n",
    "for index, row in categories.iterrows():\n",
    "    categories = row['clean_categories']\n",
    "    for category in categories:\n",
    "        tags.add(category)\n",
    "tags_df = pd.DataFrame(list(tags), columns=['tags'])"
   ]
  },
  {
   "cell_type": "code",
   "execution_count": 6,
   "metadata": {},
   "outputs": [],
   "source": [
    "tags = set()\n",
    "for index, row in tags_df.iterrows():\n",
    "    categories_str = row['tags']\n",
    "    categories_list = [category.strip() for category in categories_str.replace(',', ';').split(';')]\n",
    "    for category in categories_list:\n",
    "        tags.add(category)\n",
    "tags_df = pd.DataFrame(list(tags), columns=['tags'])"
   ]
  },
  {
   "cell_type": "code",
   "execution_count": 7,
   "metadata": {},
   "outputs": [],
   "source": [
    "tags = set()\n",
    "for index, row in tags_df.iterrows():\n",
    "    categories_str = row['tags']\n",
    "    categories_list = [category.strip() for category in categories_str.replace(',', ';').split(';')]\n",
    "    for category in categories_list:\n",
    "        if '(' in category and ')' in category:\n",
    "            subcategories = [subcat.strip() for subcat in category.split() if subcat[0].isdigit()]\n",
    "            for subcategory in subcategories:\n",
    "                tags.add(subcategory)\n",
    "        else:\n",
    "            tags.add(category)\n",
    "tags.discard('')"
   ]
  },
  {
   "cell_type": "code",
   "execution_count": 8,
   "metadata": {},
   "outputs": [
    {
     "name": "stdout",
     "output_type": "stream",
     "text": [
      "['eess.AS', 'K.4.4', '62J12', '68T30', 'q-bio.BM', 'cs.IT', '62H25', '68: computer science', '65Z05', '93E10', '37N99', '91B10', '62J10', 'q-fin.GN', '68P20', '62E10', '35K15', '65M99', '05C62', '51N05', '03D10', '05C60', '15A69', '90Cxx', '47B34', 'D.2.8', '37Nxx', 'math.NT', 'cs.ET', '14M25', 'H.3.3', '94A60', '60J27', 'G.1.0', 'cs.SC', 'physics.data-an', '53B20', 'hep-ph', '05C81', 'math.HO', 'cs.CR', 'physics.chem-ph', 'K.3.8', '14R10', '94A15', 'astro-ph.GA', '55N99', '55U99', '62-02', '62G09', '65N21', '91F20', '14F05', 'physics.med-ph', 'I.2.m', 'cs.DC', '91C20', 'I.2.1 Applications Expert Systems', '34C20', '62M15', 'cs.MM', 'I.1.2', '51K05', '60G60', '68W15', 'cs.SI', 'B.7.2', '65F30', '60J20', '44A12', '35A18', '62F15', 'cs.MS', '14M07', 'quant-ph', 'G.4', '62H99', 'physics.ed-ph', 'I.2.8', '06B99', 'I.6.8', '62H20', '68U10', '2010', '6804', '68U05', 'cs.LG', 'q-fin.CP', '14J26', 'D.4.6', '65Yxx', 'J.1', '62F25', 'E.0', '62C10', '62J07', '92B20', 'nlin.CG', 'I.4.6', '49Q22', 'math.ST', '46M40', 'math.CA', '68T42', 'I.6.6', 'E.3', '65L05', 'I.4.4', '05C80', '62D05', '60', 'I.1.3', '05C70', '65D05', '68-01', '68N30', '49M37', 'I5.3', 'math.AT', '62G86', '68W05', '34A99', '60C05', '90C90', '94A08', 'I.2.7.g', '68M25', '15A60', '68T40', '68T04', '58J35', 'cs.AI', 'physics.acc-ph', 'I.2.0', 'I.7.1', '55R35', '62R01', '68U35', '62R40', '92C50', 'F.1.1', '68W40', '60H05', 'I.4.0', '68T01', '35-XX', 'C.4.4', '11Z05', 'I.4', 'G.1.6', '05C50', 'K.3.m', 'Computing methodologies for image processing', '60H99', '92D20', '65C30', '62M20', 'cs.DB', 'math.AG', 'cs.OS', 'physics.bio-ph', '42B35', 'K.4', 'physics.comp-ph', 'I.3', 'I.7', 'G.1.4', '90C06', 'I.2', 'q-fin.PR', '35R02', '65M06', '46M15', 'I.4.8', '35Q74', '90-01', 'q-bio.MN', '60J25', 'I.5.5', '00-02', 'C.4', 'Computer science applications- 97R60 Computer graphics', 'H.2.8', '30C40', '93E35', '68T05', 'math.CV', 'q-bio.NC', '62B10', 'H.1.1', '68U20', 'H.5', 'eess.SY', '65Dxx', '91B16', '90C59', '91A20', '65C60', '65F50', '41A65', 'E.5', '68T50', 'physics.soc-ph', '93E03', 'G.1.2', 'I.1.4', '91G70', 'I.6.5', 'G.2', '65Zxx', '33E10', 'I.4.m I.2.7', 'math.OA', '74S30', 'I.7.5', 'physics.app-ph', 'E.4', '62G05', '03G10', '78', '68W25', 'F.2.1', 'cs.NE', '54E05', '94A34', 'H.5.5', '68T20', 'I.5', '62h30', 'I.4.3', '62M09', '91E40', 'cs.AR', '80A30', 'q-bio.CB', 'H.5.0', '62G35', '35K08', 'G.1.3', 'cs.HC', 'astro-ph.EP', '35J08', 'stat.OT', 'math.OC', '70-08', '68Q32', 'cs.LO', 'I.6', '91-08', 'A.1', '62P35', '65C20', '90C22', '65T60', 'I.4.m', '93B50', 'math.MP', '68W27', 'I.3.5', 'I.5.1', '62G99', '90B18', 'hep-lat', '65R32', 'math.PR', '35J15', 'stat.CO', 'I.4.9', '30E05', 'J.3', 'econ.EM', 'J.0', 'cs.DL', '90C25', 'F.2.0', '47A58', '65F22', 'I.4.1', 'physics.space-ph', '93B30', '90C20', 'math.MG', 'cs.MA', 'F.2', '62P30', 'I.2.4', '68T99', '37M05', '68T07', '60D05', '91C99', '97C30', '54H30', 'I.3.0', '68T05', 'F.4.1', '00B25', '47A60', 'C.2.1', '60J05', 'I.3.7', '93B35', 'F.m', '60G15', '14Q15', '62H35', 'physics.geo-ph', '76D07', 'q-bio.TO', '62J99', 'math.SP', '62J10', '65J22', '53A17', 'I.5.0', '62H15', '05C85', '41A30', '68T01', 'cs.CY', 'physics.class-ph', '74S05', '92B99', '14M15', 'cs.SE', '03-04', 'cs.SY', '91Bxx', 'I.2.0.b', 'physics.ins-det', '74Q15', '62H12', '35A15', '68T10', '62-07l', '00Bxx', 'I.3.8', 'J.2.5', '68Q42', 'econ.TH', '47N10', 'cs.RO', '62F35', '68R10', 'I.2.5', '49N45', '16G20', '60L10', 'I.4.10', '65C50', 'stat.ME', '62F40', '60-08', '62L10', '68P15', '92E10', 'cs.DM', '60L20', 'math.CO', '62A09', 'cs.IR', 'J.5', 'nlin.CD', '05C99', '37N30', '90C08', 'C.2.6', '68W99', '49-11', 'I.5.4.b', 'physics.optics', '28A33', '42C40', '35K57', '37H99', '11J71', 'J.4', '60G10', '91A12', 'J.7', '03B65', '41A10', '65C05', '05A16', '68Txx', '62F07', 'hep-th', '68T05 91E40', '37N35', 'G.2.6', '92B20', 'H.4.0', '65K10', '65R30', '62F03', '74Pxx', '92', '90C40', '91D30', '51M20', 'stat.TH', 'cs.NA', '49L20', 'I.6.3', 'H.5.2', '91B08', 'F.1.3', '37G05', 'q-fin.EC', 'q-fin.PM', 'math.NA', '90C10', '91A80', 'D.2.11', 'cs.DS', 'D.2.2', '62P99', '62H30', '65F55', '93B15', '65K05', 'physics.pop-ph', 'physics.plasm-ph', 'J.6', 'H.1.2', '6006', '68N20', '62C05', '10010147.10010257.10010258.10010259.10010263', '90B99', 'D.1.3', 'G.1', 'G.2.3', '62G20', '94', '68U99', 'B.m', '62G32', '37M25', 'hep-ex', '58J90', 'C.2', '62B86', '60-06', 'B.5.1', '26B40', '35CXX', '86A10', 'H.2.4', '86-04', 'nlin.AO', '62G08', '41A63', 'cs.CC', '62R07', 'F.2.4', 'I.2.7', 'eess.SP', 'I.2.2', '90C46', 'math.DG', 'G.2.2', '68T45 68T07', '62H17', '37M10', '53A04', 'cs.CL', '65L07', '60B20', 'cs.NI', '62J02', 'I.5.2.b', '2020: 49N45', '49-06', '46E22', '60G55', '74A40', '93E12', '65M20', 'I.2.1', '06A15', 'D.2.0', 'cs.SD', '55U10', '65C10', 'G.2.1', 'nlin.PS', 'ams.org', '90C26', 'I.3.4', '35J20', 'cond-mat.dis-nn', '35B50', '76S05', 'K.5.2', 'J.2.4', 'cs.PL', 'math.AC', '90C30', 'gr-qc', 'cond-mat.stat-mech', '62', '62P10', '60G09', '82B20', '62F12', '49M41', '93C41', '90-06', '54F45', 'cs.PF', '92B25 92F99', 'math.RA', 'J.3.1', '93', '97P30', '90-05', '41A05', 'cond-mat.other', '68U15', 'cond-mat.mtrl-sci', 'D.2.5', '68W01', '62H22', 'cs.GT', 'I.3.3', 'astro-ph.HE', '60G40', '90-10', '49', 'B.7.1', 'I.2.10', 'math.AP', '65D17', '65D18', 'B.4.2', 'H.4.m', '62M05', '65M55', '06A06', 'I.5.4', 'I.2.10.f', '15B48', '49N30', '93E20', '74L10', '68Q87', '94A17', 'C.2.2', '68T37', '37E25', '60J22', '65N12', '46N30', 'math.GT', 'G.3.11', '49N10', 'H.2.0', '65M12', '68U01', '65M22', 'I.6.4', '60G99', '68-04', 'q-bio.OT', '47B32', '26A33', '62-07', 'D.3.4', 'I.4.5', 'q-fin.RM', '65F15', '65D15', '49J20', '68P30', 'adap-org', '62G07', '92-XX', '35Q68', 'nucl-th', '57Z25', 'astro-ph.IM', '34H05', '65D10', '65T50', 'I.4.7', '68W10', 'math.FA', '90C35', 'J.2.', 'G.1.8', 'D.3.2', '47G20', '35K55', '68T09', '82C32', '93Cxx', 'cs.OH', '62M40', '62P12', '93C85', '65Kxx', '14L24', '90C17', 'H.4.2', 'H.5.1', '68T27', '53A20', '94C15', 'cs.CE', '62-09', '68Q25', '05C21', 'G.3.7', '62P10', '65N99', '68', '35J47', '49J55', 'math.DS', 'F.2.2', '91E30', '62M45', '90C05', '60J10', '97N80', 'I.2.6', '91A60', '35P15', 'H.2', 'F.4.2', '91-10', 'cs.FL', 'H.3', 'cond-mat.soft', '60K35', '62-08', 'q-fin.TR', '46M20', 'Artificial intelligence', '62J05', '91G80', 'K.3.2', '68Wxx', '54E40', 'C.1.3', '76T99', '62M10', '90C27', 'q-bio.PE', '68W50', 'I.5.3', '68T45', '35J50', 'nucl-ex', 'E.2', 'C.3', '05B45', 'I.2.9', '49M29', '42-08', 'I.5.2', 'q-bio.GN', 'J.2', 'cond-mat', '03B70', '15A63', '65N06', 'math.IT', 'C.2.4', 'F.3.1', '94-02', '68Tx', 'cond-mat.str-el', '62D20', '60E05', '62F10', 'q-bio.QM', '68-06', 'physics.ao-ph', '62G10', '46E30', 'D.2', 'q-fin.MF', '53Z50', '76M10', '97R40', 'cs.GR', 'I.2.11', '05C20', '68P99', '55N31', 'org', 'math.GR', 'stat.ML', 'math.RT', '62P15', '86-08', 'math.CT', '35Q84', 'astro-ph.SR', '81Pxx', '11Y16', '62-XX', '68U10', 'I.2.4.j', '68T07', 'H.2.7', '15A29', '35Q79', 'math-ph', '94A12', '14T10', '90', '15A83', 'econ.GN', 'H.0', '49Q10', 'cond-mat.mes-hall', '90B22', 'math.GN', 'H.4', '46N10', '57-08', 'astro-ph', '65S05', '62M02', '41A52', '91B84', 'cs.CG', '91A06', '74L05', 'I.1.5', 'This paper tells us how human can be identified by their Gait cycle\\n  using any simple camera', '92C55', 'math.LO', 'G.3', '49M15', '60G35', '68-XX', 'E.1', 'I.0', '68Q55', '68R99', '90-08', '41A46', 'I.3.6', 'I.5.4.m', 'H.3.1', 'I.4.2', '60H30', '00', 'K.4.2', 'stat.AP', '15A06', '62C99', '14J60', '74B05', 'I.2.3', '58D10', '52C25', '92C55', 'astro-ph.CO', '58E30', 'q-fin.ST', '65D19', '43A32', '78M32', 'J.m', 'H.3.4', '47G30', '47N30', 'eess.IV', '03B52', '62E17', 'cs.CV', 'physics.flu-dyn']\n"
     ]
    }
   ],
   "source": [
    "tags_list = []\n",
    "for tag in tags:\n",
    "    tag = tag.replace('(Primary)', '')\n",
    "    tag = tag.replace('Primary', '')\n",
    "    tag = tag.replace('(Secondary)', '')\n",
    "    tag = tag.replace('(secondary)', '')\n",
    "    tag = tag.replace('secondary', '')\n",
    "    tag = tag.replace('Secondary', '')\n",
    "    tag = tag.replace('and ', '')\n",
    "    tags_list.append(tag.strip())\n",
    "print(tags_list)"
   ]
  },
  {
   "cell_type": "code",
   "execution_count": 9,
   "metadata": {},
   "outputs": [],
   "source": [
    "# create empty lists for each classification\n",
    "msc = set()\n",
    "ccs = set()\n",
    "arxiv = set()\n",
    "misc = set()\n",
    "\n",
    "for tag in tags_list:\n",
    "    if re.match(r'\\d{2}[A-Z]\\d{2}|\\d{2}[A-Z]-xx|\\d{2}\\w{2,}', tag):\n",
    "        msc.add(tag)\n",
    "    elif re.match(r'\\d{2}-\\d{2}|\\d{2}-xx|\\d{2}-XX', tag):\n",
    "        msc.add(tag)\n",
    "    elif re.match(r'\\d{2}', tag):\n",
    "        msc.add(tag)\n",
    "    elif re.match(r'[A-Z]\\.\\d\\.\\d', tag):\n",
    "        ccs.add(tag)\n",
    "    elif re.match(r'[A-Z]\\.\\d', tag):\n",
    "        ccs.add(tag)\n",
    "    elif re.match(r'[A-Z]\\d\\.\\d', tag):\n",
    "        ccs.add(tag)\n",
    "    elif re.match(r'\\w+\\.\\w+', tag):\n",
    "        arxiv.add(tag)\n",
    "    elif re.match(r'\\w+-\\w+\\.\\w+-\\w+', tag):\n",
    "        arxiv.add(tag)\n",
    "    elif re.match(r'\\w+-\\w+\\.\\w+', tag):\n",
    "        arxiv.add(tag)\n",
    "    elif re.match(r'\\w+-\\w+', tag):\n",
    "        arxiv.add(tag)\n",
    "    else:\n",
    "        misc.add(tag)"
   ]
  },
  {
   "cell_type": "code",
   "execution_count": 11,
   "metadata": {},
   "outputs": [
    {
     "name": "stdout",
     "output_type": "stream",
     "text": [
      "MSC: 453\n",
      "CCS: 162\n",
      "ArXiv: 149\n",
      "Misc: 5\n"
     ]
    }
   ],
   "source": [
    "print(f'MSC: {len(msc)}\\nCCS: {len(ccs)}\\nArXiv: {len(arxiv)}\\nMisc: {len(misc)}')"
   ]
  },
  {
   "attachments": {},
   "cell_type": "markdown",
   "metadata": {},
   "source": [
    "**Contents of misc:**\n",
    "- Artificial intelligence': corresponds to 68Txx\n",
    "- Computer science applications- 97R60 Computer graphics': corresponds to 97R60\n",
    "- Computing methodologies for image processing': corresponds to 68U10\n",
    "- This paper tells us how human can be identified by their Gait cycle\\n  using any simple camera': dropped\n",
    "- org: dropped"
   ]
  },
  {
   "cell_type": "code",
   "execution_count": 12,
   "metadata": {},
   "outputs": [],
   "source": [
    "msc.add('97R60')\n",
    "del misc"
   ]
  },
  {
   "cell_type": "code",
   "execution_count": 13,
   "metadata": {},
   "outputs": [],
   "source": [
    "msc_cleaned = pd.DataFrame(list(msc), columns=['msc'])\n",
    "ccs_cleaned = pd.DataFrame(list(ccs), columns=['ccs'])\n",
    "arxiv_cleaned = pd.DataFrame(list(arxiv), columns=['arxiv'])"
   ]
  },
  {
   "attachments": {},
   "cell_type": "markdown",
   "metadata": {},
   "source": [
    "#### Retrieve Descriptions for Each Tag"
   ]
  },
  {
   "cell_type": "code",
   "execution_count": 14,
   "metadata": {},
   "outputs": [
    {
     "data": {
      "text/html": [
       "<div>\n",
       "<style scoped>\n",
       "    .dataframe tbody tr th:only-of-type {\n",
       "        vertical-align: middle;\n",
       "    }\n",
       "\n",
       "    .dataframe tbody tr th {\n",
       "        vertical-align: top;\n",
       "    }\n",
       "\n",
       "    .dataframe thead th {\n",
       "        text-align: right;\n",
       "    }\n",
       "</style>\n",
       "<table border=\"1\" class=\"dataframe\">\n",
       "  <thead>\n",
       "    <tr style=\"text-align: right;\">\n",
       "      <th></th>\n",
       "      <th>msc</th>\n",
       "    </tr>\n",
       "  </thead>\n",
       "  <tbody>\n",
       "    <tr>\n",
       "      <th>0</th>\n",
       "      <td>62J12</td>\n",
       "    </tr>\n",
       "    <tr>\n",
       "      <th>1</th>\n",
       "      <td>68T30</td>\n",
       "    </tr>\n",
       "    <tr>\n",
       "      <th>2</th>\n",
       "      <td>62H25</td>\n",
       "    </tr>\n",
       "    <tr>\n",
       "      <th>3</th>\n",
       "      <td>68: computer science</td>\n",
       "    </tr>\n",
       "    <tr>\n",
       "      <th>4</th>\n",
       "      <td>65Z05</td>\n",
       "    </tr>\n",
       "    <tr>\n",
       "      <th>...</th>\n",
       "      <td>...</td>\n",
       "    </tr>\n",
       "    <tr>\n",
       "      <th>449</th>\n",
       "      <td>78M32</td>\n",
       "    </tr>\n",
       "    <tr>\n",
       "      <th>450</th>\n",
       "      <td>47G30</td>\n",
       "    </tr>\n",
       "    <tr>\n",
       "      <th>451</th>\n",
       "      <td>47N30</td>\n",
       "    </tr>\n",
       "    <tr>\n",
       "      <th>452</th>\n",
       "      <td>03B52</td>\n",
       "    </tr>\n",
       "    <tr>\n",
       "      <th>453</th>\n",
       "      <td>62E17</td>\n",
       "    </tr>\n",
       "  </tbody>\n",
       "</table>\n",
       "<p>454 rows × 1 columns</p>\n",
       "</div>"
      ],
      "text/plain": [
       "                      msc\n",
       "0                   62J12\n",
       "1                   68T30\n",
       "2                   62H25\n",
       "3    68: computer science\n",
       "4                   65Z05\n",
       "..                    ...\n",
       "449                 78M32\n",
       "450                 47G30\n",
       "451                 47N30\n",
       "452                 03B52\n",
       "453                 62E17\n",
       "\n",
       "[454 rows x 1 columns]"
      ]
     },
     "execution_count": 14,
     "metadata": {},
     "output_type": "execute_result"
    }
   ],
   "source": [
    "msc_cleaned"
   ]
  },
  {
   "cell_type": "code",
   "execution_count": 20,
   "metadata": {},
   "outputs": [],
   "source": [
    "msc_codes = pd.read_csv(r'msc_classification.csv')\n",
    "acm_codes = pd.read_csv(r'acm_classification.csv')"
   ]
  },
  {
   "cell_type": "code",
   "execution_count": 21,
   "metadata": {},
   "outputs": [
    {
     "name": "stdout",
     "output_type": "stream",
     "text": [
      "68: computer science\n",
      "14F05\n",
      "65F30\n",
      "2010\n",
      "6804\n",
      "68T04\n",
      "68U20\n",
      "65C60\n",
      "74S30\n",
      "62h30\n",
      "62-07l\n",
      "65C50\n",
      "68T05 91E40\n",
      "6006\n",
      "10010147.10010257.10010258.10010259.10010263\n",
      "35CXX\n",
      "68T45 68T07\n",
      "2020: 49N45\n",
      "92B25 92F99\n",
      "62-07\n",
      "62-09\n",
      "97R60\n",
      "68Tx\n",
      "97R40\n"
     ]
    }
   ],
   "source": [
    "for code in msc_cleaned['msc']:\n",
    "    if code not in msc_codes['code'].values:\n",
    "        print(code)"
   ]
  },
  {
   "cell_type": "code",
   "execution_count": 22,
   "metadata": {},
   "outputs": [
    {
     "name": "stdout",
     "output_type": "stream",
     "text": [
      "J.2.\n",
      "G.3.7\n",
      "I.4.m I.2.7\n",
      "K.3.8\n",
      "F.2.4\n",
      "I.5.2.b\n",
      "J.2.4\n",
      "J.3.1\n",
      "I5.3\n",
      "I.2.4.j\n",
      "I.2.7.g\n",
      "I.2.0.b\n",
      "J.2.5\n",
      "C.4.4\n",
      "I.1.5\n",
      "I.2.10.f\n",
      "I.5.4.m\n",
      "I.2.1 Applications Expert Systems\n",
      "G.3.11\n",
      "I.5.4.b\n",
      "G.2.6\n"
     ]
    }
   ],
   "source": [
    "for code in ccs_cleaned['ccs']:\n",
    "    if code not in acm_codes['class'].values:\n",
    "        print(code)"
   ]
  }
 ],
 "metadata": {
  "kernelspec": {
   "display_name": "Python 3",
   "language": "python",
   "name": "python3"
  },
  "language_info": {
   "codemirror_mode": {
    "name": "ipython",
    "version": 3
   },
   "file_extension": ".py",
   "mimetype": "text/x-python",
   "name": "python",
   "nbconvert_exporter": "python",
   "pygments_lexer": "ipython3",
   "version": "3.11.3"
  },
  "orig_nbformat": 4
 },
 "nbformat": 4,
 "nbformat_minor": 2
}
