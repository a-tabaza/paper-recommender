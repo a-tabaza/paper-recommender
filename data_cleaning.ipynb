{
 "cells": [
  {
   "cell_type": "code",
   "execution_count": 3,
   "metadata": {},
   "outputs": [],
   "source": [
    "import pandas as pd \n",
    "import numpy as np\n",
    "import ast\n",
    "import re\n",
    "from bs4 import BeautifulSoup\n",
    "from tqdm import tqdm\n",
    "import PyPDF2 # type: ignore\n",
    "from sentence_transformers import SentenceTransformer, util # type: ignore"
   ]
  },
  {
   "cell_type": "code",
   "execution_count": 4,
   "metadata": {},
   "outputs": [],
   "source": [
    "model = SentenceTransformer('msmarco-distilbert-base-tas-b')"
   ]
  },
  {
   "attachments": {},
   "cell_type": "markdown",
   "metadata": {},
   "source": [
    "#### Embedding Demo"
   ]
  },
  {
   "cell_type": "code",
   "execution_count": 5,
   "metadata": {},
   "outputs": [],
   "source": [
    "def clean_categories(categories):\n",
    "    tags = [tag.strip() for tag in ast.literal_eval(categories)]\n",
    "    return tags"
   ]
  },
  {
   "cell_type": "code",
   "execution_count": 6,
   "metadata": {},
   "outputs": [],
   "source": [
    "df = pd.read_csv(r'arxiv-paper-abstracts\\arxiv_data_210930-054931.csv')\n",
    "categories = pd.DataFrame(list(df['terms'].unique()),columns=['categories'])\n",
    "categories['clean_categories'] = categories['categories'].apply(clean_categories)\n",
    "tags = set()\n",
    "for index, row in categories.iterrows():\n",
    "    categories = row['clean_categories']\n",
    "    for category in categories:\n",
    "        tags.add(category)\n",
    "tags_df = pd.DataFrame(list(tags), columns=['tags'])\n",
    "tags = set()\n",
    "for index, row in tags_df.iterrows():\n",
    "    categories_str = row['tags']\n",
    "    categories_list = [category.strip() for category in categories_str.replace(',', ';').split(';')]\n",
    "    for category in categories_list:\n",
    "        tags.add(category)\n",
    "tags_df = pd.DataFrame(list(tags), columns=['tags'])\n",
    "tags = set()\n",
    "for index, row in tags_df.iterrows():\n",
    "    categories_str = row['tags']\n",
    "    categories_list = [category.strip() for category in categories_str.replace(',', ';').split(';')]\n",
    "    for category in categories_list:\n",
    "        if '(' in category and ')' in category:\n",
    "            subcategories = [subcat.strip() for subcat in category.split() if subcat[0].isdigit()]\n",
    "            for subcategory in subcategories:\n",
    "                tags.add(subcategory)\n",
    "        else:\n",
    "            tags.add(category)\n",
    "tags.discard('')"
   ]
  },
  {
   "cell_type": "code",
   "execution_count": 7,
   "metadata": {},
   "outputs": [],
   "source": [
    "abstracts = df['abstracts']"
   ]
  },
  {
   "cell_type": "code",
   "execution_count": 10,
   "metadata": {},
   "outputs": [
    {
     "name": "stderr",
     "output_type": "stream",
     "text": [
      " 18%|█▊        | 10148/56181 [53:17<7:31:01,  1.70it/s]"
     ]
    }
   ],
   "source": [
    "abstracts_embedding = []\n",
    "for abstract in tqdm(abstracts):\n",
    "    abstracts_embedding.append(model.encode(abstract))"
   ]
  },
  {
   "cell_type": "code",
   "execution_count": null,
   "metadata": {},
   "outputs": [],
   "source": [
    "query = 'computer vision uses in mathematics'"
   ]
  },
  {
   "cell_type": "code",
   "execution_count": null,
   "metadata": {},
   "outputs": [],
   "source": [
    "query_emb = model.encode(query)\n"
   ]
  },
  {
   "cell_type": "code",
   "execution_count": null,
   "metadata": {},
   "outputs": [],
   "source": []
  },
  {
   "attachments": {},
   "cell_type": "markdown",
   "metadata": {},
   "source": [
    "### Tag Cleaning and Embeddings"
   ]
  },
  {
   "cell_type": "code",
   "execution_count": 4,
   "metadata": {},
   "outputs": [
    {
     "name": "stdout",
     "output_type": "stream",
     "text": [
      "['62J99', 'J.2', '46N30', '62', '62G99', '2010', '92B25 92F99', 'F.2.1', '68T05 91E40', '90C40', '65T60', '68Q42', '65L07', '62-XX', 'cs.CC', '10010147.10010257.10010258.10010259.10010263', '62G20', 'physics.ins-det', 'cs.DS', '62M40', 'cs.CV', '91Bxx', '93B35', '60J27', '91A20', 'nucl-ex', '65C50', '60K35', '34H05', '91A80', 'J.7', '68T07', 'physics.acc-ph', '62B10', '57Z25', '92', '68T37', '60G99', 'G.2.6', '82C32', 'math.GN', 'H.3.4', '15B48', '41A65', '65Z05', 'econ.TH', 'H.5', 'cs.SY', 'econ.GN', 'I.3.5', 'E.1', '65N06', '94', '54H30', '35J20', '68T45 68T07', 'F.2.2', 'hep-lat', 'cs.MA', '14J60', '60G15', '65F22', '91B10', '81Pxx', '60H99', 'I.4.10', '62P12', 'adap-org', '91A06', '46M40', 'q-fin.TR', '49', '91A60', 'H.4', '93E20', '65R32', 'cs.CG', 'nucl-th', '65T50', '05A16', '15A29', '06A15', 'E.0', '91G70', '65J22', 'I.2', '35Q68', '41A05', '49Q10', 'I.4.6', '62R07', 'K.3.m', 'G.1.8', '68W40', '68W27', '35J08', '60G10', '62J10', '11Z05', 'J.0', '76T99', '65Kxx', 'H.2.7', '49M41', '30C40', '68-XX', '68T10', 'H.5.0', '68U05', '51K05', '35CXX', '62J10', 'I.5.0', 'I.2.7', 'cond-mat.mtrl-sci', '26A33', 'cs.IT', '68R10', '37M25', '57-08', 'G.3.7', '94A12', 'I.5.2.b', 'cs.SD', 'C.2', '93B50', 'I.4', '47A60', '00Bxx', '65K10', 'physics.pop-ph', '62-07l', '47B32', '62F35', 'physics.flu-dyn', '68U01', 'Artificial intelligence', '68W10', '52C25', 'G.3', 'I.4.2', 'math.MP', 'astro-ph.EP', '93B30', 'I.4.8', '62F15', '26B40', 'I.2.4.j', 'cond-mat.soft', 'J.1', 'D.3.4', '65N12', '49L20', 'q-fin.CP', '76M10', '94A34', 'F.1.3', '35Q79', 'I.5.1', 'astro-ph.SR', '68-04', 'B.4.2', '05C60', '43A32', '65N99', 'I.6.6', '65D15', '62R40', '65M22', '14J26', '62-02', '49M29', '35-XX', 'J.2.4', '35R02', '62-08', '62A09', '62J05', 'q-bio.NC', '92B20', '62P10', 'D.4.6', '34A99', '2020: 49N45', '68T09', '60J20', '62P30', 'I.7.1', '60C05', '05C20', 'I.2.10', '49-06', '68N30', 'q-bio.QM', '28A33', 'D.3.2', '68T27', '90-06', '62H25', 'cs.OS', '86A10', '6006', 'I.3.3', 'physics.class-ph', 'K.3.8', 'A.1', 'G.3.11', 'I.2.5', '46M20', 'G.1.6', '62D05', '14R10', '68U35', 'H.3.3', 'H.5.1', 'H.5.5', '55R35', 'H.5.2', 'math.CA', 'E.5', 'I.4.9', '62R01', '05C80', '03B65', '15A06', 'math.RA', '97C30', 'I.1.5', '74S30', '00-02', '41A10', '05C81', '55U10', '62-09', 'q-fin.ST', '92C55', '65C20', '68T30', '92E10', 'cs.DB', 'q-fin.EC', 'cond-mat.mes-hall', 'D.2.5', 'H.2', 'I.4.3', '14Q15', 'K.3.2', '68Q87', '65Zxx', '42C40', '60G55', 'cond-mat.other', 'I.5.5', 'cs.IR', '11J71', '92B20', 'G.1.3', 'math.GR', 'C.3', '35K15', '90', 'cs.LG', '49J55', '68T05', 'B.7.1', '55N99', 'D.2.8', 'I.6', '68Q32', '97N80', 'I.2.6', '65D18', '65C05', 'D.2.2', '68T45', 'q-bio.OT', '91C99', '68R99', 'I.6.5', 'I.3', '51M20', '62G08', 'K.4', '35P15', 'H.2.8', 'cs.DC', '62J12', 'Computer science applications- 97R60 Computer graphics', '68P99', 'J.2.', '93B15', '05C99', '62M05', '49N45', 'cs.PL', 'I.4.1', 'q-fin.MF', '58J35', '91A12', '62F25', '62H15', '47G30', 'physics.app-ph', 'I.2.1 Applications Expert Systems', '05C85', '65K05', '74B05', '68T04', '41A52', '62F40', '05C70', 'E.2', '53Z50', '65F55', 'F.3.1', '90C26', 'cs.CY', 'D.2.0', '91-10', '90C05', '11Y16', 'F.4.1', 'I.6.4', '41A30', '49Q22', '49N10', 'I.2.11', '90C30', '65M12', 'gr-qc', 'I.4.5', '90C10', '62E17', '90C17', '62P15', 'math-ph', 'J.3', '46E22', 'cs.MM', '92B99', '62-07', '62H22', 'org', '90C25', '49M37', '37H99', 'physics.ao-ph', '76S05', 'F.2.4', 'E.4', 'C.1.3', 'math.IT', 'physics.med-ph', 'I.2.10.f', '35K57', '90C90', 'H.3', '62F03', '90B22', '74A40', '00B25', '55U99', 'J.3.1', '62h30', '00', 'G.1.0', '46E30', 'cs.SI', '41A63', '65S05', '03B70', 'math.CO', '65M99', '74L10', 'astro-ph.HE', 'cs.CE', '94A60', '60G09', '62F12', '91G80', '65D17', '14M07', '35Q84', '62J07', 'H.1.1', 'math.OA', '68T42', 'physics.space-ph', '68: computer science', '65C30', '62M10', 'cs.SE', 'cs.OH', '16G20', '65M06', 'I.2.0.b', 'math.AT', 'I.5.2', '62P99', '68T40', '37N99', '62L10', '68Txx', 'I.6.3', '60G40', '93E35', 'cs.NE', 'astro-ph.IM', 'q-bio.TO', '94A17', 'cs.DL', '14L24', 'stat.OT', '60J25', '55N31', '54E40', 'D.2.11', 'C.2.2', '68Tx', 'H.4.m', '78M32', '15A60', '68T07', 'math.CV', '03B52', 'cs.RO', 'q-fin.PR', '62H30', 'stat.ML', '60H30', '53A20', 'cs.AI', 'q-bio.MN', '60J05', 'cs.ET', 'Computing methodologies for image processing', 'K.4.2', '37E25', 'physics.bio-ph', 'I.2.m', 'G.2', 'D.1.3', 'H.2.0', '68T01', '86-08', 'I.2.2', '65M20', 'q-fin.RM', 'q-fin.PM', '94-02', '65D10', '65C60', 'astro-ph', '47A58', '47B34', '05C62', '54F45', '44A12', '65L05', 'cond-mat.str-el', '60-06', 'I.2.7.g', '51N05', '62H20', 'F.4.2', 'math.OC', '35B50', '37Nxx', 'math.FA', '62B86', '94C15', '68U15', '62M09', 'q-bio.CB', '94A08', '35K08', '92D20', 'quant-ph', 'cond-mat', '74L05', '93C41', '35Q74', 'cs.CR', '60L10', '68W99', '65F50', 'math.PR', 'cs.AR', 'cs.GT', '68Q25', '60-08', '14F05', 'B.7.2', 'G.1.4', 'nlin.AO', 'stat.TH', '90-10', 'F.2.0', 'G.4', 'I.4.7', '60J10', 'C.4', '62G86', 'cs.CL', 'I.2.0', '15A83', '90Cxx', '60G60', 'cs.HC', 'nlin.CG', 'H.1.2', 'This paper tells us how human can be identified by their Gait cycle\\n  using any simple camera', '65M55', '47N10', '62H12', 'E.3', '62M45', 'G.1.2', '70-08', 'H.4.0', 'C.2.4', '68N20', '60D05', '62F07', '68Wxx', 'physics.chem-ph', 'nlin.CD', 'K.4.4', 'stat.AP', 'F.1.1', 'physics.optics', 'I.3.6', 'cs.NA', 'I.5.3', '91-08', '97R40', 'H.2.4', '65F15', '68U10', 'G.2.3', '62E10', 'F.2', '35K55', '15A69', 'J.2.5', '62H17', '41A46', '62H99', '86-04', '03D10', '14M25', 'cs.LO', '65D19', '62F10', 'I.1.4', '35A18', '62G09', 'physics.comp-ph', '60G35', '68U20', '90C22', '65D05', '62D20', 'math.RT', '14T10', 'econ.EM', 'hep-th', '05C21', '60', 'stat.ME', '30E05', '68W50', '49-11', 'I.6.8', 'physics.data-an', '53A17', 'math.CT', '65C10', 'I.2.8', 'C.4.4', '92-XX', '60H05', 'H.0', 'cs.GR', '65F30', 'q-bio.PE', '37M05', 'B.m', 'nlin.PS', '14M15', 'G.2.2', '97P30', '68T05', '90C20', 'math.HO', 'I.4.m', 'G.2.1', '68W01', 'J.m', 'I.7', '33E10', '62G32', 'ams.org', '92C50', '62C10', 'I.1.2', '93E03', 'cond-mat.stat-mech', 'C.2.1', '62G10', 'hep-ph', '35J50', 'I.3.4', '60E05', 'H.3.1', '60B20', '53B20', '91B84', 'eess.SP', 'math.NT', '90C08', 'I.2.3', 'I.4.0', 'I.2.1', '68', 'cs.MS', '68W15', 'q-bio.BM', '65N21', 'math.AP', '62J02', 'I.3.7', '80A30', '90C06', '78', 'q-fin.GN', '62G05', 'I.7.5', 'cs.PF', 'I.5.4', '74S05', '49J20', 'D.2', '35J15', 'I.4.4', '62C99', '03-04', '68T20', '62M15', 'B.5.1', 'math.NA', '34C20', 'I.2.9', '68P30', '93', 'C.2.6', 'J.6', '93E12', 'eess.AS', '68U10', 'cond-mat.dis-nn', '90C27', 'cs.NI', '58J90', 'cs.FL', '68Q55', '90-05', '42-08', 'I.3.0', '68-06', '91E40', '82B20', '37M10', '62C05', '35A15', 'q-bio.GN', 'math.AG', '05C50', '37N35', '68T99', '05B45', '46N10', '74Q15', '6804', 'cs.SC', 'J.4', '58D10', '49N30', 'I.2.4', '47G20', '60J22', 'I.5', 'physics.plasm-ph', 'J.5', '94A15', 'G.1', '93C85', '90C46', '49M15', '76D07', '68M25', 'I.5.4.m', 'math.LO', '03G10', 'math.SP', '90C35', '91D30', '68-01', '62M20', 'I5.3', 'astro-ph.CO', '91E30', 'physics.ed-ph', 'I.1.3', '06B99', '68W05', '62P10', 'stat.CO', '68T50', 'hep-ex', '91F20', '62G35', '93E10', '90C59', '60L20', 'cs.DM', 'eess.IV', 'math.DS', '68U99', 'math.MG', 'I.0', 'astro-ph.GA', '68P15', '54E05', '65Yxx', 'I.5.4.b', '46M15', '90-01', '68T01', '92C55', 'H.4.2', 'F.m', '06A06', '62G07', '37G05', '91C20', '47N30', '90B99', '53A04', 'math.ST', '15A63', 'math.GT', '93Cxx', '68P20', '58E30', '62P35', '65Dxx', 'I.4.m I.2.7', '90B18', 'I.3.8', '74Pxx', '37N30', 'math.DG', 'eess.SY', '35J47', 'physics.geo-ph', '90-08', '91B08', '62H35', '68W25', 'math.AC', '62M02', 'K.5.2', '65R30', '42B35', 'physics.soc-ph', '91B16']\n"
     ]
    }
   ],
   "source": [
    "tags_list = []\n",
    "for tag in tags:\n",
    "    tag = tag.replace('(Primary)', '')\n",
    "    tag = tag.replace('Primary', '')\n",
    "    tag = tag.replace('(Secondary)', '')\n",
    "    tag = tag.replace('(secondary)', '')\n",
    "    tag = tag.replace('secondary', '')\n",
    "    tag = tag.replace('Secondary', '')\n",
    "    tag = tag.replace('and ', '')\n",
    "    tags_list.append(tag.strip())\n",
    "print(tags_list)"
   ]
  },
  {
   "cell_type": "code",
   "execution_count": 5,
   "metadata": {},
   "outputs": [],
   "source": [
    "# create empty lists for each classification\n",
    "msc = set()\n",
    "ccs = set()\n",
    "arxiv = set()\n",
    "misc = set()\n",
    "\n",
    "for tag in tags_list:\n",
    "    if re.match(r'\\d{2}[A-Z]\\d{2}|\\d{2}[A-Z]-xx|\\d{2}\\w{2,}', tag):\n",
    "        msc.add(tag)\n",
    "    elif re.match(r'\\d{2}-\\d{2}|\\d{2}-xx|\\d{2}-XX', tag):\n",
    "        msc.add(tag)\n",
    "    elif re.match(r'\\d{2}', tag):\n",
    "        msc.add(tag)\n",
    "    elif re.match(r'[A-Z]\\.\\d\\.\\d', tag):\n",
    "        ccs.add(tag)\n",
    "    elif re.match(r'[A-Z]\\.\\d', tag):\n",
    "        ccs.add(tag)\n",
    "    elif re.match(r'[A-Z]\\d\\.\\d', tag):\n",
    "        ccs.add(tag)\n",
    "    elif re.match(r'\\w+\\.\\w+', tag):\n",
    "        arxiv.add(tag)\n",
    "    elif re.match(r'\\w+-\\w+\\.\\w+-\\w+', tag):\n",
    "        arxiv.add(tag)\n",
    "    elif re.match(r'\\w+-\\w+\\.\\w+', tag):\n",
    "        arxiv.add(tag)\n",
    "    elif re.match(r'\\w+-\\w+', tag):\n",
    "        arxiv.add(tag)\n",
    "    else:\n",
    "        misc.add(tag)"
   ]
  },
  {
   "cell_type": "code",
   "execution_count": 6,
   "metadata": {},
   "outputs": [
    {
     "name": "stdout",
     "output_type": "stream",
     "text": [
      "MSC: 453\n",
      "CCS: 162\n",
      "ArXiv: 149\n",
      "Misc: 5\n"
     ]
    }
   ],
   "source": [
    "print(f'MSC: {len(msc)}\\nCCS: {len(ccs)}\\nArXiv: {len(arxiv)}\\nMisc: {len(misc)}')"
   ]
  },
  {
   "attachments": {},
   "cell_type": "markdown",
   "metadata": {},
   "source": [
    "**Contents of misc:**\n",
    "- Artificial intelligence': corresponds to 68Txx\n",
    "- Computer science applications- 97R60 Computer graphics': corresponds to 97R60\n",
    "- Computing methodologies for image processing': corresponds to 68U10\n",
    "- This paper tells us how human can be identified by their Gait cycle\\n  using any simple camera': dropped\n",
    "- org: dropped"
   ]
  },
  {
   "cell_type": "code",
   "execution_count": 7,
   "metadata": {},
   "outputs": [],
   "source": [
    "msc.add('97R60')\n",
    "del misc"
   ]
  },
  {
   "cell_type": "code",
   "execution_count": 8,
   "metadata": {},
   "outputs": [],
   "source": [
    "msc_cleaned = pd.DataFrame(list(msc), columns=['msc'])\n",
    "ccs_cleaned = pd.DataFrame(list(ccs), columns=['ccs'])\n",
    "arxiv_cleaned = pd.DataFrame(list(arxiv), columns=['arxiv'])"
   ]
  },
  {
   "attachments": {},
   "cell_type": "markdown",
   "metadata": {},
   "source": [
    "#### Retrieve Descriptions for Each Tag"
   ]
  },
  {
   "cell_type": "code",
   "execution_count": 9,
   "metadata": {},
   "outputs": [],
   "source": [
    "msc_html = r'C:\\Users\\User\\Desktop\\ml_paper_recommender_system\\paper-recommender\\Classification Codes Data\\MSC Classification Codes.html'\n",
    "\n",
    "# Parse MSC Classification Codes html file\n",
    "with open(msc_html) as fp:\n",
    "    msc_soup = BeautifulSoup(fp, 'html.parser')\n",
    "\n",
    "# Extract MSC Classification Codes\n",
    "msc_tree = [element.text for element in msc_soup.find_all('li')]\n",
    "\n",
    "# Define Dictionary for MSC Classification Codes where the key is the main class and the value is a list of sub-classes\n",
    "msc_classes = {}\n",
    "\n",
    "# Populate the dictionary\n",
    "for cls in msc_tree:\n",
    "    if re.match(r'^\\d\\d-xx:', cls):\n",
    "        msc_classes[cls.split('\\n')[0]] = []\n",
    "\n",
    "for element in msc_tree:\n",
    "    for cls in msc_classes.keys():\n",
    "        if cls[0:2] == element[0:2]:\n",
    "            msc_classes[cls].append(element)\n",
    "\n",
    "#for cls in msc_classes.keys():\n",
    "#    msc_classes[cls].pop(0)\n",
    "\n",
    "# Create a dataframe from the dictionary\n",
    "msc_df = pd.DataFrame(msc_classes.items(),columns=['class','sub_classes'])"
   ]
  },
  {
   "cell_type": "code",
   "execution_count": 10,
   "metadata": {},
   "outputs": [
    {
     "name": "stdout",
     "output_type": "stream",
     "text": [
      "Classes: 397 397, Sub-Classes: 5531 5531, Sub-Sub-Classes: 4647 4647\n"
     ]
    }
   ],
   "source": [
    "cls = []\n",
    "cls_str = []\n",
    "sub_cls = []\n",
    "sub_cls_str = []\n",
    "sub_sub_cls = []\n",
    "sub_sub_cls_str = []\n",
    "for idx, sub_class in enumerate(msc_df['sub_classes'].values):\n",
    "    for sub_sub in sub_class:\n",
    "        if re.match(r'\\d\\d-\\d\\d', sub_sub):\n",
    "            cls.append(sub_sub.split(':')[0])\n",
    "            cls_str.append(sub_sub.split(':')[1].strip())\n",
    "        if re.match(r'\\d\\d\\w\\w\\w', sub_sub):\n",
    "            sub_cls.append(sub_sub.split(':')[0])\n",
    "            sub_cls_str.append(sub_sub.split(':')[1].strip())\n",
    "        if re.match(r'\\d\\d-\\w+\\w+', sub_sub):\n",
    "            sub_cls.append(sub_sub.split(':')[0])\n",
    "            sub_cls_str.append(sub_sub.split(':')[1].strip())\n",
    "        if re.match(r'\\d\\d\\w\\d\\d', sub_sub):\n",
    "            sub_sub_cls.append(sub_sub.split(':')[0])\n",
    "            sub_sub_cls_str.append(sub_sub.split(':')[1].strip())\n",
    "print(f'Classes: {len(cls)} {len(cls_str)}, Sub-Classes: {len(sub_cls)} {len(sub_cls_str)}, Sub-Sub-Classes: {len(sub_sub_cls)} {len(sub_sub_cls_str)}')\n",
    "\n",
    "cls_comb = zip(cls, cls_str)\n",
    "cls_comb = list(cls_comb)\n",
    "sub_cls_comb = zip(sub_cls, sub_cls_str)\n",
    "sub_cls_comb = list(sub_cls_comb)\n",
    "sub_sub_cls_comb = zip(sub_sub_cls, sub_sub_cls_str)\n",
    "sub_sub_cls_comb = list(sub_sub_cls_comb)\n",
    "codes_comb = cls_comb + sub_cls_comb + sub_sub_cls_comb\n",
    "codes_comb = list(codes_comb)\n",
    "msc_index = pd.DataFrame(codes_comb, columns=['code', 'description'])"
   ]
  },
  {
   "cell_type": "code",
   "execution_count": 11,
   "metadata": {},
   "outputs": [
    {
     "data": {
      "text/html": [
       "<div>\n",
       "<style scoped>\n",
       "    .dataframe tbody tr th:only-of-type {\n",
       "        vertical-align: middle;\n",
       "    }\n",
       "\n",
       "    .dataframe tbody tr th {\n",
       "        vertical-align: top;\n",
       "    }\n",
       "\n",
       "    .dataframe thead th {\n",
       "        text-align: right;\n",
       "    }\n",
       "</style>\n",
       "<table border=\"1\" class=\"dataframe\">\n",
       "  <thead>\n",
       "    <tr style=\"text-align: right;\">\n",
       "      <th></th>\n",
       "      <th>msc</th>\n",
       "    </tr>\n",
       "  </thead>\n",
       "  <tbody>\n",
       "    <tr>\n",
       "      <th>0</th>\n",
       "      <td>62J99</td>\n",
       "    </tr>\n",
       "    <tr>\n",
       "      <th>1</th>\n",
       "      <td>46N30</td>\n",
       "    </tr>\n",
       "    <tr>\n",
       "      <th>2</th>\n",
       "      <td>62</td>\n",
       "    </tr>\n",
       "    <tr>\n",
       "      <th>3</th>\n",
       "      <td>62G99</td>\n",
       "    </tr>\n",
       "    <tr>\n",
       "      <th>4</th>\n",
       "      <td>2010</td>\n",
       "    </tr>\n",
       "    <tr>\n",
       "      <th>...</th>\n",
       "      <td>...</td>\n",
       "    </tr>\n",
       "    <tr>\n",
       "      <th>449</th>\n",
       "      <td>68W25</td>\n",
       "    </tr>\n",
       "    <tr>\n",
       "      <th>450</th>\n",
       "      <td>62M02</td>\n",
       "    </tr>\n",
       "    <tr>\n",
       "      <th>451</th>\n",
       "      <td>65R30</td>\n",
       "    </tr>\n",
       "    <tr>\n",
       "      <th>452</th>\n",
       "      <td>42B35</td>\n",
       "    </tr>\n",
       "    <tr>\n",
       "      <th>453</th>\n",
       "      <td>91B16</td>\n",
       "    </tr>\n",
       "  </tbody>\n",
       "</table>\n",
       "<p>454 rows × 1 columns</p>\n",
       "</div>"
      ],
      "text/plain": [
       "       msc\n",
       "0    62J99\n",
       "1    46N30\n",
       "2       62\n",
       "3    62G99\n",
       "4     2010\n",
       "..     ...\n",
       "449  68W25\n",
       "450  62M02\n",
       "451  65R30\n",
       "452  42B35\n",
       "453  91B16\n",
       "\n",
       "[454 rows x 1 columns]"
      ]
     },
     "execution_count": 11,
     "metadata": {},
     "output_type": "execute_result"
    }
   ],
   "source": [
    "msc_cleaned"
   ]
  },
  {
   "cell_type": "code",
   "execution_count": 12,
   "metadata": {},
   "outputs": [
    {
     "name": "stdout",
     "output_type": "stream",
     "text": [
      "Remaining Missing Codes: 47\n"
     ]
    }
   ],
   "source": [
    "dataset_codes = list(msc_cleaned.msc.values)\n",
    "missing_codes = []\n",
    "for code in dataset_codes:\n",
    "    if code not in list(msc_index.code.values):\n",
    "        missing_codes.append(code)\n",
    "\n",
    "for idx, code in enumerate(missing_codes):\n",
    "    missing_codes[idx] = missing_codes[idx].split(' ')\n",
    "new_list = []\n",
    "for code in missing_codes:\n",
    "    for element in code:\n",
    "        if not isinstance(element, list):\n",
    "            new_list.append([element])\n",
    "missing_codes = [item for sublist in new_list for item in sublist]\n",
    "for idx, code in enumerate(missing_codes):\n",
    "    if code not in list(msc_index.code.values):\n",
    "        missing_codes.remove(code)\n",
    "print(f'Remaining Missing Codes: {len(missing_codes)}')"
   ]
  },
  {
   "cell_type": "code",
   "execution_count": 13,
   "metadata": {},
   "outputs": [
    {
     "data": {
      "text/plain": [
       "['2010',\n",
       " '92F99',\n",
       " '68T05',\n",
       " '91E40',\n",
       " '62-XX',\n",
       " '97R60',\n",
       " '57Z25',\n",
       " '15B48',\n",
       " '54H30',\n",
       " '68T45',\n",
       " '49',\n",
       " '35Q68',\n",
       " '68W27',\n",
       " '49M41',\n",
       " '35CXX',\n",
       " '62-07l',\n",
       " '62R40',\n",
       " '35-XX',\n",
       " '62-08',\n",
       " '2020:',\n",
       " '49N45',\n",
       " '6006',\n",
       " '05C81',\n",
       " '65Zxx',\n",
       " '97N80',\n",
       " '53Z50',\n",
       " '91-10',\n",
       " '90C17',\n",
       " '62h30',\n",
       " '91G80',\n",
       " '68:',\n",
       " 'science',\n",
       " '55N31',\n",
       " '78M32',\n",
       " '35K08',\n",
       " '60L10',\n",
       " '62G86',\n",
       " '97R40',\n",
       " '62D20',\n",
       " '05C21',\n",
       " '68W50',\n",
       " '97P30',\n",
       " '68',\n",
       " '93',\n",
       " '42-08',\n",
       " '68M25',\n",
       " '35J47']"
      ]
     },
     "execution_count": 13,
     "metadata": {},
     "output_type": "execute_result"
    }
   ],
   "source": [
    "missing_codes"
   ]
  },
  {
   "cell_type": "code",
   "execution_count": 78,
   "metadata": {},
   "outputs": [],
   "source": [
    "msc_cleaned['description'] = None"
   ]
  },
  {
   "cell_type": "code",
   "execution_count": 14,
   "metadata": {},
   "outputs": [
    {
     "data": {
      "text/plain": [
       "['92F99',\n",
       " '68T05',\n",
       " '91E40',\n",
       " '62-XX',\n",
       " '97R60',\n",
       " '57Z25',\n",
       " '15B48',\n",
       " '54H30',\n",
       " '68T45',\n",
       " '35Q68',\n",
       " '68W27',\n",
       " '49M41',\n",
       " '35CXX',\n",
       " '62-07l',\n",
       " '62R40',\n",
       " '35-XX',\n",
       " '62-08',\n",
       " '49N45',\n",
       " '05C81',\n",
       " '65Zxx',\n",
       " '97N80',\n",
       " '53Z50',\n",
       " '91-10',\n",
       " '90C17',\n",
       " '62h30',\n",
       " '91G80',\n",
       " '55N31',\n",
       " '78M32',\n",
       " '35K08',\n",
       " '60L10',\n",
       " '62G86',\n",
       " '97R40',\n",
       " '62D20',\n",
       " '05C21',\n",
       " '68W50',\n",
       " '97P30',\n",
       " '42-08',\n",
       " '68M25',\n",
       " '35J47',\n",
       " '68Txx',\n",
       " '78-00',\n",
       " '60-06',\n",
       " '93-00',\n",
       " '62-00',\n",
       " '90-00']"
      ]
     },
     "execution_count": 14,
     "metadata": {},
     "output_type": "execute_result"
    }
   ],
   "source": [
    "correct = []\n",
    "incorrect = []\n",
    "for code in missing_codes:\n",
    "    if re.match(r'\\d\\d-\\d\\d', code):\n",
    "        correct.append(code)\n",
    "    elif re.match(r'\\d\\d\\w\\w\\w', code):\n",
    "        correct.append(code)\n",
    "    elif re.match(r'\\d\\d\\w\\d\\d', code):\n",
    "        correct.append(code)\n",
    "    elif re.match(r'\\d\\d-\\w\\w', code):\n",
    "        correct.append(code)\n",
    "    else:\n",
    "        incorrect.append(code)\n",
    "incorrect = ['68Txx', '78-00', '60-06', '93-00', '62-00', '90-00']\n",
    "correct = correct + incorrect\n",
    "correct"
   ]
  },
  {
   "cell_type": "code",
   "execution_count": 18,
   "metadata": {},
   "outputs": [],
   "source": [
    "for code in msc_index[msc_index.code.isin(correct)].code:\n",
    "    if code in correct:\n",
    "        correct.remove(code)"
   ]
  },
  {
   "cell_type": "code",
   "execution_count": 25,
   "metadata": {},
   "outputs": [
    {
     "data": {
      "text/plain": [
       "['92F99',\n",
       " '62-XX',\n",
       " '97R60',\n",
       " '57Z25',\n",
       " '15B48',\n",
       " '54H30',\n",
       " '35Q68',\n",
       " '68W27',\n",
       " '49M41',\n",
       " '35CXX',\n",
       " '62-07l',\n",
       " '62R40',\n",
       " '35-XX',\n",
       " '62-08',\n",
       " '05C81',\n",
       " '65Zxx',\n",
       " '97N80',\n",
       " '53Z50',\n",
       " '91-10',\n",
       " '90C17',\n",
       " '62h30',\n",
       " '91G80',\n",
       " '55N31',\n",
       " '78M32',\n",
       " '35K08',\n",
       " '60L10',\n",
       " '62G86',\n",
       " '97R40',\n",
       " '62D20',\n",
       " '05C21',\n",
       " '68W50',\n",
       " '97P30',\n",
       " '42-08',\n",
       " '68M25',\n",
       " '35J47']"
      ]
     },
     "execution_count": 25,
     "metadata": {},
     "output_type": "execute_result"
    }
   ],
   "source": [
    "correct"
   ]
  },
  {
   "cell_type": "code",
   "execution_count": 21,
   "metadata": {},
   "outputs": [],
   "source": [
    "# Extract Description from MSC Classification Codes 2020\n",
    "reader = PyPDF2.PdfReader(r'C:\\Users\\User\\Desktop\\ml_paper_recommender_system\\paper-recommender\\Classification Codes Data\\msc2020.pdf')\n",
    "missing_corpus = []\n",
    "for idx, page in enumerate(reader.pages):\n",
    "    text = page.extract_text()\n",
    "    for idx, code in enumerate(correct):\n",
    "        if code in text:\n",
    "            missing_corpus.append(text)"
   ]
  },
  {
   "cell_type": "code",
   "execution_count": 22,
   "metadata": {},
   "outputs": [],
   "source": [
    "for idx, text in enumerate(missing_corpus):\n",
    "    missing_corpus[idx] = text.split('\\n')"
   ]
  },
  {
   "cell_type": "code",
   "execution_count": 23,
   "metadata": {},
   "outputs": [],
   "source": [
    "missing_descriptions = set()\n",
    "for code in missing_codes:\n",
    "    for idx, text in enumerate(missing_corpus):\n",
    "        for line in text:\n",
    "            if code in line:\n",
    "                missing_descriptions.add(line)"
   ]
  },
  {
   "cell_type": "code",
   "execution_count": 32,
   "metadata": {},
   "outputs": [
    {
     "data": {
      "text/html": [
       "<div>\n",
       "<style scoped>\n",
       "    .dataframe tbody tr th:only-of-type {\n",
       "        vertical-align: middle;\n",
       "    }\n",
       "\n",
       "    .dataframe tbody tr th {\n",
       "        vertical-align: top;\n",
       "    }\n",
       "\n",
       "    .dataframe thead th {\n",
       "        text-align: right;\n",
       "    }\n",
       "</style>\n",
       "<table border=\"1\" class=\"dataframe\">\n",
       "  <thead>\n",
       "    <tr style=\"text-align: right;\">\n",
       "      <th></th>\n",
       "      <th>msc</th>\n",
       "    </tr>\n",
       "  </thead>\n",
       "  <tbody>\n",
       "    <tr>\n",
       "      <th>0</th>\n",
       "      <td>62J99</td>\n",
       "    </tr>\n",
       "    <tr>\n",
       "      <th>1</th>\n",
       "      <td>46N30</td>\n",
       "    </tr>\n",
       "    <tr>\n",
       "      <th>2</th>\n",
       "      <td>62</td>\n",
       "    </tr>\n",
       "    <tr>\n",
       "      <th>3</th>\n",
       "      <td>62G99</td>\n",
       "    </tr>\n",
       "    <tr>\n",
       "      <th>4</th>\n",
       "      <td>2010</td>\n",
       "    </tr>\n",
       "    <tr>\n",
       "      <th>...</th>\n",
       "      <td>...</td>\n",
       "    </tr>\n",
       "    <tr>\n",
       "      <th>449</th>\n",
       "      <td>68W25</td>\n",
       "    </tr>\n",
       "    <tr>\n",
       "      <th>450</th>\n",
       "      <td>62M02</td>\n",
       "    </tr>\n",
       "    <tr>\n",
       "      <th>451</th>\n",
       "      <td>65R30</td>\n",
       "    </tr>\n",
       "    <tr>\n",
       "      <th>452</th>\n",
       "      <td>42B35</td>\n",
       "    </tr>\n",
       "    <tr>\n",
       "      <th>453</th>\n",
       "      <td>91B16</td>\n",
       "    </tr>\n",
       "  </tbody>\n",
       "</table>\n",
       "<p>454 rows × 1 columns</p>\n",
       "</div>"
      ],
      "text/plain": [
       "       msc\n",
       "0    62J99\n",
       "1    46N30\n",
       "2       62\n",
       "3    62G99\n",
       "4     2010\n",
       "..     ...\n",
       "449  68W25\n",
       "450  62M02\n",
       "451  65R30\n",
       "452  42B35\n",
       "453  91B16\n",
       "\n",
       "[454 rows x 1 columns]"
      ]
     },
     "execution_count": 32,
     "metadata": {},
     "output_type": "execute_result"
    }
   ],
   "source": [
    "msc_cleaned"
   ]
  },
  {
   "cell_type": "code",
   "execution_count": 33,
   "metadata": {},
   "outputs": [],
   "source": [
    "# Inspected manually because data quality right?\n",
    "missing_descriptions = [\n",
    " '60B20: Random matrices (probabilistic aspects)',\n",
    " '62H22: Probabilistic graphical models',\n",
    " '97P30: Systems, databases (educational aspects)',\n",
    " '05C81: Random walks on graphs',\n",
    " '62B86: Statistical aspects of fuzziness, sufficiency, and information',\n",
    " '68T42: Agent technology and artificial intelligence',\n",
    " '97N80: Mathematical software, computer programs (educational aspects)',\n",
    " '60L10: Signatures and data streams',\n",
    " '35Q68: PDEs in connection with computer science',\n",
    " '68T07: Artificial neural networks and deep learning',\n",
    " '60L20: Rough paths',\n",
    " '62-08: Computational methods for problems pertaining to statistics',\n",
    " '35Q79: PDEs in connection with classical thermodynamics and heat transfer',\n",
    " '15B48: Positive matrices and their generalizations; cones of matrices',\n",
    " '68W50: Evolutionary algorithms, genetic algorithms (computational aspects)',\n",
    " '62-XX: Statistics',\n",
    " '65Zxx: Applications to the sciences',\n",
    " '62G86: Nonparametric inference and fuzziness',\n",
    " '62R40: Topological data analysis',\n",
    " '05C21: Flows in graphs',\n",
    " \"35J08: Green's functions for elliptic equations\",\n",
    " '91-10: Mathematical modeling or simulation for problems pertaining to game theory, economics, and Finance',\n",
    " '90-05: Experimental work for problems pertaining to operations research and mathematical programming',\n",
    " '68W27: Online algorithms; streaming algorithms',\n",
    " '14T10: Foundations of tropical geometry and relations with algebra',\n",
    " '62D20: Causal inference from observational studies',\n",
    " '49Q22: Optimal transportation',\n",
    " '35R02: PDEs on graphs and networks (ramified or polygonal spaces)',\n",
    " '57-08: Computational methods for problems pertaining to manifolds and cell complexes',\n",
    " '65F55: Numerical methods for low-rank matrix approximation; matrix compression',\n",
    " '90C17: Robustness in mathematical programming',\n",
    " '53Z50: Applications of differential geometry to data and computer science',\n",
    " '35J47: Second-order elliptic systems',\n",
    " '62R07: Statistical aspects of big data and data science',\n",
    " '15A83: Matrix completion problems',\n",
    " '91G80: Financial applications of other theories',\n",
    " '54H30: Applications of general topology to computer science (e.g., digital topology, image processing)',\n",
    " '35K08: Heat kernel',\n",
    " '90-10: Mathematical modeling or simulation for problems pertaining to operations research and mathematical programming',\n",
    " '78M32: Neural and heuristic methods applied to problems in optics and electromagnetic theory',\n",
    " '62A09: Graphical methods in statistics',\n",
    " '35Q74: PDEs in connection with mechanics of deformable solids',\n",
    " '55N31: Persistent homology and applications, topological data analysis',\n",
    " '68-XX: Computer science',\n",
    " '65D19: Computational issues in computer and robotic vision',\n",
    " '68M25: Computer security',\n",
    " '62-08: Computational methods for problems pertaining to statistics',\n",
    " '92-XX: Biology and other natural sciences',\n",
    " '35-XX: Partial differential equations',\n",
    " '68Q87: Probability in computer science (algorithm analysis, random structures, phase transitions, etc.)',\n",
    " '60B20: Random matrices (algebraic aspects) fFor probabilistic aspects, see 60B20 g',\n",
    " '91G70: Statistical methods; risk measures [See also 62P05, 62P20]',\n",
    " '62R01: Algebraic statistics',\n",
    " '49Q22: Transport equations fFor calculus of variations and optimal control, see 49Q22; for Fluid mechanics, see',\n",
    " '60B20: Random matrices (probabilistic aspects)',\n",
    " '49M41: PDE constrained optimization (numerical aspects)',\n",
    " '57Z25: Relations of manifolds and cell complexes with computer and data science',\n",
    " '49-11: Research data for problems pertaining to calculus of variations and optimal control',\n",
    " '35Q84: Fokker-Planck equations',\n",
    " '42-08: Computational methods for problems pertaining to harmonic analysis on Euclidean spaces',\n",
    " '68T09: Computational aspects of data analysis and big data',\n",
    " '65M22: Numerical solution of discretized equations for initial value and initial-boundary value problems involving ']\n",
    "\n",
    "for idx, desc in enumerate(missing_descriptions):\n",
    "    missing_descriptions[idx] = desc.split(':')"
   ]
  },
  {
   "cell_type": "code",
   "execution_count": 41,
   "metadata": {},
   "outputs": [
    {
     "data": {
      "text/html": [
       "<div>\n",
       "<style scoped>\n",
       "    .dataframe tbody tr th:only-of-type {\n",
       "        vertical-align: middle;\n",
       "    }\n",
       "\n",
       "    .dataframe tbody tr th {\n",
       "        vertical-align: top;\n",
       "    }\n",
       "\n",
       "    .dataframe thead th {\n",
       "        text-align: right;\n",
       "    }\n",
       "</style>\n",
       "<table border=\"1\" class=\"dataframe\">\n",
       "  <thead>\n",
       "    <tr style=\"text-align: right;\">\n",
       "      <th></th>\n",
       "      <th>code</th>\n",
       "      <th>description</th>\n",
       "    </tr>\n",
       "  </thead>\n",
       "  <tbody>\n",
       "    <tr>\n",
       "      <th>0</th>\n",
       "      <td>00-01</td>\n",
       "      <td>Instructional exposition (textbooks, tutorial ...</td>\n",
       "    </tr>\n",
       "    <tr>\n",
       "      <th>1</th>\n",
       "      <td>00-02</td>\n",
       "      <td>Research exposition (monographs, survey articles)</td>\n",
       "    </tr>\n",
       "    <tr>\n",
       "      <th>2</th>\n",
       "      <td>01-00</td>\n",
       "      <td>General reference works (handbooks, dictionari...</td>\n",
       "    </tr>\n",
       "    <tr>\n",
       "      <th>3</th>\n",
       "      <td>01-01</td>\n",
       "      <td>Instructional exposition (textbooks, tutorial ...</td>\n",
       "    </tr>\n",
       "    <tr>\n",
       "      <th>4</th>\n",
       "      <td>01-02</td>\n",
       "      <td>Research exposition (monographs, survey articles)</td>\n",
       "    </tr>\n",
       "    <tr>\n",
       "      <th>...</th>\n",
       "      <td>...</td>\n",
       "      <td>...</td>\n",
       "    </tr>\n",
       "    <tr>\n",
       "      <th>10570</th>\n",
       "      <td>97U50</td>\n",
       "      <td>Computer assisted instruction and programmed i...</td>\n",
       "    </tr>\n",
       "    <tr>\n",
       "      <th>10571</th>\n",
       "      <td>97U60</td>\n",
       "      <td>Manipulative materials and their use in the cl...</td>\n",
       "    </tr>\n",
       "    <tr>\n",
       "      <th>10572</th>\n",
       "      <td>97U70</td>\n",
       "      <td>Technological tools (computers, calculators, s...</td>\n",
       "    </tr>\n",
       "    <tr>\n",
       "      <th>10573</th>\n",
       "      <td>97U80</td>\n",
       "      <td>Audiovisual media and their use in instruction</td>\n",
       "    </tr>\n",
       "    <tr>\n",
       "      <th>10574</th>\n",
       "      <td>97U99</td>\n",
       "      <td>None of the above, but in this section</td>\n",
       "    </tr>\n",
       "  </tbody>\n",
       "</table>\n",
       "<p>10575 rows × 2 columns</p>\n",
       "</div>"
      ],
      "text/plain": [
       "        code                                        description\n",
       "0      00-01  Instructional exposition (textbooks, tutorial ...\n",
       "1      00-02  Research exposition (monographs, survey articles)\n",
       "2      01-00  General reference works (handbooks, dictionari...\n",
       "3      01-01  Instructional exposition (textbooks, tutorial ...\n",
       "4      01-02  Research exposition (monographs, survey articles)\n",
       "...      ...                                                ...\n",
       "10570  97U50  Computer assisted instruction and programmed i...\n",
       "10571  97U60  Manipulative materials and their use in the cl...\n",
       "10572  97U70  Technological tools (computers, calculators, s...\n",
       "10573  97U80     Audiovisual media and their use in instruction\n",
       "10574  97U99             None of the above, but in this section\n",
       "\n",
       "[10575 rows x 2 columns]"
      ]
     },
     "execution_count": 41,
     "metadata": {},
     "output_type": "execute_result"
    }
   ],
   "source": [
    "msc_index"
   ]
  },
  {
   "cell_type": "code",
   "execution_count": 42,
   "metadata": {},
   "outputs": [],
   "source": [
    "for desc in missing_descriptions:\n",
    "    msc_index.loc[-1] = desc\n",
    "    msc_index.index = msc_index.index + 1\n",
    "    msc_index = msc_index.sort_index()"
   ]
  },
  {
   "cell_type": "code",
   "execution_count": 44,
   "metadata": {},
   "outputs": [],
   "source": [
    "for desc in missing_descriptions:\n",
    "    if desc[0] in msc_index.code.values:\n",
    "        pass\n",
    "    else:\n",
    "        print(desc[0])"
   ]
  },
  {
   "cell_type": "code",
   "execution_count": 48,
   "metadata": {},
   "outputs": [
    {
     "name": "stdout",
     "output_type": "stream",
     "text": [
      "['62']\n",
      "['2010']\n",
      "['92B25 92F99']\n",
      "['68T05 91E40']\n",
      "['10010147.10010257.10010258.10010259.10010263']\n",
      "['97R60']\n",
      "['92']\n",
      "['94']\n",
      "['68T45 68T07']\n",
      "['49']\n",
      "['35CXX']\n",
      "['62-07l']\n",
      "['2020: 49N45']\n",
      "['6006']\n",
      "['90']\n",
      "['68T04']\n",
      "['62h30']\n",
      "['00']\n",
      "['68: computer science']\n",
      "['68Tx']\n",
      "['97R40']\n",
      "['60']\n",
      "['68']\n",
      "['78']\n",
      "['93']\n",
      "['6804']\n"
     ]
    }
   ],
   "source": [
    "# remaining = []\n",
    "for code in msc_cleaned.values:\n",
    "    if code in msc_index.code.values:\n",
    "        pass\n",
    "    else:\n",
    "        print(code)"
   ]
  },
  {
   "cell_type": "code",
   "execution_count": 49,
   "metadata": {},
   "outputs": [
    {
     "name": "stdout",
     "output_type": "stream",
     "text": [
      "Before: 162\n",
      "After: 167\n"
     ]
    }
   ],
   "source": [
    "# Split and add misplaced string back to ACM codes\n",
    "print(f'Before: {len(ccs_cleaned)}')\n",
    "acm_misplaced_string = '10010147.10010257.10010258.10010259.10010263'.split('.')\n",
    "for str in acm_misplaced_string:\n",
    "    ccs_cleaned.loc[-1] = str\n",
    "    ccs_cleaned.index = ccs_cleaned.index + 1\n",
    "    ccs_cleaned = ccs_cleaned.sort_index()\n",
    "print(f'After: {len(ccs_cleaned)}')"
   ]
  },
  {
   "cell_type": "code",
   "execution_count": 25,
   "metadata": {},
   "outputs": [
    {
     "name": "stdout",
     "output_type": "stream",
     "text": [
      "Found: 60-06\n",
      "Description: None\n",
      "Found: 68T05\n",
      "Description: None\n",
      "Found: 91E40\n",
      "Description: None\n",
      "Not found: 92B25\n",
      "Not found: 92F99\n",
      "Found: 35CXX\n",
      "Description: None\n",
      "Found: 97R60\n",
      "Description: None\n",
      "Found: 68-04\n",
      "Description: None\n",
      "Found: 68T45\n",
      "Description: None\n",
      "Found: 68T07\n",
      "Description: Artificial neural networks and deep learning\n",
      "Found: 62h30\n",
      "Description: None\n",
      "Found: 97R40\n",
      "Description: None\n",
      "Found: 62-07\n",
      "Description: None\n",
      "Found: 68T04\n",
      "Description: None\n"
     ]
    }
   ],
   "source": [
    "rem = msc_cleaned[msc_cleaned['description'].isnull()]['msc'].values\n",
    "rem = ['60-06', '68T05', '91E40', '92B25', '92F99', '35CXX', '97R60', '68-04',\n",
    "       '68T45', '68T07', '62h30', '97R40', '62-07', '68T04']\n",
    "found_rem = []\n",
    "for r in rem:\n",
    "    desc = msc_cleaned['description'][idx]\n",
    "    if r in msc_cleaned['msc'].values:\n",
    "        print(f'Found: {r}')\n",
    "        desc = msc_cleaned[msc_cleaned['msc'] == r]['description'].values[0]\n",
    "        print(f'Description: {desc}')\n",
    "        if desc is not None:\n",
    "            found_rem.append(r)\n",
    "    else:\n",
    "        print(f'Not found: {r}')"
   ]
  },
  {
   "cell_type": "code",
   "execution_count": 26,
   "metadata": {},
   "outputs": [
    {
     "data": {
      "text/plain": [
       "['97R40',\n",
       " '68-04',\n",
       " '68T04',\n",
       " '35CXX',\n",
       " '97R60',\n",
       " '62-07',\n",
       " '91E40',\n",
       " '62h30',\n",
       " '68T45',\n",
       " '68T05',\n",
       " '92B25',\n",
       " '92F99',\n",
       " '60-06']"
      ]
     },
     "execution_count": 26,
     "metadata": {},
     "output_type": "execute_result"
    }
   ],
   "source": [
    "rem = set(rem) - set(found_rem)\n",
    "rem = list(rem)\n",
    "rem"
   ]
  },
  {
   "cell_type": "code",
   "execution_count": null,
   "metadata": {},
   "outputs": [],
   "source": [
    "# Don't append before finishing TODO above\n",
    "missing_descriptions.append([['97R60', 'Mathematics education'],\n",
    "                             ['68-04', 'Mathematics education'], \n",
    "                            ['92B25', 'Biology and other natural sciences 92Bxx Mathematical biology in general 92B25 Biological rhythms and synchronization'],\n",
    "                            ['68T04', 'Learning and adaptive systems in artificial intelligence'],\n",
    "                            ['97R40', 'Mathematics education'],\n",
    "                            ['92F99', 'Other natural sciences (mathematical treatment)'],\n",
    "                            ['62H30', 'Classification and discrimination; cluster analysis (statistical aspects); mixture models'],\n",
    "                            ['35CXX', 'Representations of solutions to partial differential equations']])"
   ]
  },
  {
   "cell_type": "code",
   "execution_count": 27,
   "metadata": {},
   "outputs": [
    {
     "data": {
      "text/plain": [
       "[['60B20', ' Random matrices (probabilistic aspects)'],\n",
       " ['62H22', ' Probabilistic graphical models'],\n",
       " ['97P30', ' Systems, databases (educational aspects)'],\n",
       " ['05C81', ' Random walks on graphs'],\n",
       " ['62B86', ' Statistical aspects of fuzziness, sufficiency, and information'],\n",
       " ['68T42', ' Agent technology and artificial intelligence'],\n",
       " ['97N80', ' Mathematical software, computer programs (educational aspects)'],\n",
       " ['60L10', ' Signatures and data streams'],\n",
       " ['35Q68', ' PDEs in connection with computer science'],\n",
       " ['68T07', ' Artificial neural networks and deep learning'],\n",
       " ['60L20', ' Rough paths'],\n",
       " ['62-08', ' Computational methods for problems pertaining to statistics'],\n",
       " ['35Q79',\n",
       "  ' PDEs in connection with classical thermodynamics and heat transfer'],\n",
       " ['15B48', ' Positive matrices and their generalizations; cones of matrices'],\n",
       " ['68W50',\n",
       "  ' Evolutionary algorithms, genetic algorithms (computational aspects)'],\n",
       " ['62-XX', ' Statistics'],\n",
       " ['65Zxx', ' Applications to the sciences'],\n",
       " ['62G86', ' Nonparametric inference and fuzziness'],\n",
       " ['62R40', ' Topological data analysis'],\n",
       " ['05C21', ' Flows in graphs'],\n",
       " ['35J08', \" Green's functions for elliptic equations\"],\n",
       " ['91-10',\n",
       "  ' Mathematical modeling or simulation for problems pertaining to game theory, economics, and Finance'],\n",
       " ['90-05',\n",
       "  ' Experimental work for problems pertaining to operations research and mathematical programming'],\n",
       " ['68W27', ' Online algorithms; streaming algorithms'],\n",
       " ['14T10', ' Foundations of tropical geometry and relations with algebra'],\n",
       " ['62D20', ' Causal inference from observational studies'],\n",
       " ['49Q22', ' Optimal transportation'],\n",
       " ['35R02', ' PDEs on graphs and networks (ramified or polygonal spaces)'],\n",
       " ['57-08',\n",
       "  ' Computational methods for problems pertaining to manifolds and cell complexes'],\n",
       " ['65F55',\n",
       "  ' Numerical methods for low-rank matrix approximation; matrix compression'],\n",
       " ['90C17', ' Robustness in mathematical programming'],\n",
       " ['53Z50',\n",
       "  ' Applications of differential geometry to data and computer science'],\n",
       " ['35J47', ' Second-order elliptic systems'],\n",
       " ['62R07', ' Statistical aspects of big data and data science'],\n",
       " ['15A83', ' Matrix completion problems'],\n",
       " ['91G80', ' Financial applications of other theories'],\n",
       " ['54H30',\n",
       "  ' Applications of general topology to computer science (e.g., digital topology, image processing)'],\n",
       " ['35K08', ' Heat kernel'],\n",
       " ['90-10',\n",
       "  ' Mathematical modeling or simulation for problems pertaining to operations research and mathematical programming'],\n",
       " ['78M32',\n",
       "  ' Neural and heuristic methods applied to problems in optics and electromagnetic theory'],\n",
       " ['62A09', ' Graphical methods in statistics'],\n",
       " ['35Q74', ' PDEs in connection with mechanics of deformable solids'],\n",
       " ['55N31', ' Persistent homology and applications, topological data analysis'],\n",
       " ['68-XX', ' Computer science'],\n",
       " ['65D19', ' Computational issues in computer and robotic vision'],\n",
       " ['68M25', ' Computer security'],\n",
       " ['62-08', ' Computational methods for problems pertaining to statistics'],\n",
       " ['92-XX', ' Biology and other natural sciences'],\n",
       " ['35-XX', ' Partial differential equations'],\n",
       " ['68Q87',\n",
       "  ' Probability in computer science (algorithm analysis, random structures, phase transitions, etc.)'],\n",
       " ['60B20',\n",
       "  ' Random matrices (algebraic aspects) fFor probabilistic aspects, see 60B20 g'],\n",
       " ['91G70', ' Statistical methods; risk measures [See also 62P05, 62P20]'],\n",
       " ['62R01', ' Algebraic statistics'],\n",
       " ['49Q22',\n",
       "  ' Transport equations fFor calculus of variations and optimal control, see 49Q22; for Fluid mechanics, see'],\n",
       " ['60B20', ' Random matrices (probabilistic aspects)'],\n",
       " ['49M41', ' PDE constrained optimization (numerical aspects)'],\n",
       " ['57Z25',\n",
       "  ' Relations of manifolds and cell complexes with computer and data science'],\n",
       " ['49-11',\n",
       "  ' Research data for problems pertaining to calculus of variations and optimal control'],\n",
       " ['35Q84', ' Fokker-Planck equations'],\n",
       " ['42-08',\n",
       "  ' Computational methods for problems pertaining to harmonic analysis on Euclidean spaces'],\n",
       " ['68T09', ' Computational aspects of data analysis and big data'],\n",
       " ['65M22',\n",
       "  ' 65M22 Numerical solution of discretized equations for initial value and initial-boundary value problems involving ']]"
      ]
     },
     "execution_count": 27,
     "metadata": {},
     "output_type": "execute_result"
    }
   ],
   "source": [
    "missing_descriptions"
   ]
  }
 ],
 "metadata": {
  "kernelspec": {
   "display_name": "Python 3",
   "language": "python",
   "name": "python3"
  },
  "language_info": {
   "codemirror_mode": {
    "name": "ipython",
    "version": 3
   },
   "file_extension": ".py",
   "mimetype": "text/x-python",
   "name": "python",
   "nbconvert_exporter": "python",
   "pygments_lexer": "ipython3",
   "version": "3.10.8"
  },
  "orig_nbformat": 4
 },
 "nbformat": 4,
 "nbformat_minor": 2
}
