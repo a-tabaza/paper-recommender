{
 "cells": [
  {
   "cell_type": "code",
   "execution_count": 23,
   "metadata": {},
   "outputs": [],
   "source": [
    "import pandas as pd \n",
    "import numpy as np\n",
    "import ast\n",
    "import re\n",
    "from bs4 import BeautifulSoup\n",
    "from tqdm import tqdm\n",
    "import torch\n",
    "from sentence_transformers import SentenceTransformer, util # type: ignore"
   ]
  },
  {
   "cell_type": "code",
   "execution_count": 24,
   "metadata": {},
   "outputs": [],
   "source": [
    "# model = SentenceTransformer('msmarco-distilbert-base-tas-b')"
   ]
  },
  {
   "cell_type": "code",
   "execution_count": 25,
   "metadata": {},
   "outputs": [],
   "source": [
    "df = pd.read_csv(r'arxiv-paper-abstracts\\arxiv_data_210930-054931.csv')"
   ]
  },
  {
   "cell_type": "code",
   "execution_count": 26,
   "metadata": {},
   "outputs": [],
   "source": [
    "def clean_categories(categories):\n",
    "    tags = [tag.strip() for tag in ast.literal_eval(categories)]\n",
    "    return tags"
   ]
  },
  {
   "cell_type": "code",
   "execution_count": 27,
   "metadata": {},
   "outputs": [],
   "source": [
    "categories = pd.DataFrame(list(df['terms'].unique()),columns=['categories'])\n",
    "categories['clean_categories'] = categories['categories'].apply(clean_categories)"
   ]
  },
  {
   "cell_type": "code",
   "execution_count": 28,
   "metadata": {},
   "outputs": [],
   "source": [
    "tags = set()\n",
    "for index, row in categories.iterrows():\n",
    "    categories = row['clean_categories']\n",
    "    for category in categories:\n",
    "        tags.add(category)\n",
    "tags_df = pd.DataFrame(list(tags), columns=['tags'])"
   ]
  },
  {
   "cell_type": "code",
   "execution_count": 29,
   "metadata": {},
   "outputs": [],
   "source": [
    "tags = set()\n",
    "for index, row in tags_df.iterrows():\n",
    "    categories_str = row['tags']\n",
    "    categories_list = [category.strip() for category in categories_str.replace(',', ';').split(';')]\n",
    "    for category in categories_list:\n",
    "        tags.add(category)\n",
    "tags_df = pd.DataFrame(list(tags), columns=['tags'])"
   ]
  },
  {
   "cell_type": "code",
   "execution_count": 30,
   "metadata": {},
   "outputs": [],
   "source": [
    "tags = set()\n",
    "for index, row in tags_df.iterrows():\n",
    "    categories_str = row['tags']\n",
    "    categories_list = [category.strip() for category in categories_str.replace(',', ';').split(';')]\n",
    "    for category in categories_list:\n",
    "        if '(' in category and ')' in category:\n",
    "            subcategories = [subcat.strip() for subcat in category.split() if subcat[0].isdigit()]\n",
    "            for subcategory in subcategories:\n",
    "                tags.add(subcategory)\n",
    "        else:\n",
    "            tags.add(category)\n",
    "tags.discard('')"
   ]
  },
  {
   "cell_type": "code",
   "execution_count": 31,
   "metadata": {},
   "outputs": [
    {
     "name": "stdout",
     "output_type": "stream",
     "text": [
      "['05C20', '68T07', '91A12', '62M15', '68Q55', '65K05', '62J05', '93C85', 'J.2.4', '62H12', 'math.CA', '49Q10', '93E35', 'G.1.4', '62-XX', '68P99', 'H.5.2', 'D.2.5', '15B48', 'cond-mat.mes-hall', '91A20', '92', '62D20', '65D19', '35CXX', 'J.2', 'cs.CE', '51M20', '62M20', '94A12', 'stat.ML', '53Z50', '68W50', 'physics.data-an', '91-10', '91A60', '62J02', 'quant-ph', '62F25', '93E03', 'H.3.1', 'I.4.0', 'J.7', 'I.2.4', '78M32', '91A06', '74Pxx', '62J10', 'econ.GN', '58J35', '68Tx', '94A34', '90C20', '68T45 68T07', '93E12', 'math.DG', 'math.OC', '55R35', 'math.GR', 'H.4.2', '91E30', 'H.5.0', '68W40', '76D07', '62H22', '14L24', '60G15', 'econ.TH', '35J20', 'I.1.5', '14M15', '60E05', 'cs.CC', '91C20', '68-06', '62C99', 'eess.AS', 'cs.OH', '74A40', '74S30', 'I.4', 'physics.ed-ph', 'I.5.2', 'D.3.4', '62E17', 'E.1', '62G07', 'astro-ph.HE', '62H25', 'math.RA', '35J47', '05C50', '37Nxx', 'H.4.m', 'I.5.0', 'physics.med-ph', 'I.4.m', 'H.5', 'H.2.7', '92C55', '65F50', '68T40', 'hep-ex', 'J.2.', '62H99', '03B65', 'math.FA', '00Bxx', 'q-bio.MN', '6804', 'J.5', '05C21', 'cs.NA', '51N05', 'math.AP', '68R99', '62-08', '65D05', 'I.4.4', 'math.OA', 'q-bio.QM', 'A.1', '41A10', '90C10', '60J27', '92C55', '68T05 91E40', '41A30', 'D.1.3', 'cs.CY', '68T99', 'astro-ph.EP', '14J60', 'I.3.5', '93B15', '46N10', 'cond-mat.str-el', '33E10', '90C30', 'I.5.4', '86-08', 'I.2.2', 'I.6.6', '90C26', '62-07l', '65N99', '47G30', '91F20', '37H99', 'math.DS', 'C.2.6', 'cs.MA', 'cs.AI', '90B22', 'nlin.AO', 'q-bio.NC', '62G09', 'cs.LO', '68Q87', '05C85', '35K15', 'I.2.4.j', '44A12', '65D15', 'I.3.4', '62F12', '53A04', 'G.1.3', '42-08', 'G.2.3', '90C40', '49N45', '60J25', 'cs.AR', 'I.3.6', '41A65', 'I.2.m', 'stat.TH', '46N30', '80A30', '62M05', '62P10', 'q-bio.OT', 'q-fin.MF', 'C.2.2', 'physics.ao-ph', '68Wxx', '05B45', 'H.4.0', 'q-bio.BM', '65L07', '35J08', 'K.5.2', 'K.3.m', '65F30', 'I.5.4.b', '30E05', 'math-ph', '68T05', '62B86', 'math.AG', '92D20', '60G35', '03D10', '42B35', '93C41', '65F15', 'K.3.8', 'I.2.1', '14J26', '94', 'I.0', 'D.2.2', '68N20', 'math.NT', 'q-fin.RM', '90-05', '15A06', '62F07', 'cond-mat.dis-nn', '62H17', 'I.4.6', '90-06', '00-02', 'math.HO', 'cs.DS', 'D.2.8', '2020: 49N45', '49M29', 'math.AC', 'cs.DL', '62M09', '62D05', '65Zxx', '86-04', 'I.6.8', '60J05', '74Q15', 'K.4.4', 'cond-mat.soft', '35Q84', 'I.5.4.m', '35K08', '68W05', '91D30', '68T37', 'H.4', 'H.1.2', '94A15', 'B.7.2', '90Cxx', '30C40', '90C35', '78', 'I.4.5', '14T10', '62-09', 'G.1.2', 'I.2.5', '68T04', '97C30', '68Txx', '68W25', 'F.2', 'physics.comp-ph', '49M37', '74L05', '15A63', '11Y16', '92B99', '68: computer science', '94C15', 'q-fin.PM', 'J.3.1', '37N99', '91B84', '47N30', '60G60', 'org', '10010147.10010257.10010258.10010259.10010263', '60J20', 'q-fin.ST', '47G20', '49', '62M02', '91G70', '37G05', 'math.CT', '26A33', '6006', 'astro-ph', 'H.2.0', 'I.6', '93B35', 'H.2', '90-01', '47N10', 'physics.class-ph', '62A09', 'gr-qc', 'math.ST', '60D05', 'C.4', 'I.4.m I.2.7', 'J.4', 'J.m', 'H.3.4', '68T50', '68U01', 'math.PR', '82C32', 'I.5.2.b', 'F.2.2', 'I.5.1', 'F.m', '92-XX', '46E30', 'H.1.1', 'cs.GT', '58J90', '92B20', '65D10', '68R10', '62-02', 'astro-ph.CO', '65N21', '35K55', 'math.MG', '35J50', 'F.2.0', 'math.RT', 'H.2.4', '68T30', '62R07', '65Z05', 'cs.MM', '65M99', '68M25', '90C59', '62P30', 'math.GT', '68Q42', '70-08', '05C70', 'I.6.4', 'I.1.2', '90-10', 'This paper tells us how human can be identified by their Gait cycle\\n  using any simple camera', '55N31', '35J15', '60G55', 'math.LO', '62H15', '68-04', '90C22', 'cond-mat.mtrl-sci', 'cs.SY', 'physics.chem-ph', '00', '94A60', '65Kxx', '05C62', 'eess.SY', '60-08', '05C81', 'I.3.3', 'C.2.1', '60H99', '68T05', '65L05', '62F35', 'adap-org', '60G99', '49J55', '55N99', 'physics.app-ph', 'J.2.5', '91Bxx', '05A16', 'stat.AP', '11Z05', '60H30', '62H20', '76T99', '49Q22', 'math.GN', 'G.1', 'astro-ph.SR', 'D.2.0', '62G86', '49J20', '68W01', '00B25', '06B99', '35Q74', '68T27', '65T50', '15A60', 'F.2.4', '68U20', 'cs.GR', '91A80', '65Dxx', 'F.4.1', 'I.2.10.f', '68U05', '05C99', '62H30', '62P10', '35K57', '03B70', '93B50', '65C60', '62P35', '62G08', 'K.4.2', '91B10', '68U10', '68N30', 'E.2', '62', '65Yxx', '97R40', 'math.AT', '53A20', '34C20', '90C06', '86A10', '91-08', 'nlin.CG', '62F15', '35R02', '90-08', 'H.5.5', 'C.2.4', 'B.7.1', '58D10', 'F.1.3', 'G.2', 'cs.OS', 'I.6.3', 'nucl-th', '91B16', '46M15', '68-XX', '49M15', '41A63', 'J.3', '34A99', 'astro-ph.IM', '14Q15', '65K10', '41A46', '62J99', '62F10', 'I.1.4', '47A58', '35B50', '35A18', '62J12', '62F40', '60L20', 'G.1.0', 'D.4.6', 'cs.PF', '60G10', '62G32', '49-06', '47A60', '52C25', '68U15', '81Pxx', 'econ.EM', 'hep-th', '60B20', '65D18', 'eess.SP', '62h30', 'H.0', '65D17', 'I.7.1', '16G20', 'nlin.PS', 'cond-mat', 'C.1.3', 'E.3', 'I.5.3', 'math.SP', 'physics.pop-ph', '60L10', 'G.1.8', 'cs.DB', '54F45', '76M10', '91G80', '93E20', '62P15', 'I.6.5', 'I.3.0', '60C05', '65J22', 'I.5.5', 'math.CV', 'I.2.1 Applications Expert Systems', 'q-fin.CP', '14R10', 'stat.OT', '03-04', 'B.5.1', 'F.1.1', 'I.4.3', 'I.3.7', '90C25', '62C10', 'cs.SI', 'cs.FL', '43A32', 'E.5', '51K05', 'I.2.10', 'I.7', '35Q79', 'q-fin.PR', '57Z25', 'I.7.5', '60K35', '68Q25', 'F.4.2', 'D.2.11', '62R01', 'C.2', '62J07', '65M22', '62M10', 'H.3', 'I.2.9', '68T07', '68U35', 'H.3.3', '90C27', '65M06', '65F22', 'math.IT', '93E10', '94-02', '62E10', 'I.4.9', 'cs.CV', '41A52', '54E05', 'I.2.3', 'G.3', 'G.2.1', 'E.4', 'nlin.CD', 'cs.SC', 'cs.HC', '49N30', 'G.3.7', '65S05', '65M12', '65M20', 'F.2.1', 'physics.flu-dyn', '93', '53B20', '65C10', '68-01', '65F55', '60H05', '68T42', '68T01', '62C05', '90C05', '65N12', '62L10', '49M41', 'physics.bio-ph', '54E40', '06A06', '90C08', '68P30', '68', '91E40', 'cs.CR', 'H.2.8', '47B34', 'cs.NE', 'I.4.7', 'q-fin.TR', '91C99', 'J.0', '68W99', '62F03', '49-11', 'physics.soc-ph', 'q-bio.CB', 'math.MP', '65N06', '62G20', 'I.3.8', '37M10', '68U99', '74B05', '76S05', '35P15', 'physics.optics', '94A17', 'hep-lat', 'cs.DC', 'Computing methodologies for image processing', 'J.6', '62P99', 'I.2.7.g', 'q-bio.TO', 'I.4.2', '68U10', 'I.2.11', '65C50', '35A15', '92C50', '93B30', '46M40', '60', 'q-bio.GN', 'physics.plasm-ph', 'cond-mat.stat-mech', 'I.1.3', '62G05', '46E22', '03B52', '74L10', '03G10', '90', 'K.3.2', '65C20', '68T09', 'cs.CG', '62M40', '65C30', 'cs.RO', '82B20', 'cs.ET', 'D.3.2', '11J71', 'cs.IR', 'K.4', '62R40', 'physics.acc-ph', 'J.1', 'cs.SE', 'ams.org', 'physics.geo-ph', '68T01', 'cs.PL', '37M25', 'G.4', '55U10', 'cond-mat.other', '60G40', '93Cxx', 'math.NA', '14M25', 'stat.CO', '53A17', 'C.4.4', '49N10', 'I.2', '97N80', '92B25 92F99', '57-08', 'G.2.2', '37E25', '41A05', '35Q68', 'D.2', '90B99', '37M05', '15A69', '34H05', 'I.5', '97P30', 'B.4.2', '94A08', 'cs.LG', 'I.4.10', '68P15', 'math.CO', '05C60', '06A15', '60J10', '62G35', '62B10', '92B20', '26B40', 'cs.SD', 'cs.CL', 'I.2.0.b', 'B.m', '54H30', '62-07', '49L20', 'q-bio.PE', '62J10', '68T45', '15A83', 'H.5.1', 'I.2.7', '65T60', '42C40', '60J22', '47B32', '46M20', '65M55', '2010', '68T20', 'cs.IT', '28A33', '62G99', '58E30', '05C80', 'G.1.6', '92E10', '90B18', '14F05', 'C.3', '91B08', '68W27', 'I.4.1', '62M45', '68Q32', 'q-fin.GN', 'eess.IV', 'G.2.6', 'I.2.8', 'I.4.8', 'G.3.11', '74S05', 'q-fin.EC', '65C05', 'I5.3', '14M07', '68P20', 'nucl-ex', '68T10', '62H35', '65R30', 'I.3', '65R32', 'I.2.6', '55U99', '68W15', '35-XX', '37N35', '90C90', 'cs.NI', 'cs.MS', '90C17', '37N30', '90C46', 'physics.ins-det', 'Computer science applications- 97R60 Computer graphics', 'stat.ME', '68W10', 'cs.DM', '62P12', 'I.2.0', '62G10', '60-06', '60G09', 'astro-ph.GA', 'physics.space-ph', 'E.0', 'F.3.1', 'Artificial intelligence', 'hep-ph', '15A29']\n"
     ]
    }
   ],
   "source": [
    "tags_list = []\n",
    "for tag in tags:\n",
    "    tag = tag.replace('(Primary)', '')\n",
    "    tag = tag.replace('Primary', '')\n",
    "    tag = tag.replace('(Secondary)', '')\n",
    "    tag = tag.replace('(secondary)', '')\n",
    "    tag = tag.replace('secondary', '')\n",
    "    tag = tag.replace('Secondary', '')\n",
    "    tag = tag.replace('and ', '')\n",
    "    tags_list.append(tag.strip())\n",
    "print(tags_list)"
   ]
  },
  {
   "cell_type": "code",
   "execution_count": 32,
   "metadata": {},
   "outputs": [],
   "source": [
    "# create empty lists for each classification\n",
    "msc = set()\n",
    "ccs = set()\n",
    "arxiv = set()\n",
    "misc = set()\n",
    "\n",
    "for tag in tags_list:\n",
    "    if re.match(r'\\d{2}[A-Z]\\d{2}|\\d{2}[A-Z]-xx|\\d{2}\\w{2,}', tag):\n",
    "        msc.add(tag)\n",
    "    elif re.match(r'\\d{2}-\\d{2}|\\d{2}-xx|\\d{2}-XX', tag):\n",
    "        msc.add(tag)\n",
    "    elif re.match(r'\\d{2}', tag):\n",
    "        msc.add(tag)\n",
    "    elif re.match(r'[A-Z]\\.\\d\\.\\d', tag):\n",
    "        ccs.add(tag)\n",
    "    elif re.match(r'[A-Z]\\.\\d', tag):\n",
    "        ccs.add(tag)\n",
    "    elif re.match(r'[A-Z]\\d\\.\\d', tag):\n",
    "        ccs.add(tag)\n",
    "    elif re.match(r'\\w+\\.\\w+', tag):\n",
    "        arxiv.add(tag)\n",
    "    elif re.match(r'\\w+-\\w+\\.\\w+-\\w+', tag):\n",
    "        arxiv.add(tag)\n",
    "    elif re.match(r'\\w+-\\w+\\.\\w+', tag):\n",
    "        arxiv.add(tag)\n",
    "    elif re.match(r'\\w+-\\w+', tag):\n",
    "        arxiv.add(tag)\n",
    "    else:\n",
    "        misc.add(tag)"
   ]
  },
  {
   "cell_type": "code",
   "execution_count": 33,
   "metadata": {},
   "outputs": [
    {
     "name": "stdout",
     "output_type": "stream",
     "text": [
      "MSC: 453\n",
      "CCS: 162\n",
      "ArXiv: 149\n",
      "Misc: 5\n"
     ]
    }
   ],
   "source": [
    "print(f'MSC: {len(msc)}\\nCCS: {len(ccs)}\\nArXiv: {len(arxiv)}\\nMisc: {len(misc)}')"
   ]
  },
  {
   "cell_type": "code",
   "execution_count": 34,
   "metadata": {},
   "outputs": [],
   "source": [
    "msc.add('97R60')\n",
    "del misc"
   ]
  },
  {
   "cell_type": "code",
   "execution_count": 35,
   "metadata": {},
   "outputs": [],
   "source": [
    "msc_cleaned = pd.DataFrame(list(msc), columns=['msc'])\n",
    "ccs_cleaned = pd.DataFrame(list(ccs), columns=['ccs'])\n",
    "arxiv_cleaned = pd.DataFrame(list(arxiv), columns=['arxiv'])"
   ]
  },
  {
   "cell_type": "code",
   "execution_count": 36,
   "metadata": {},
   "outputs": [],
   "source": [
    "msc_codes = pd.read_csv(r'msc_classification.csv')\n",
    "acm_codes = pd.read_csv(r'acm_classification.csv')\n",
    "arxiv_codes = pd.read_csv(r'arxiv_classification.csv')"
   ]
  },
  {
   "cell_type": "code",
   "execution_count": 41,
   "metadata": {},
   "outputs": [],
   "source": [
    "with open(r'missing_descriptions.txt', 'w') as fp:\n",
    "    fp.write('MSC\\n')\n",
    "    for code in msc_cleaned['msc']:\n",
    "        if code not in msc_codes['code'].values:\n",
    "            fp.write(f'{code}\\n')\n",
    "    fp.write('\\nCCS\\n')\n",
    "    for code in ccs_cleaned['ccs']:\n",
    "        if code not in acm_codes['class'].values:\n",
    "            fp.write(f'{code}\\n')\n",
    "    fp.write('\\n\\nArXiv\\n')\n",
    "    for code in arxiv_cleaned['arxiv']:\n",
    "        if code not in arxiv_codes['class_code'].values:\n",
    "            fp.write(f'{code}\\n')"
   ]
  }
 ],
 "metadata": {
  "kernelspec": {
   "display_name": "Python 3",
   "language": "python",
   "name": "python3"
  },
  "language_info": {
   "codemirror_mode": {
    "name": "ipython",
    "version": 3
   },
   "file_extension": ".py",
   "mimetype": "text/x-python",
   "name": "python",
   "nbconvert_exporter": "python",
   "pygments_lexer": "ipython3",
   "version": "3.11.3"
  },
  "orig_nbformat": 4
 },
 "nbformat": 4,
 "nbformat_minor": 2
}
