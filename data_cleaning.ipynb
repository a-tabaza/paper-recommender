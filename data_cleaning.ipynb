{
 "cells": [
  {
   "cell_type": "code",
   "execution_count": 1,
   "metadata": {},
   "outputs": [],
   "source": [
    "import pandas as pd \n",
    "import numpy as np\n",
    "import ast\n",
    "import re\n",
    "from bs4 import BeautifulSoup\n",
    "import PyPDF2 # type: ignore\n",
    "from sentence_transformers import SentenceTransformer, util # type: ignore"
   ]
  },
  {
   "cell_type": "code",
   "execution_count": 3,
   "metadata": {},
   "outputs": [
    {
     "data": {
      "application/vnd.jupyter.widget-view+json": {
       "model_id": "b90d698cee754ecf8bf728368fa78779",
       "version_major": 2,
       "version_minor": 0
      },
      "text/plain": [
       "Downloading (…)0cfdf/.gitattributes:   0%|          | 0.00/690 [00:00<?, ?B/s]"
      ]
     },
     "metadata": {},
     "output_type": "display_data"
    },
    {
     "data": {
      "application/vnd.jupyter.widget-view+json": {
       "model_id": "65d9f2ff1e324254af249f2ab9193792",
       "version_major": 2,
       "version_minor": 0
      },
      "text/plain": [
       "Downloading (…)_Pooling/config.json:   0%|          | 0.00/190 [00:00<?, ?B/s]"
      ]
     },
     "metadata": {},
     "output_type": "display_data"
    },
    {
     "data": {
      "application/vnd.jupyter.widget-view+json": {
       "model_id": "53e623e9dddc43208564ea24cb4397d5",
       "version_major": 2,
       "version_minor": 0
      },
      "text/plain": [
       "Downloading (…)5bdce0cfdf/README.md:   0%|          | 0.00/3.99k [00:00<?, ?B/s]"
      ]
     },
     "metadata": {},
     "output_type": "display_data"
    },
    {
     "data": {
      "application/vnd.jupyter.widget-view+json": {
       "model_id": "29108653f1df4b2a81de4263f55944b7",
       "version_major": 2,
       "version_minor": 0
      },
      "text/plain": [
       "Downloading (…)dce0cfdf/config.json:   0%|          | 0.00/548 [00:00<?, ?B/s]"
      ]
     },
     "metadata": {},
     "output_type": "display_data"
    },
    {
     "data": {
      "application/vnd.jupyter.widget-view+json": {
       "model_id": "924dc23d5cad40178988e422fdf077ab",
       "version_major": 2,
       "version_minor": 0
      },
      "text/plain": [
       "Downloading (…)ce_transformers.json:   0%|          | 0.00/122 [00:00<?, ?B/s]"
      ]
     },
     "metadata": {},
     "output_type": "display_data"
    },
    {
     "data": {
      "application/vnd.jupyter.widget-view+json": {
       "model_id": "e43fa9d716c44784ae40ea825e2af33b",
       "version_major": 2,
       "version_minor": 0
      },
      "text/plain": [
       "Downloading pytorch_model.bin:   0%|          | 0.00/265M [00:00<?, ?B/s]"
      ]
     },
     "metadata": {},
     "output_type": "display_data"
    },
    {
     "data": {
      "application/vnd.jupyter.widget-view+json": {
       "model_id": "0726e2c4e9cd449b8ef29dd461578e08",
       "version_major": 2,
       "version_minor": 0
      },
      "text/plain": [
       "Downloading (…)nce_bert_config.json:   0%|          | 0.00/53.0 [00:00<?, ?B/s]"
      ]
     },
     "metadata": {},
     "output_type": "display_data"
    },
    {
     "data": {
      "application/vnd.jupyter.widget-view+json": {
       "model_id": "34db21146d0248c1b8772441e18cd2ac",
       "version_major": 2,
       "version_minor": 0
      },
      "text/plain": [
       "Downloading (…)cial_tokens_map.json:   0%|          | 0.00/112 [00:00<?, ?B/s]"
      ]
     },
     "metadata": {},
     "output_type": "display_data"
    },
    {
     "data": {
      "application/vnd.jupyter.widget-view+json": {
       "model_id": "bc0fb577287c4760931ea2fac8c302ab",
       "version_major": 2,
       "version_minor": 0
      },
      "text/plain": [
       "Downloading (…)0cfdf/tokenizer.json:   0%|          | 0.00/466k [00:00<?, ?B/s]"
      ]
     },
     "metadata": {},
     "output_type": "display_data"
    },
    {
     "data": {
      "application/vnd.jupyter.widget-view+json": {
       "model_id": "dab113b3647947ae8656bc533ee05d7e",
       "version_major": 2,
       "version_minor": 0
      },
      "text/plain": [
       "Downloading (…)okenizer_config.json:   0%|          | 0.00/547 [00:00<?, ?B/s]"
      ]
     },
     "metadata": {},
     "output_type": "display_data"
    },
    {
     "data": {
      "application/vnd.jupyter.widget-view+json": {
       "model_id": "606c65f08d5f42ceb3b40c532b3a6abb",
       "version_major": 2,
       "version_minor": 0
      },
      "text/plain": [
       "Downloading (…)5bdce0cfdf/vocab.txt:   0%|          | 0.00/232k [00:00<?, ?B/s]"
      ]
     },
     "metadata": {},
     "output_type": "display_data"
    },
    {
     "data": {
      "application/vnd.jupyter.widget-view+json": {
       "model_id": "e317b4407584481a89537f1de619832f",
       "version_major": 2,
       "version_minor": 0
      },
      "text/plain": [
       "Downloading (…)ce0cfdf/modules.json:   0%|          | 0.00/229 [00:00<?, ?B/s]"
      ]
     },
     "metadata": {},
     "output_type": "display_data"
    }
   ],
   "source": [
    "model = SentenceTransformer('msmarco-distilbert-base-tas-b')"
   ]
  },
  {
   "attachments": {},
   "cell_type": "markdown",
   "metadata": {},
   "source": [
    "#### Tags Text Cleaning"
   ]
  },
  {
   "cell_type": "code",
   "execution_count": 4,
   "metadata": {},
   "outputs": [],
   "source": [
    "def clean_categories(categories):\n",
    "    tags = [tag.strip() for tag in ast.literal_eval(categories)]\n",
    "    return tags"
   ]
  },
  {
   "cell_type": "code",
   "execution_count": 5,
   "metadata": {},
   "outputs": [],
   "source": [
    "df = pd.read_csv(r'arxiv-paper-abstracts\\arxiv_data_210930-054931.csv')\n",
    "categories = pd.DataFrame(list(df['terms'].unique()),columns=['categories'])\n",
    "categories['clean_categories'] = categories['categories'].apply(clean_categories)\n",
    "tags = set()\n",
    "for index, row in categories.iterrows():\n",
    "    categories = row['clean_categories']\n",
    "    for category in categories:\n",
    "        tags.add(category)\n",
    "tags_df = pd.DataFrame(list(tags), columns=['tags'])\n",
    "tags = set()\n",
    "for index, row in tags_df.iterrows():\n",
    "    categories_str = row['tags']\n",
    "    categories_list = [category.strip() for category in categories_str.replace(',', ';').split(';')]\n",
    "    for category in categories_list:\n",
    "        tags.add(category)\n",
    "tags_df = pd.DataFrame(list(tags), columns=['tags'])\n",
    "tags = set()\n",
    "for index, row in tags_df.iterrows():\n",
    "    categories_str = row['tags']\n",
    "    categories_list = [category.strip() for category in categories_str.replace(',', ';').split(';')]\n",
    "    for category in categories_list:\n",
    "        if '(' in category and ')' in category:\n",
    "            subcategories = [subcat.strip() for subcat in category.split() if subcat[0].isdigit()]\n",
    "            for subcategory in subcategories:\n",
    "                tags.add(subcategory)\n",
    "        else:\n",
    "            tags.add(category)\n",
    "tags.discard('')\n"
   ]
  },
  {
   "cell_type": "code",
   "execution_count": 6,
   "metadata": {},
   "outputs": [
    {
     "name": "stdout",
     "output_type": "stream",
     "text": [
      "['34C20', '94A17', '11Y16', 'I.4.m I.2.7', '91A06', '62P15', 'K.5.2', '68U20', '68N20', '68W10', '60', '91-10', 'I.1.4', 'cond-mat.soft', '62G20', '68Tx', '92C50', '37M25', '14M15', '05C80', '62R01', '62D05', '49L20', 'cs.GR', 'F.4.1', '90B22', 'I.6.6', 'astro-ph.SR', '49', '49N10', '65D17', '51M20', 'G.2.2', 'D.3.4', 'J.7', '53A17', '42-08', '58J35', '68Q87', 'E.4', '90C20', '62-08', 'cs.MM', 'cs.OS', '00Bxx', 'F.3.1', '65F22', '60G99', '2020: 49N45', 'F.1.3', 'physics.class-ph', 'J.2.', 'K.4.2', 'I.2.0', '97R40', 'A.1', '05A16', '60H30', '68P99', '60G55', 'J.5', 'eess.AS', '62E10', '60D05', '42B35', '15A29', '65C50', 'math.AT', '60H99', '05B45', 'H.2.7', '68W50', 'G.1.3', '41A10', 'physics.comp-ph', '68R10', 'I.4.4', '68-06', 'J.1', '35K57', 'G.1.0', 'B.7.2', '68T42', '47G20', '94A34', '62G10', '91D30', '62E17', 'cs.MA', 'D.2.5', '86-08', '62P35', '90C59', 'I.2.4', '68Q55', 'cs.AI', '60J20', 'q-bio.QM', 'G.3.7', '65K05', 'cs.CL', 'physics.acc-ph', '14J26', 'cs.ET', 'K.4', '57Z25', 'G.3', '68-04', '11J71', 'q-fin.GN', '05C20', 'nlin.PS', '68T05 91E40', '28A33', '92-XX', 'I.7.5', '62G07', 'F.m', 'F.2.4', '60G15', '91B08', '68Q32', '90C90', 'D.2', 'q-bio.GN', 'q-bio.MN', 'H.5.2', '60G10', '62P10', '90C06', '68T05', 'This paper tells us how human can be identified by their Gait cycle\\n  using any simple camera', 'I.7', '93E12', '68T07', '94C15', '35R02', 'H.5.5', 'stat.TH', '34A99', '54E40', '76D07', '90C25', '68T27', '49M41', 'Artificial intelligence', '91B84', '62F25', '58J90', '00B25', 'math.AC', '65R30', '90C22', '62H22', '62F40', 'J.2', '62C10', '97P30', 'q-fin.ST', '37M05', 'cs.IT', 'q-bio.NC', 'G.1.2', '78M32', '05C60', '53Z50', '62F07', 'I.2.0.b', 'eess.SY', '68U05', '03D10', '62M09', '60C05', 'physics.ins-det', 'cond-mat.other', '65C30', '6006', '65J22', 'I.5.1', 'G.1.6', '68U15', 'I.5.2', 'I.3.4', '90C10', 'I.2.10.f', '62B10', '93B15', 'H.5.1', '35K55', 'q-bio.CB', '91Bxx', '93B35', '93E03', 'H.2.8', '90C27', 'I.6', 'cs.SI', '76S05', '62G08', 'cond-mat.str-el', 'cs.DM', 'physics.app-ph', '68T09', '65M06', '68T01', '57-08', 'hep-ex', 'I.4.8', '93Cxx', '65Z05', 'J.3.1', '14R10', 'cs.DL', 'cs.CE', '92C55', '65F55', 'cs.SE', '53B20', '35A15', '62C05', '62M05', 'I.2.3', 'C.2.4', 'I.2.10', '92D20', 'I.5.2.b', 'cs.CG', 'stat.CO', 'q-fin.CP', '90C05', '68U10', 'I.2', '62H25', 'hep-lat', 'cs.DS', 'C.2.1', '55N99', '65D05', 'nlin.AO', '06A06', '37M10', 'q-bio.TO', 'G.1', '46N10', 'cs.HC', '92C55', '03-04', '65D15', '97C30', '47B32', '58D10', '55N31', 'H.2.4', '15A83', '49M37', '41A63', 'cs.SD', '37N35', '35CXX', '68W05', 'Computing methodologies for image processing', '35J47', '49M29', 'math.MP', 'I.4.5', 'I.1.2', '35J20', '46M20', '93', '62F12', '68-01', 'math.RA', '35J50', '65D18', '60L20', 'I.5.4', 'cs.NE', 'physics.optics', 'astro-ph.HE', 'F.2.0', 'physics.ed-ph', '68R99', 'I.1.3', '68', 'hep-ph', '62M40', '49J20', 'G.3.11', 'I.6.3', '47N10', '60B20', '65C60', '03B65', 'cs.LO', '92E10', '15A63', 'math.CO', '68: computer science', 'cond-mat.mes-hall', '74B05', 'I.6.4', 'E.3', '65C20', '65N06', 'I.1.5', '35Q68', '97N80', '65L05', 'H.1.1', '62H99', 'math.SP', '35P15', '41A05', 'cond-mat.dis-nn', 'cs.AR', '62G32', 'math.PR', 'I5.3', '62H35', 'cs.CV', '93B50', '62F15', 'G.2.6', '03B52', 'I.5.3', '49N30', 'math.GR', '47A60', 'H.4.0', '14F05', 'hep-th', 'H.2', 'math.ST', '93E35', '37N99', 'H.5.0', '93C41', '62-07', 'nlin.CG', '60J05', '44A12', '05C85', 'J.4', '60J10', '86A10', 'q-bio.BM', '94', '62h30', 'H.4', 'K.3.2', '06A15', 'math.IT', 'I.5.5', '60-08', '26B40', '37E25', '41A65', '62-XX', '65F30', '35Q74', 'C.1.3', '91E30', 'stat.OT', '62M15', 'F.1.1', 'math.OA', 'physics.ao-ph', 'nlin.CD', 'math.DG', '47B34', '62R07', 'I.4.m', '62G86', 'math.DS', 'econ.EM', '68T45 68T07', '76T99', '90Cxx', 'J.2.4', 'nucl-th', '62F35', 'D.2.0', '94A60', '65M12', 'D.3.2', '26A33', '62', '65L07', '68T40', '49Q22', '62F03', 'B.m', 'I.4.0', 'cs.SC', '37Nxx', '74S05', 'physics.chem-ph', '47G30', 'I.2.7', '91C99', '62G99', '90C08', 'q-bio.OT', 'I.3.8', 'astro-ph.CO', '65D10', 'G.2.1', '46N30', '81Pxx', 'cond-mat.mtrl-sci', '68U35', 'I.3.0', 'I.5', 'math-ph', 'stat.ML', 'stat.ME', '41A30', '55R35', '60J27', '68T10', '06B99', '37H99', 'cs.MS', 'cs.RO', '6804', '91E40', 'I.0', '46M40', 'I.2.5', 'I.4.6', 'D.4.6', '74S30', '60L10', '68W27', 'quant-ph', '60E05', 'J.0', '65T60', '58E30', '62J99', 'physics.plasm-ph', '62P30', 'B.4.2', 'I.2.11', '05C62', '68-XX', '00-02', 'q-fin.PM', '47A58', '37G05', 'physics.soc-ph', '65Dxx', '65R32', 'H.3', 'I.4.3', '62G09', '35-XX', '49N45', '60J25', '92B20', '92B25 92F99', 'math.HO', '35Q84', 'cs.GT', 'cs.CY', '62H12', 'physics.data-an', '68T99', '94-02', 'cond-mat.stat-mech', 'I.2.8', '68T05', '90C26', '65F50', 'C.2.2', '14T10', 'D.1.3', '91G70', 'E.2', 'physics.pop-ph', '35Q79', '62C99', 'cs.SY', 'J.2.5', 'math.CT', 'cs.CC', 'D.2.11', 'I.3.5', '90-05', '62J12', '35A18', '14Q15', '62J02', 'math.GN', '91F20', '90B99', '65M20', '94A08', '91C20', '62-02', '62F10', '62P10', '94A12', 'J.m', 'math.NT', '05C70', 'I.3.7', '62H30', '42C40', 'physics.bio-ph', '47N30', '91A60', 'C.4.4', '62J07', '60H05', 'econ.GN', 'physics.flu-dyn', '62-09', '68T30', 'G.1.8', 'H.2.0', '14L24', '74A40', 'I.4.7', 'I.2.4.j', '65N12', 'E.0', '15A69', '68T45', '62M20', '35J08', '90', '60K35', '16G20', 'K.3.8', '76M10', 'math.CV', '68T01', '53A20', '65T50', '05C99', '60G09', '91G80', 'q-fin.TR', 'H.3.3', '60-06', '35K15', 'cs.IR', '55U10', '68Q25', '91A80', 'gr-qc', 'C.3', 'org', 'cs.OH', '54H30', '62M02', '43A32', '46M15', '68W99', '00', 'nucl-ex', '68W01', 'G.1.4', 'physics.med-ph', 'Computer science applications- 97R60 Computer graphics', 'I.2.1 Applications Expert Systems', 'K.4.4', 'physics.space-ph', 'astro-ph.GA', '49Q10', 'H.1.2', 'math.FA', '46E30', 'math.GT', '62D20', '60G40', '86-04', '14M07', 'I.5.4.b', '05C21', 'I.2.1', '62M45', '68W25', 'eess.SP', '65S05', 'cs.PL', '62J05', 'I.3', 'math.LO', '03G10', '54F45', 'adap-org', '68Q42', 'math.CA', '62M10', 'astro-ph.IM', '11Z05', '41A46', 'I.2.6', 'I.3.6', '35J15', '54E05', '74L10', '30E05', '68T04', 'q-fin.EC', '90-10', '90-06', '92', 'eess.IV', '70-08', 'stat.AP', '62B86', 'C.2.6', 'cs.LG', '68Txx', '14M25', '68T20', 'math.RT', '62L10', 'ams.org', '62J10', '90B18', '90-08', 'J.6', 'cs.PF', 'B.7.1', '65Kxx', '92B20', '62J10', 'I.2.m', 'math.AP', 'cs.FL', '68M25', '65K10', '91B16', '51K05', 'I.5.4.m', '10010147.10010257.10010258.10010259.10010263', 'C.4', 'H.3.4', '68T07', '15A06', '62R40', 'H.4.2', 'I.7.1', '78', 'G.2.3', '68W15', 'I.4.10', 'q-fin.PR', '90C30', '55U99', '41A52', '05C81', '94A15', '90-01', 'H.3.1', 'C.2', '68U99', '74L05', '49M15', '90C40', 'K.3.m', '62P99', 'D.2.8', 'math.MG', '68U01', '90C17', '91-08', 'D.2.2', '05C50', '62G35', '68T37', '82C32', '62A09', 'math.NA', 'E.5', 'H.5', 'I.4.9', 'I.2.2', '68Wxx', 'E.1', 'cond-mat', '68P30', 'H.0', '90C46', '65Zxx', 'I.4.1', '62P12', '34H05', 'F.2', '65M55', '33E10', '62G05', '68W40', 'I.5.0', '37N30', 'F.2.1', 'astro-ph.EP', 'H.4.m', 'math.OC', '62-07l', 'G.2', '68P15', 'I.4', '35B50', '49J55', 'J.3', '15B48', 'cs.CR', '53A04', '93E10', '93C85', '65N21', 'cs.NI', '91B10', '62H20', '91A12', '2010', '68P20', 'F.4.2', '62H17', '15A60', '93B30', '51N05', 'I.3.3', '60G60', '65M99', '90C35', '65C10', 'astro-ph', 'math.AG', 'I.2.7.g', '62H15', '65C05', '65M22', '74Pxx', 'B.5.1', 'q-fin.RM', '91A20', '80A30', '68T50', 'G.4', '46E22', '68N30', 'cs.DB', '65D19', 'q-fin.MF', '65F15', 'q-bio.PE', 'I.6.5', '49-06', 'F.2.2', 'I.2.9', '68U10', '60G35', 'physics.geo-ph', '74Q15', '82B20', '92B99', '14J60', '49-11', '65N99', 'I.4.2', '52C25', '65Yxx', 'cs.NA', '93E20', '30C40', 'cs.DC', 'I.6.8', '03B70', 'econ.TH', '35K08', '60J22']\n"
     ]
    }
   ],
   "source": [
    "tags_list = []\n",
    "for tag in tags:\n",
    "    tag = tag.replace('(Primary)', '')\n",
    "    tag = tag.replace('Primary', '')\n",
    "    tag = tag.replace('(Secondary)', '')\n",
    "    tag = tag.replace('(secondary)', '')\n",
    "    tag = tag.replace('secondary', '')\n",
    "    tag = tag.replace('Secondary', '')\n",
    "    tag = tag.replace('and ', '')\n",
    "    tags_list.append(tag.strip())\n",
    "print(tags_list)"
   ]
  },
  {
   "cell_type": "code",
   "execution_count": 7,
   "metadata": {},
   "outputs": [],
   "source": [
    "# create empty lists for each classification\n",
    "msc = set()\n",
    "ccs = set()\n",
    "arxiv = set()\n",
    "misc = set()\n",
    "\n",
    "for tag in tags_list:\n",
    "    if re.match(r'\\d{2}[A-Z]\\d{2}|\\d{2}[A-Z]-xx|\\d{2}\\w{2,}', tag):\n",
    "        msc.add(tag)\n",
    "    elif re.match(r'\\d{2}-\\d{2}|\\d{2}-xx|\\d{2}-XX', tag):\n",
    "        msc.add(tag)\n",
    "    elif re.match(r'\\d{2}', tag):\n",
    "        msc.add(tag)\n",
    "    elif re.match(r'[A-Z]\\.\\d\\.\\d', tag):\n",
    "        ccs.add(tag)\n",
    "    elif re.match(r'[A-Z]\\.\\d', tag):\n",
    "        ccs.add(tag)\n",
    "    elif re.match(r'[A-Z]\\d\\.\\d', tag):\n",
    "        ccs.add(tag)\n",
    "    elif re.match(r'\\w+\\.\\w+', tag):\n",
    "        arxiv.add(tag)\n",
    "    elif re.match(r'\\w+-\\w+\\.\\w+-\\w+', tag):\n",
    "        arxiv.add(tag)\n",
    "    elif re.match(r'\\w+-\\w+\\.\\w+', tag):\n",
    "        arxiv.add(tag)\n",
    "    elif re.match(r'\\w+-\\w+', tag):\n",
    "        arxiv.add(tag)\n",
    "    else:\n",
    "        misc.add(tag)"
   ]
  },
  {
   "cell_type": "code",
   "execution_count": 8,
   "metadata": {},
   "outputs": [
    {
     "name": "stdout",
     "output_type": "stream",
     "text": [
      "MSC: 453\n",
      "CCS: 162\n",
      "ArXiv: 149\n",
      "Misc: 5\n"
     ]
    }
   ],
   "source": [
    "print(f'MSC: {len(msc)}\\nCCS: {len(ccs)}\\nArXiv: {len(arxiv)}\\nMisc: {len(misc)}')"
   ]
  },
  {
   "attachments": {},
   "cell_type": "markdown",
   "metadata": {},
   "source": [
    "**Contents of misc:**\n",
    "- Artificial intelligence': corresponds to 68Txx\n",
    "- Computer science applications- 97R60 Computer graphics': corresponds to 97R60\n",
    "- Computing methodologies for image processing': corresponds to 68U10\n",
    "- This paper tells us how human can be identified by their Gait cycle\\n  using any simple camera': dropped\n",
    "- org: dropped"
   ]
  },
  {
   "cell_type": "code",
   "execution_count": 9,
   "metadata": {},
   "outputs": [],
   "source": [
    "msc.add('97R60')\n",
    "del misc"
   ]
  },
  {
   "cell_type": "code",
   "execution_count": 10,
   "metadata": {},
   "outputs": [],
   "source": [
    "msc_cleaned = pd.DataFrame(list(msc), columns=['msc'])\n",
    "ccs_cleaned = pd.DataFrame(list(ccs), columns=['ccs'])\n",
    "arxiv_cleaned = pd.DataFrame(list(arxiv), columns=['arxiv'])"
   ]
  },
  {
   "attachments": {},
   "cell_type": "markdown",
   "metadata": {},
   "source": [
    "#### Retrieve Descriptions for Each Tag"
   ]
  },
  {
   "cell_type": "code",
   "execution_count": 11,
   "metadata": {},
   "outputs": [],
   "source": [
    "msc_html = r'C:\\Users\\User\\Desktop\\ml_paper_recommender_system\\paper-recommender\\Classification Codes Data\\MSC Classification Codes.html'\n",
    "\n",
    "# Parse MSC Classification Codes html file\n",
    "with open(msc_html) as fp:\n",
    "    msc_soup = BeautifulSoup(fp, 'html.parser')\n",
    "\n",
    "# Extract MSC Classification Codes\n",
    "msc_tree = [element.text for element in msc_soup.find_all('li')]\n",
    "\n",
    "# Define Dictionary for MSC Classification Codes where the key is the main class and the value is a list of sub-classes\n",
    "msc_classes = {}\n",
    "\n",
    "# Populate the dictionary\n",
    "for cls in msc_tree:\n",
    "    if re.match(r'^\\d\\d-xx:', cls):\n",
    "        msc_classes[cls.split('\\n')[0]] = []\n",
    "\n",
    "for element in msc_tree:\n",
    "    for cls in msc_classes.keys():\n",
    "        if cls[0:2] == element[0:2]:\n",
    "            msc_classes[cls].append(element)\n",
    "\n",
    "for cls in msc_classes.keys():\n",
    "    msc_classes[cls].pop(0)\n",
    "\n",
    "# Create a dataframe from the dictionary\n",
    "msc_df = pd.DataFrame(msc_classes.items(),columns=['class','sub_classes'])"
   ]
  },
  {
   "cell_type": "code",
   "execution_count": 13,
   "metadata": {},
   "outputs": [
    {
     "name": "stdout",
     "output_type": "stream",
     "text": [
      "Classes: 397 397, Sub-Classes: 5071 5071, Sub-Sub-Classes: 4647 4647\n"
     ]
    }
   ],
   "source": [
    "cls = []\n",
    "cls_str = []\n",
    "sub_cls = []\n",
    "sub_cls_str = []\n",
    "sub_sub_cls = []\n",
    "sub_sub_cls_str = []\n",
    "for idx, sub_class in enumerate(msc_df['sub_classes'].values):\n",
    "    for sub_sub in sub_class:\n",
    "        if re.match(r'\\d\\d-\\d\\d', sub_sub):\n",
    "            cls.append(sub_sub.split(':')[0])\n",
    "            cls_str.append(sub_sub.split(':')[1].strip())\n",
    "        if re.match(r'\\d\\d\\w\\w\\w', sub_sub):\n",
    "            sub_cls.append(sub_sub.split(':')[0])\n",
    "            sub_cls_str.append(sub_sub.split(':')[1].strip())\n",
    "        if re.match(r'\\d\\d\\w\\d\\d', sub_sub):\n",
    "            sub_sub_cls.append(sub_sub.split(':')[0])\n",
    "            sub_sub_cls_str.append(sub_sub.split(':')[1].strip())\n",
    "print(f'Classes: {len(cls)} {len(cls_str)}, Sub-Classes: {len(sub_cls)} {len(sub_cls_str)}, Sub-Sub-Classes: {len(sub_sub_cls)} {len(sub_sub_cls_str)}')\n",
    "\n",
    "cls_comb = zip(cls, cls_str)\n",
    "cls_comb = list(cls_comb)\n",
    "sub_cls_comb = zip(sub_cls, sub_cls_str)\n",
    "sub_cls_comb = list(sub_cls_comb)\n",
    "sub_sub_cls_comb = zip(sub_sub_cls, sub_sub_cls_str)\n",
    "sub_sub_cls_comb = list(sub_sub_cls_comb)\n",
    "codes_comb = cls_comb + sub_cls_comb + sub_sub_cls_comb\n",
    "codes_comb = list(codes_comb)\n",
    "msc_index = pd.DataFrame(codes_comb, columns=['code', 'description'])"
   ]
  },
  {
   "cell_type": "code",
   "execution_count": 14,
   "metadata": {},
   "outputs": [
    {
     "data": {
      "text/html": [
       "<div>\n",
       "<style scoped>\n",
       "    .dataframe tbody tr th:only-of-type {\n",
       "        vertical-align: middle;\n",
       "    }\n",
       "\n",
       "    .dataframe tbody tr th {\n",
       "        vertical-align: top;\n",
       "    }\n",
       "\n",
       "    .dataframe thead th {\n",
       "        text-align: right;\n",
       "    }\n",
       "</style>\n",
       "<table border=\"1\" class=\"dataframe\">\n",
       "  <thead>\n",
       "    <tr style=\"text-align: right;\">\n",
       "      <th></th>\n",
       "      <th>code</th>\n",
       "      <th>description</th>\n",
       "    </tr>\n",
       "  </thead>\n",
       "  <tbody>\n",
       "    <tr>\n",
       "      <th>0</th>\n",
       "      <td>00-01</td>\n",
       "      <td>Instructional exposition (textbooks, tutorial ...</td>\n",
       "    </tr>\n",
       "    <tr>\n",
       "      <th>1</th>\n",
       "      <td>00-02</td>\n",
       "      <td>Research exposition (monographs, survey articles)</td>\n",
       "    </tr>\n",
       "    <tr>\n",
       "      <th>2</th>\n",
       "      <td>01-00</td>\n",
       "      <td>General reference works (handbooks, dictionari...</td>\n",
       "    </tr>\n",
       "    <tr>\n",
       "      <th>3</th>\n",
       "      <td>01-01</td>\n",
       "      <td>Instructional exposition (textbooks, tutorial ...</td>\n",
       "    </tr>\n",
       "    <tr>\n",
       "      <th>4</th>\n",
       "      <td>01-02</td>\n",
       "      <td>Research exposition (monographs, survey articles)</td>\n",
       "    </tr>\n",
       "    <tr>\n",
       "      <th>...</th>\n",
       "      <td>...</td>\n",
       "      <td>...</td>\n",
       "    </tr>\n",
       "    <tr>\n",
       "      <th>10110</th>\n",
       "      <td>97U50</td>\n",
       "      <td>Computer assisted instruction and programmed i...</td>\n",
       "    </tr>\n",
       "    <tr>\n",
       "      <th>10111</th>\n",
       "      <td>97U60</td>\n",
       "      <td>Manipulative materials and their use in the cl...</td>\n",
       "    </tr>\n",
       "    <tr>\n",
       "      <th>10112</th>\n",
       "      <td>97U70</td>\n",
       "      <td>Technological tools (computers, calculators, s...</td>\n",
       "    </tr>\n",
       "    <tr>\n",
       "      <th>10113</th>\n",
       "      <td>97U80</td>\n",
       "      <td>Audiovisual media and their use in instruction</td>\n",
       "    </tr>\n",
       "    <tr>\n",
       "      <th>10114</th>\n",
       "      <td>97U99</td>\n",
       "      <td>None of the above, but in this section</td>\n",
       "    </tr>\n",
       "  </tbody>\n",
       "</table>\n",
       "<p>10115 rows × 2 columns</p>\n",
       "</div>"
      ],
      "text/plain": [
       "        code                                        description\n",
       "0      00-01  Instructional exposition (textbooks, tutorial ...\n",
       "1      00-02  Research exposition (monographs, survey articles)\n",
       "2      01-00  General reference works (handbooks, dictionari...\n",
       "3      01-01  Instructional exposition (textbooks, tutorial ...\n",
       "4      01-02  Research exposition (monographs, survey articles)\n",
       "...      ...                                                ...\n",
       "10110  97U50  Computer assisted instruction and programmed i...\n",
       "10111  97U60  Manipulative materials and their use in the cl...\n",
       "10112  97U70  Technological tools (computers, calculators, s...\n",
       "10113  97U80     Audiovisual media and their use in instruction\n",
       "10114  97U99             None of the above, but in this section\n",
       "\n",
       "[10115 rows x 2 columns]"
      ]
     },
     "execution_count": 14,
     "metadata": {},
     "output_type": "execute_result"
    }
   ],
   "source": [
    "msc_index"
   ]
  },
  {
   "cell_type": "code",
   "execution_count": 15,
   "metadata": {},
   "outputs": [
    {
     "data": {
      "text/html": [
       "<div>\n",
       "<style scoped>\n",
       "    .dataframe tbody tr th:only-of-type {\n",
       "        vertical-align: middle;\n",
       "    }\n",
       "\n",
       "    .dataframe tbody tr th {\n",
       "        vertical-align: top;\n",
       "    }\n",
       "\n",
       "    .dataframe thead th {\n",
       "        text-align: right;\n",
       "    }\n",
       "</style>\n",
       "<table border=\"1\" class=\"dataframe\">\n",
       "  <thead>\n",
       "    <tr style=\"text-align: right;\">\n",
       "      <th></th>\n",
       "      <th>msc</th>\n",
       "    </tr>\n",
       "  </thead>\n",
       "  <tbody>\n",
       "    <tr>\n",
       "      <th>0</th>\n",
       "      <td>34C20</td>\n",
       "    </tr>\n",
       "    <tr>\n",
       "      <th>1</th>\n",
       "      <td>11Y16</td>\n",
       "    </tr>\n",
       "    <tr>\n",
       "      <th>2</th>\n",
       "      <td>94A17</td>\n",
       "    </tr>\n",
       "    <tr>\n",
       "      <th>3</th>\n",
       "      <td>91A06</td>\n",
       "    </tr>\n",
       "    <tr>\n",
       "      <th>4</th>\n",
       "      <td>62P15</td>\n",
       "    </tr>\n",
       "    <tr>\n",
       "      <th>...</th>\n",
       "      <td>...</td>\n",
       "    </tr>\n",
       "    <tr>\n",
       "      <th>449</th>\n",
       "      <td>93E20</td>\n",
       "    </tr>\n",
       "    <tr>\n",
       "      <th>450</th>\n",
       "      <td>30C40</td>\n",
       "    </tr>\n",
       "    <tr>\n",
       "      <th>451</th>\n",
       "      <td>03B70</td>\n",
       "    </tr>\n",
       "    <tr>\n",
       "      <th>452</th>\n",
       "      <td>35K08</td>\n",
       "    </tr>\n",
       "    <tr>\n",
       "      <th>453</th>\n",
       "      <td>60J22</td>\n",
       "    </tr>\n",
       "  </tbody>\n",
       "</table>\n",
       "<p>454 rows × 1 columns</p>\n",
       "</div>"
      ],
      "text/plain": [
       "       msc\n",
       "0    34C20\n",
       "1    11Y16\n",
       "2    94A17\n",
       "3    91A06\n",
       "4    62P15\n",
       "..     ...\n",
       "449  93E20\n",
       "450  30C40\n",
       "451  03B70\n",
       "452  35K08\n",
       "453  60J22\n",
       "\n",
       "[454 rows x 1 columns]"
      ]
     },
     "execution_count": 15,
     "metadata": {},
     "output_type": "execute_result"
    }
   ],
   "source": [
    "msc_cleaned"
   ]
  },
  {
   "cell_type": "code",
   "execution_count": 45,
   "metadata": {},
   "outputs": [
    {
     "name": "stdout",
     "output_type": "stream",
     "text": [
      "Remaining Missing Codes: 46\n"
     ]
    }
   ],
   "source": [
    "dataset_codes = list(msc_cleaned.msc.values)\n",
    "missing_codes = []\n",
    "for code in dataset_codes:\n",
    "    if code not in list(msc_index.code.values):\n",
    "        missing_codes.append(code)\n",
    "\n",
    "for idx, code in enumerate(missing_codes):\n",
    "    missing_codes[idx] = missing_codes[idx].split(' ')\n",
    "new_list = []\n",
    "for code in missing_codes:\n",
    "    for element in code:\n",
    "        if not isinstance(element, list):\n",
    "            new_list.append([element])\n",
    "missing_codes = [item for sublist in new_list for item in sublist]\n",
    "for idx, code in enumerate(missing_codes):\n",
    "    if code not in list(msc_index.code.values):\n",
    "        missing_codes.remove(code)\n",
    "print(f'Remaining Missing Codes: {len(missing_codes)}')"
   ]
  },
  {
   "cell_type": "code",
   "execution_count": 47,
   "metadata": {},
   "outputs": [],
   "source": [
    "msc_cleaned['description'] = None"
   ]
  },
  {
   "cell_type": "code",
   "execution_count": 55,
   "metadata": {},
   "outputs": [
    {
     "name": "stdout",
     "output_type": "stream",
     "text": [
      "['60', '6006', '93', '68', '68:', 'science', '62', '6804', '00', '2010']\n"
     ]
    }
   ],
   "source": [
    "correct = []\n",
    "incorrect = []\n",
    "for code in missing_codes:\n",
    "    if re.match(r'\\d\\d-\\d\\d', code):\n",
    "        correct.append(code)\n",
    "    elif re.match(r'\\d\\d\\w\\w\\w', code):\n",
    "        correct.append(code)\n",
    "    elif re.match(r'\\d\\d\\w\\d\\d', code):\n",
    "        correct.append(code)\n",
    "    elif re.match(r'\\d\\d-\\w\\w', code):\n",
    "        correct.append(code)\n",
    "    else:\n",
    "        incorrect.append(code)\n",
    "\n",
    "print(incorrect)"
   ]
  },
  {
   "cell_type": "code",
   "execution_count": 56,
   "metadata": {},
   "outputs": [],
   "source": [
    "# Extract Description from MSC Classification Codes 2020\n",
    "reader = PyPDF2.PdfReader(r'C:\\Users\\User\\Desktop\\ml_paper_recommender_system\\paper-recommender\\Classification Codes Data\\msc2020.pdf')\n",
    "missing_corpus = []\n",
    "for idx, page in enumerate(reader.pages):\n",
    "    text = page.extract_text()\n",
    "    for idx, code in enumerate(correct):\n",
    "        if code in text:\n",
    "            missing_corpus.append(text)\n",
    "            # print(f'Page {idx+1}: {code}')"
   ]
  },
  {
   "cell_type": "code",
   "execution_count": 58,
   "metadata": {},
   "outputs": [],
   "source": [
    "for idx, text in enumerate(missing_corpus):\n",
    "    missing_corpus[idx] = text.split('\\n')"
   ]
  },
  {
   "cell_type": "code",
   "execution_count": 59,
   "metadata": {},
   "outputs": [],
   "source": [
    "missing_descriptions = set()\n",
    "for code in missing_codes:\n",
    "    for idx, text in enumerate(missing_corpus):\n",
    "        for line in text:\n",
    "            if code in line:\n",
    "                missing_descriptions.add(line)"
   ]
  },
  {
   "cell_type": "code",
   "execution_count": 60,
   "metadata": {},
   "outputs": [
    {
     "data": {
      "text/plain": [
       "{'(aspects in computer science) [See also 94Axx, 94Bxx]',\n",
       " '05B05 Combinatorial aspects of block designs [See also 51E05, 62K10]',\n",
       " '05C21 Flows in graphs',\n",
       " '05C60 Isomorphism problems in graph theory (reconstruction conjecture, etc.) and homomorphisms (subgraph',\n",
       " '05C62 Graph representations (geometric and intersection representations, etc.) fFor graph drawing, see also 68R10 g',\n",
       " '05C80 Random graphs (graph-theoretic aspects) [See also 60B20]',\n",
       " '05C81 Random walks on graphs',\n",
       " '05C85 Graph algorithms (graph-theoretic aspects) [See also 68R10, 68W05]',\n",
       " '05C90 Applications of graph theory [See also 68R10, 81Q30, 82B20, 82C20, 90C35, 92E10, 94C15]',\n",
       " '05Cxx Graph theory fFor computer science, see 68R10 g',\n",
       " '14T10 Foundations of tropical geometry and relations with algebra fFor algebraic aspects, see 15A80 g',\n",
       " '15-00 General reference works (handbooks, dictionaries, bibliographies, etc.) pertaining to linear algebra',\n",
       " '162',\n",
       " '168',\n",
       " '22E05 Local Lie groups [See also 34-XX, 35-XX, 58H05]',\n",
       " '22E60 Lie algebras of Lie groups fFor the algebraic theory of Lie algebras, see 17Bxx g',\n",
       " '22E70 Applications of Lie groups to the sciences; explicit representations [See also 81R05, 81R10]',\n",
       " '22F30 Homogeneous spaces fFor general actions on manifolds or preserving geometrical structures, see 57M60,',\n",
       " '32Wxx, 35-XX, 53Cxx]',\n",
       " '34H05, 34K35, 65Kxx, 90Cxx, 93-XX]',\n",
       " '34M60 Singular perturbation problems for ordinary di\\x0berential equations in the complex domain (complex WKB,',\n",
       " '35-00 General reference works (handbooks, dictionaries, bibliographies, etc.) pertaining to partial di\\x0berential equa-',\n",
       " '35-XX Partial di\\x0berential equations',\n",
       " '35G60 Boundary value problems for systems of nonlinear higher-order PDEs',\n",
       " \"35J08 Green's functions for elliptic equations\",\n",
       " '35Q60 PDEs in connection with optics and electromagnetic theory',\n",
       " '35Q62 PDEs in connection with statistics',\n",
       " '35Q68 PDEs in connection with computer science',\n",
       " '35Q74 PDEs in connection with mechanics of deformable solids',\n",
       " '35Q79 PDEs in connection with classical thermodynamics and heat transfer',\n",
       " '35Q91 PDEs in connection with game theory, economics, social and behavioral sciences',\n",
       " '35Q92 PDEs in connection with biology, chemistry and other natural sciences',\n",
       " '35Q93 PDEs in connection with control and optimization',\n",
       " '41A60 Asymptotic approximations, asymptotic expansions (steepest descent, etc.) [See also 30E15]',\n",
       " '42-00 General reference works (handbooks, dictionaries, bibliographies, etc.) pertaining to harmonic analysis on',\n",
       " '42-08 Computational methods for problems pertaining to harmonic analysis on Euclidean spaces',\n",
       " '42A75 Classical almost periodic functions, mean periodic functions [See also 43A60]',\n",
       " '42B37 Harmonic analysis and PDEs [See also 35-XX]',\n",
       " '47L90 Applications of operator algebras to the sciences',\n",
       " '47N50 Applications of operator theory in the physical sciences',\n",
       " '47N60 Applications of operator theory in chemistry and life sciences',\n",
       " '47S30 Constructive operator theory [See also 03F60]',\n",
       " '49-00 General reference works (handbooks, dictionaries, bibliographies, etc.) pertaining to calculus of variations',\n",
       " '49-11 Research data for problems pertaining to calculus of variations and optimal control',\n",
       " '49N05 Linear optimal control problems [See also 93C05]',\n",
       " '49N30 Problems with incomplete information (optimization) [See also 93C41]',\n",
       " '49N35 Optimal feedback synthesis [See also 93B52]',\n",
       " '49N45 Inverse problems in optimal control',\n",
       " '49N60 Regularity of solutions in optimal control',\n",
       " '49N90 Applications of optimal control and di\\x0berential games [See also 90C90, 91A80, 93C95]',\n",
       " '55-00 General reference works (handbooks, dictionaries, bibliographies, etc.) pertaining to algebraic topology',\n",
       " '55N31 Persistent homology and applications, topological data analysis [See also 62R40, 68T09]',\n",
       " '55N31g',\n",
       " '57-00 General reference works (handbooks, dictionaries, bibliographies, etc.) pertaining to manifolds and cell',\n",
       " '57-08 Computational methods for problems pertaining to manifolds and cell complexes',\n",
       " '57Z25 Relations of manifolds and cell complexes with computer and data science',\n",
       " '57Zxx Relations of manifolds and cell complexes with science and engineering',\n",
       " '58J60 Relations of PDEs with special manifold structures (Riemannian, Finsler, etc.)',\n",
       " '58J65 Di\\x0busion processes and stochastic analysis on manifolds [See also 35R60, 60H10, 60J60]',\n",
       " '58K60 Deformation of singularities',\n",
       " '58Z05 Applications of global analysis to the sciences',\n",
       " '58Zxx Applications of global analysis to the sciences',\n",
       " '60-00 General reference works (handbooks, dictionaries, bibliographies, etc.) pertaining to probability theory',\n",
       " '60-01 Introductory exposition (textbooks, tutorial papers, etc.) pertaining to probability theory',\n",
       " '60-02 Research exposition (monographs, survey articles) pertaining to probability theory',\n",
       " '60-03 History of probability theory [Consider also classi\\x0ccation numbers from Section 01]',\n",
       " '60-04 Software, source code, etc. for problems pertaining to probability theory',\n",
       " '60-06 Proceedings, conferences, collections, etc. pertaining to probability theory',\n",
       " '60-08 Computational methods for problems pertaining to probability theory',\n",
       " '60-11 Research data for problems pertaining to probability theory',\n",
       " '60-XX Probability theory and stochastic processes fFor additional ap-',\n",
       " '60H05 Stochastic integrals',\n",
       " '60H07 Stochastic calculus of variations and the Malliavin calculus',\n",
       " '60H10 Stochastic ordinary di\\x0berential equations (aspects of stochastic analysis) [See also 34F05]',\n",
       " '60H15 Stochastic partial di\\x0berential equations (aspects of stochastic analysis) [See also 35R60]',\n",
       " '60H17 Singular stochastic partial di\\x0berential equations',\n",
       " '60H20 Stochastic integral equations',\n",
       " '60H25 Random operators and equations (aspects of stochastic analysis) [See also 47B80]',\n",
       " '60H30 Applications of stochastic analysis (to PDEs, etc.)',\n",
       " '60H35 Computational methods for stochastic equations (aspects of stochastic analysis) [See also 65C30]',\n",
       " '60H40 White noise theory',\n",
       " '60H50 Regularization by noise',\n",
       " '60H99 None of the above, but in this section',\n",
       " '60Hxx Stochastic analysis [See also 58J65]',\n",
       " '60J05 Discrete-time Markov processes on general state spaces',\n",
       " '60J10 Markov chains (discrete-time Markov processes on discrete state spaces)',\n",
       " '60J20 Applications of Markov chains and discrete-time Markov processes on general state spaces (social mobility,',\n",
       " '60J22 Computational methods in Markov chains [See also 65C40]',\n",
       " '60J25 Continuous-time Markov processes on general state spaces',\n",
       " '60J27 Continuous-time Markov processes on discrete state spaces',\n",
       " '60J28 Applications of continuous-time Markov processes on discrete state spaces',\n",
       " '60J35 Transition functions, generators and resolvents [See also 47D03, 47D07]',\n",
       " '60J40 Right processes',\n",
       " '60J45 Probabilistic potential theory [See also 31Cxx, 31D05]',\n",
       " '60J46 Dirichlet form methods in Markov processes',\n",
       " '60J50 Boundary theory for Markov processes',\n",
       " '60J55 Local time and additive functionals',\n",
       " '60J57 Multiplicative functionals and Markov processes',\n",
       " '60J60 Di\\x0busion processes [See also 58J65]',\n",
       " '60J65 Brownian motion [See also 58J65]',\n",
       " '60J67 Stochastic (Schramm-)Loewner evolution (SLE)',\n",
       " '60J68 Superprocesses',\n",
       " '60Jxx Markov processes',\n",
       " '62-00 General reference works (handbooks, dictionaries, bibliographies, etc.) pertaining to statistics',\n",
       " '62-01 Introductory exposition (textbooks, tutorial papers, etc.) pertaining to statistics',\n",
       " '62-02 Research exposition (monographs, survey articles) pertaining to statistics',\n",
       " '62-03 History of statistics [Consider also classi\\x0ccation numbers from Section 01]',\n",
       " '62-04 Software, source code, etc. for problems pertaining to statistics',\n",
       " '62-06 Proceedings, conferences, collections, etc. pertaining to statistics',\n",
       " '62-08 Computational methods for problems pertaining to statistics',\n",
       " '62-11 Research data for problems pertaining to statistics',\n",
       " '62-XX Statistics',\n",
       " '62A01 Foundations and philosophical topics in statistics',\n",
       " '62A09 Graphical methods in statistics',\n",
       " '62A86 Fuzzy analysis in statistics',\n",
       " '62A99 None of the above, but in this section',\n",
       " '62Axx Foundational topics in statistics',\n",
       " '62B05 Su\\x0ecient statistics and \\x0celds',\n",
       " '62B10 Statistical aspects of information-theoretic topics [See also 94A17]',\n",
       " '62B11 Information geometry (statistical aspects) fFor di\\x0berential geometric aspects, see 53B12 g',\n",
       " '62B15 Theory of statistical experiments',\n",
       " '62B86 Statistical aspects of fuzziness, su\\x0eciency, and information',\n",
       " '62B99 None of the above, but in this section',\n",
       " '62Bxx Su\\x0eciency and information',\n",
       " '62C05 General considerations in statistical decision theory',\n",
       " '62C07 Complete class results in statistical decision theory',\n",
       " '62C10 Bayesian problems; characterization of Bayes procedures',\n",
       " '62C12 Empirical decision procedures; empirical Bayes procedures',\n",
       " '62C15 Admissibility in statistical decision theory',\n",
       " '62C20 Minimax procedures in statistical decision theory',\n",
       " '62C25 Compound decision problems in statistical decision theory',\n",
       " '62C86 Statistical decision theory and fuzziness',\n",
       " '62C99 None of the above, but in this section',\n",
       " '62Cxx Statistical decision theory [See also 90B50, 91B06] fFor game theory, see 91A35 g',\n",
       " '62G20 Asymptotic properties of nonparametric inference',\n",
       " '62G30 Order statistics; empirical distribution functions',\n",
       " '62G32 Statistics of extreme values; tail inference',\n",
       " '62G35 Nonparametric robustness',\n",
       " '62G86 Nonparametric inference and fuzziness',\n",
       " '62G99 None of the above, but in this section',\n",
       " '62H05 Characterization and structure theory for multivariate probability distributions; copulas',\n",
       " '62H10 Multivariate distribution of statistics',\n",
       " '62H11 Directional data; spatial statistics',\n",
       " '62H12 Estimation in multivariate analysis',\n",
       " '62H15 Hypothesis testing in multivariate analysis',\n",
       " '62H17 Contingency tables',\n",
       " '62H20 Measures of association (correlation, canonical correlation, etc.)',\n",
       " '62H22 Probabilistic graphical models',\n",
       " '62H25 Factor analysis and principal components; correspondence analysis',\n",
       " '62H30 Classi\\x0ccation and discrimination; cluster analysis (statistical aspects) [See also 68T10, 91C20]; mixture',\n",
       " '62H35 Image analysis in multivariate analysis',\n",
       " '62H86 Multivariate analysis and fuzziness',\n",
       " '62H99 None of the above, but in this section',\n",
       " '62Hxx Multivariate analysis [See also 60Exx]',\n",
       " '62J02 General nonlinear regression',\n",
       " '62J05 Linear regression; mixed models',\n",
       " '62J07 Ridge regression; shrinkage estimators (Lasso)',\n",
       " '62J10 Analysis of variance and covariance (ANOVA)',\n",
       " '62J12 Generalized linear models (logistic models)',\n",
       " '62J15 Paired and multiple comparisons; multiple testing',\n",
       " '62J20 Diagnostics, and linear inference and regression',\n",
       " '62J86 Fuzziness, and linear inference and regression',\n",
       " '62J99 None of the above, but in this section',\n",
       " '62Jxx Linear inference, regression',\n",
       " '62N01 Censored data models',\n",
       " '62N02 Estimation in survival analysis and censored data',\n",
       " '62N03 Testing in survival analysis and censored data',\n",
       " '62N05 Reliability and life testing [See also 90B25]',\n",
       " '62N86 Fuzziness, and survival analysis and censored data',\n",
       " '62N99 None of the above, but in this section',\n",
       " '62Nxx Survival analysis and censored data',\n",
       " '62P05 Applications of statistics to actuarial sciences and \\x0cnancial mathematics',\n",
       " '62P10 Applications of statistics to biology and medical sciences; meta analysis',\n",
       " '62P12 Applications of statistics to environmental and related topics',\n",
       " '62P15 Applications of statistics to psychology',\n",
       " '62P20 Applications of statistics to economics [See also 91Bxx]',\n",
       " '62P25 Applications of statistics to social sciences',\n",
       " '62P30 Applications of statistics in engineering and industry; control charts',\n",
       " '62P35 Applications of statistics to physics',\n",
       " '62P99 None of the above, but in this section',\n",
       " '62Pxx Applications of statistics [See also 90-XX, 91-XX, 92-XX]',\n",
       " '62Q05 Statistical tables',\n",
       " '62Q99 None of the above, but in this section',\n",
       " '62Qxx Statistical tables',\n",
       " '62R01 Algebraic statistics',\n",
       " '62R07 Statistical aspects of big data and data science fFor computer science aspects, see 68T09; for information-',\n",
       " '62R10 Functional data analysis',\n",
       " '62R20 Statistics on metric spaces',\n",
       " '62R30 Statistics on manifolds',\n",
       " '62R40 Topological data analysis [See also 55N31]',\n",
       " '62R99 None of the above, but in this section',\n",
       " '62Rxx Statistics on algebraic and topological structures',\n",
       " '65-00 General reference works (handbooks, dictionaries, bibliographies, etc.) pertaining to numerical analysis',\n",
       " '65C20 Probabilistic models, generic numerical methods in probability and statistics [See also 60-08, 62-08]',\n",
       " '65C30 Numerical solutions to stochastic di\\x0berential and integral equations fFor theoretical aspects, see 60H35 g',\n",
       " '65C35 Stochastic particle methods [See also 82M60]',\n",
       " '65C40 Numerical analysis or methods applied to Markov chains [See also 60J22]',\n",
       " '65D17 Computer-aided design (modeling of curves and surfaces) [See also 68U07]',\n",
       " '65D19 Computational issues in computer and robotic vision',\n",
       " '65F35 Numerical computation of matrix norms, conditioning, scaling [See also 15A12, 15A60]',\n",
       " '65F60 Numerical computation of matrix exponential and similar matrix functions',\n",
       " '68N20 Theory of compilers and interpreters',\n",
       " '68N25 Theory of operating systems',\n",
       " '68N30 Mathematical aspects of software engineering (speci\\x0ccation, veri\\x0ccation, metrics, requirements, etc.)',\n",
       " '68N99 None of the above, but in this section',\n",
       " '68P01 General topics in the theory of data',\n",
       " '68P05 Data structures',\n",
       " '68P10 Searching and sorting',\n",
       " '68P15 Database theory',\n",
       " '68P20 Information storage and retrieval of data',\n",
       " '68P25 Data encryption (aspects in computer science) [See also 81P94, 94A60]',\n",
       " '68P27 Privacy of data',\n",
       " '68P30 Coding and information theory (compaction, compression, models of communication, encoding schemes, etc.)',\n",
       " '68P99 None of the above, but in this section',\n",
       " '68Pxx Theory of data',\n",
       " '68Q01 General topics in the theory of computing',\n",
       " '68Q04 Classical models of computation (Turing machines, etc.) [See also 03D10]',\n",
       " '68Q06 Networks and circuits as models of computation; circuit complexity [See also 94C11]',\n",
       " '68Q07 Biologically inspired models of computation (DNA computing, membrane computing, etc.)',\n",
       " '68Q09 Other nonclassical models of computation fFor quantum computing, see mainly 68Q12, 81P68 g',\n",
       " '68Q10 Modes of computation (nondeterministic, parallel, interactive, probabilistic, etc.) [See also 68Q85]',\n",
       " '68Q11 Communication complexity, information complexity',\n",
       " '68Q12 Quantum algorithms and complexity in the theory of computing [See also 68Q09, 81P68]',\n",
       " '68Q15 Complexity classes (hierarchies, relations among complexity classes, etc.) [See also 03D15, 68Q17, 68Q19]',\n",
       " '68Q17 Computational di\\x0eculty of problems (lower bounds, completeness, di\\x0eculty of approximation, etc.) [See',\n",
       " '68Q19 Descriptive complexity and \\x0cnite models [See also 03C13]',\n",
       " '68Q25 Analysis of algorithms and problem complexity [See also 68W40]',\n",
       " '68Q27 Parameterized complexity, tractability and kernelization',\n",
       " '68Q30 Algorithmic information theory (Kolmogorov complexity, etc.) [See also 03D32]',\n",
       " '68Q32 Computational learning theory [See also 68T05]',\n",
       " '68Q42 Grammars and rewriting systems',\n",
       " '68Q45 Formal languages and automata [See also 03D05, 68Q70, 94A45]',\n",
       " '68Q55 Semantics in the theory of computing [See also 03B70, 06B35, 18C50]',\n",
       " '68Q60 Speci\\x0ccation and veri\\x0ccation (program logics, model checking, etc.) [See also 03B70]',\n",
       " '68Q65 Abstract data types; algebraic speci\\x0ccation [See also 18C50]',\n",
       " '68Q70 Algebraic theory of languages and automata [See also 18B20, 20M35]',\n",
       " '68Q80 Cellular automata (computational aspects) fFor cellular automata as dynamical systems, see 37B15 g',\n",
       " '68Q85 Models and methods for concurrent and distributed computing (process algebras, bisimulation, transition',\n",
       " '68Q87 Probability in computer science (algorithm analysis, random structures, phase transitions, etc.) [See also',\n",
       " '68Q99 None of the above, but in this section',\n",
       " '68Qxx Theory of computing',\n",
       " '68R01 General topics of discrete mathematics in relation to computer science',\n",
       " '68R05 Combinatorics in computer science',\n",
       " '68R07 Computational aspects of satis\\x0cability [See also 68T20]',\n",
       " '68R10 Graph theory (including graph drawing) in computer science [See also 05Cxx, 90B10, 90C35]',\n",
       " '68R12 Metric embeddings as related to computational problems and algorithms',\n",
       " '68R15 Combinatorics on words',\n",
       " '68R99 None of the above, but in this section',\n",
       " '68Rxx Discrete mathematics in relation to computer science',\n",
       " '68T01 General topics in arti\\x0ccial intelligence',\n",
       " '68T05 Learning and adaptive systems in arti\\x0ccial intelligence [See also 68Q32]',\n",
       " '68T07 Arti\\x0ccial neural networks and deep learning',\n",
       " '68T09 Computational aspects of data analysis and big data [See also 62R07] fFor homological aspects, see 55N31 g',\n",
       " '68T10 Pattern recognition, speech recognition fFor cluster analysis, see 62H30 g',\n",
       " '68T20 Problem solving in the context of arti\\x0ccial intelligence (heuristics, search strategies, etc.)',\n",
       " '68T27 Logic in arti\\x0ccial intelligence',\n",
       " '68T30 Knowledge representation',\n",
       " '68T35 Theory of languages and software systems (knowledge-based systems, expert systems, etc.) for arti\\x0ccial',\n",
       " '68T37 Reasoning under uncertainty in the context of arti\\x0ccial intelligence',\n",
       " '68T40 Arti\\x0ccial intelligence for robotics [See also 93C85]',\n",
       " '68T42 Agent technology and arti\\x0ccial intelligence',\n",
       " '68T45 Machine vision and scene understanding',\n",
       " '68T50 Natural language processing [See also 03B65, 91F20]',\n",
       " '68T99 None of the above, but in this section',\n",
       " '68Txx Arti\\x0ccial intelligence',\n",
       " '68U01 General topics in computing methodologies',\n",
       " '68U03 Computational aspects of digital topology fFor topological aspects, see 54H30; for homological aspects, see',\n",
       " '68U05 Computer graphics; computational geometry (digital and algorithmic aspects) fFor methods of numerical',\n",
       " '68U05]',\n",
       " '68U07 Computer science aspects of computer-aided design fFor methods of numerical mathematics, see 65D17 g',\n",
       " '68U10 Computing methodologies for image processing',\n",
       " '68U10]',\n",
       " '68U15 Computing methodologies for text processing; mathematical typography',\n",
       " '68U35 Computing methodologies for information systems (hypertext navigation, interfaces, decision support, etc.)',\n",
       " '68U99 None of the above, but in this section',\n",
       " '68Uxx Computing methodologies and applications',\n",
       " '68V05 Computer assisted proofs of proofs-by-exhaustion type fFor rigorous numerics, see 65Gxx; for proofs em-',\n",
       " '68V15 Theorem proving (automated and interactive theorem provers, deduction, resolution, etc.) [See also 03B35]',\n",
       " '68V20 Formalization of mathematics in connection with theorem provers [See also 03B35, 68V15]',\n",
       " '68V25 Presentation and content markup for mathematics',\n",
       " '68V30 Mathematical knowledge management',\n",
       " '68V35 Digital mathematics libraries and repositories',\n",
       " '68V99 None of the above, but in this section',\n",
       " '68Vxx Computer science support for mathematical research and practice',\n",
       " '68W01 General topics in the theory of algorithms',\n",
       " '68W05 Nonnumerical algorithms',\n",
       " '68W10 Parallel algorithms in computer science',\n",
       " '68W15 Distributed algorithms',\n",
       " '68W20 Randomized algorithms',\n",
       " '68W20, 68W40]',\n",
       " '68W25 Approximation algorithms',\n",
       " '68W27 Online algorithms; streaming algorithms',\n",
       " '68W30 Symbolic computation and algebraic computation [See also 11Yxx, 12-08, 13Pxx, 14Qxx, 16Z05, 17-08,',\n",
       " '68W32 Algorithms on strings',\n",
       " '68W35 Hardware implementations of nonnumerical algorithms (VLSI algorithms, etc.) [See also 68M07]',\n",
       " '68W40 Analysis of algorithms [See also 68Q25]',\n",
       " '68W50 Evolutionary algorithms, genetic algorithms (computational aspects) [See also 68T05, 68T20, 90C59]',\n",
       " '68W99 None of the above, but in this section',\n",
       " '68Wxx Algorithms in computer science fFor numerical algorithms, see 65-XX; for',\n",
       " '78M32 Neural and heuristic methods applied to problems in optics and electromagnetic theory',\n",
       " '80-00 General reference works (handbooks, dictionaries, bibliographies, etc.) pertaining to classical thermodynamics',\n",
       " '82-XX, 90-XX, 91-XX, 92-XX, 93-XX, 94-XX g',\n",
       " '82C32 Neural nets applied to problems in time-dependent statistical mechanics [See also 68T05, 91E40, 92B20]',\n",
       " '82C43 Time-dependent percolation in statistical mechanics [See also 60K35]',\n",
       " '82D60 Statistical mechanics of polymers',\n",
       " '86A08 Climate science and climate modeling',\n",
       " '86A60 Geological problems',\n",
       " '90-00 General reference works (handbooks, dictionaries, bibliographies, etc.) pertaining to operations research and',\n",
       " '90-10 Mathematical modeling or simulation for problems pertaining to operations research and mathematical pro-',\n",
       " '91E40 Memory and learning in psychology [See also 68T05]',\n",
       " '91Exx Mathematical psychology fFor psychometrics, see 62P15 g',\n",
       " '91F10 History, political science',\n",
       " '91F20 Linguistics [See also 03B65, 68T50]',\n",
       " '91Fxx Other social and behavioral sciences (mathematical treatment)',\n",
       " '91G60 Numerical methods (including Monte Carlo methods)',\n",
       " '91G70 Statistical methods; risk measures [See also 62P05, 62P20]',\n",
       " '91G80 Financial applications of other theories [See also 35Q91, 37N40, 49N90, 60J70, 60K10, 60H30, 93E20]',\n",
       " '91Gxx Actuarial science and mathematical \\x0cnance fFor statistics, see 62P05 g',\n",
       " '92-00 General reference works (handbooks, dictionaries, bibliographies, etc.) pertaining to biology',\n",
       " '92-XX Biology and other natural sciences',\n",
       " '92B15 General biostatistics [See also 62P10]',\n",
       " '92B20 Neural networks for/in biological studies, arti\\x0ccial life and related topics [See also 68T05, 82C32, 94Cxx]',\n",
       " '92C60 Medical epidemiology fFor theoretical aspects, see 92D30 g',\n",
       " '92D30 EpidemiologyfFor medical applications, see 92C60 g',\n",
       " '92F05 Other natural sciences (mathematical treatment)',\n",
       " '92F99 None of the above, but in this section',\n",
       " '92Fxx Other natural sciences (mathematical treatment)',\n",
       " '93',\n",
       " '93-00 General reference works (handbooks, dictionaries, bibliographies, etc.) pertaining to systems and control',\n",
       " '93-01 Introductory exposition (textbooks, tutorial papers, etc.) pertaining to systems and control theory',\n",
       " '93-02 Research exposition (monographs, survey articles) pertaining to systems and control theory',\n",
       " '93-03 History of systems and control theory [Consider also classi\\x0ccation numbers from Section 01]',\n",
       " '93-04 Software, source code, etc. for problems pertaining to systems and control theory',\n",
       " '93-05 Experimental work for problems pertaining to systems and control theory',\n",
       " '93-XX Systems theory; control fFor optimal control, see 49-XX g',\n",
       " '94A05 Communication theory [See also 60G35, 90B18]',\n",
       " '94A15 Information theory (general) [See also 62B10] fFor quantum-theoretic aspects, see also 81P45 g',\n",
       " '94A16 Informational aspects of data analysis and big data [See also 62R07, 68T09] fFor homological aspects, see',\n",
       " '94A17 Measures of information, entropy [See also 62B10]',\n",
       " '94A29 Source coding [See also 68P30]',\n",
       " '94A45 Pre\\x0cx, length-variable, comma-free codes [See also 20M35, 68Q45]',\n",
       " '94A60 Cryptography [See also 11T71, 14G50, 68P25, 81P94]',\n",
       " '94A62 Authentication, digital signatures and secret sharing',\n",
       " '97M60 Biology, chemistry, medicine (aspects of mathematics education)',\n",
       " '97M70 Behavioral and social sciences (aspects of mathematics education)',\n",
       " '97N60 Mathematical programming (educational aspects)',\n",
       " '97N80 Mathematical software, computer programs (educational aspects)',\n",
       " '97P10 Comprehensive works on computer science (educational aspects)',\n",
       " '97P20 Theoretical computer science (educational aspects)',\n",
       " '97Pxx Computer science (educational aspects)',\n",
       " '[See also 60G50]',\n",
       " '[See also 68M11]',\n",
       " 'also 68Q15]',\n",
       " 'chanics [See also 60H10]',\n",
       " 'combinatorics and graph theory, see 05C85, 68Rxx g',\n",
       " 'fFor theoretical aspects, see 41-XX, 68Uxx g',\n",
       " 'learning theory, industrial processes, etc.) [See also 90B30, 91D10, 91E40]',\n",
       " 'plications, see 05Cxx, 11Kxx, 34-XX, 35-XX, 62-XX, 76-XX, 81-XX,',\n",
       " 'ploying automated or interactive theorem provers, see 68V15 g',\n",
       " 'see 60H15 g'}"
      ]
     },
     "execution_count": 60,
     "metadata": {},
     "output_type": "execute_result"
    }
   ],
   "source": [
    "missing_descriptions"
   ]
  },
  {
   "cell_type": "code",
   "execution_count": null,
   "metadata": {},
   "outputs": [],
   "source": [
    "# Inspected manually because data quality right?\n",
    "missing_descriptions = [\n",
    " '60B20: 60B20 Random matrices (probabilistic aspects)',\n",
    " '62H22: 62H22 Probabilistic graphical models',\n",
    " '97P30: 97P30 Systems, databases (educational aspects)',\n",
    " '05C81: 05C81 Random walks on graphs',\n",
    " '62B86: 62B86 Statistical aspects of fuzziness, sufficiency, and information',\n",
    " '68T42: 68T42 Agent technology and artificial intelligence',\n",
    " '97N80: 97N80 Mathematical software, computer programs (educational aspects)',\n",
    " '60L10: 60L10 Signatures and data streams',\n",
    " '35Q68: 35Q68 PDEs in connection with computer science',\n",
    " '68T07: 68T07 Artificial neural networks and deep learning',\n",
    " '60L20: 60L20 Rough paths',\n",
    " '62-08: 62-08 Computational methods for problems pertaining to statistics',\n",
    " '35Q79: 35Q79 PDEs in connection with classical thermodynamics and heat transfer',\n",
    " '15B48: 15B48 Positive matrices and their generalizations; cones of matrices',\n",
    " '68W50: 68W50 Evolutionary algorithms, genetic algorithms (computational aspects)',\n",
    " '62-XX: 62-XX Statistics',\n",
    " '65Zxx: 65Zxx Applications to the sciences',\n",
    " '62G86: 62G86 Nonparametric inference and fuzziness',\n",
    " '62R40: 62R40 Topological data analysis',\n",
    " '05C21: 05C21 Flows in graphs',\n",
    " \"35J08: 35J08 Green's functions for elliptic equations\",\n",
    " '91-10: 91-10 Mathematical modeling or simulation for problems pertaining to game theory, economics, and Finance',\n",
    " '90-05: 90-05 Experimental work for problems pertaining to operations research and mathematical programming',\n",
    " '68W27: 68W27 Online algorithms; streaming algorithms',\n",
    " '14T10: 14T10 Foundations of tropical geometry and relations with algebra',\n",
    " '62D20: 62D20 Causal inference from observational studies',\n",
    " '49Q22: 49Q22 Optimal transportation',\n",
    " '35R02: 35R02 PDEs on graphs and networks (ramified or polygonal spaces)',\n",
    " '57-08: 57-08 Computational methods for problems pertaining to manifolds and cell complexes',\n",
    " '65F55: 65F55 Numerical methods for low-rank matrix approximation; matrix compression',\n",
    " '90C17: 90C17 Robustness in mathematical programming',\n",
    " '53Z50: 53Z50 Applications of differential geometry to data and computer science',\n",
    " '35J47: 35J47 Second-order elliptic systems',\n",
    " '62R07: 62R07 Statistical aspects of big data and data science',\n",
    " '15A83: 15A83 Matrix completion problems',\n",
    " '91G80: 91G80 Financial applications of other theories',\n",
    " '54H30: 54H30 Applications of general topology to computer science (e.g., digital topology, image processing)',\n",
    " '35K08: 35K08 Heat kernel',\n",
    " '90-10: 90-10 Mathematical modeling or simulation for problems pertaining to operations research and mathematical programming',\n",
    " '78M32: 78M32 Neural and heuristic methods applied to problems in optics and electromagnetic theory',\n",
    " '62A09: 62A09 Graphical methods in statistics',\n",
    " '35Q74: 35Q74 PDEs in connection with mechanics of deformable solids',\n",
    " '55N31: 55N31 Persistent homology and applications, topological data analysis',\n",
    " '68-XX: 68-XX Computer science',\n",
    " '65D19: 65D19 Computational issues in computer and robotic vision',\n",
    " '68M25: 68M25 Computer security',\n",
    " '62-08: 62-08 Computational methods for problems pertaining to statistics',\n",
    " '92-XX: 92-XX Biology and other natural sciences',\n",
    " '35-XX: 35-XX Partial differential equations',\n",
    " '68Q87: 68Q87 Probability in computer science (algorithm analysis, random structures, phase transitions, etc.)',\n",
    " '60B20: 15B52 Random matrices (algebraic aspects) fFor probabilistic aspects, see 60B20 g',\n",
    " '91G70: 91G70 Statistical methods; risk measures [See also 62P05, 62P20]',\n",
    " '62R01: 62R01 Algebraic statistics',\n",
    " '49Q22: 35Q49 Transport equations fFor calculus of variations and optimal control, see 49Q22; for Fluid mechanics, see',\n",
    " '60B20: 60B20 Random matrices (probabilistic aspects)',\n",
    " '49M41: 49M41 PDE constrained optimization (numerical aspects)',\n",
    " '57Z25: 57Z25 Relations of manifolds and cell complexes with computer and data science',\n",
    " '49-11: 49-11 Research data for problems pertaining to calculus of variations and optimal control',\n",
    " '35Q84: 35Q84 Fokker-Planck equations',\n",
    " '42-08: 42-08 Computational methods for problems pertaining to harmonic analysis on Euclidean spaces',\n",
    " '68T09: 68T09 Computational aspects of data analysis and big data',\n",
    " '65M22: 65M22 Numerical solution of discretized equations for initial value and initial-boundary value problems involving ']\n",
    "\n",
    "for idx, desc in enumerate(missing_descriptions):\n",
    "    missing_descriptions[idx] = desc.split(':')\n",
    "\n",
    "\n",
    "for idx, description in enumerate(missing_descriptions):\n",
    "    m, d = missing_descriptions[idx]\n",
    "    for idx2, code in enumerate(msc_cleaned['msc']):\n",
    "        if msc_cleaned['msc'][idx2] == m:\n",
    "            msc_cleaned['description'][idx2] = d.strip()\n",
    "    "
   ]
  },
  {
   "cell_type": "code",
   "execution_count": null,
   "metadata": {},
   "outputs": [],
   "source": [
    "# Split and add misplaced string back to ACM codes\n",
    "print(f'Before: {len(ccs_cleaned)}')\n",
    "acm_misplaced_string = '10010147.10010257.10010258.10010259.10010263'.split('.')\n",
    "for str in acm_misplaced_string:\n",
    "    ccs_cleaned.loc[-1] = str\n",
    "    ccs_cleaned.index = ccs_cleaned.index + 1\n",
    "    ccs_cleaned = ccs_cleaned.sort_index()\n",
    "print(f'After: {len(ccs_cleaned)}')"
   ]
  },
  {
   "cell_type": "code",
   "execution_count": null,
   "metadata": {},
   "outputs": [],
   "source": [
    "rem = msc_cleaned[msc_cleaned['description'].isnull()]['msc'].values\n",
    "rem = ['60-06', '68T05', '91E40', '92B25', '92F99', '35CXX', '97R60', '68-04',\n",
    "       '68T45', '68T07', '62h30', '97R40', '62-07', '68T04']\n",
    "found_rem = []\n",
    "for r in rem:\n",
    "    desc = msc_cleaned['description'][idx]\n",
    "    if r in msc_cleaned['msc'].values:\n",
    "        print(f'Found: {r}')\n",
    "        desc = msc_cleaned[msc_cleaned['msc'] == r]['description'].values[0]\n",
    "        print(f'Description: {desc}')\n",
    "        if desc is not None:\n",
    "            found_rem.append(r)\n",
    "    else:\n",
    "        print(f'Not found: {r}')"
   ]
  },
  {
   "cell_type": "code",
   "execution_count": null,
   "metadata": {},
   "outputs": [],
   "source": [
    "rem = set(rem) - set(found_rem)\n",
    "rem = list(rem)\n",
    "rem"
   ]
  },
  {
   "cell_type": "code",
   "execution_count": null,
   "metadata": {},
   "outputs": [],
   "source": [
    "# TODO: Descriptions should have main class >> sub class >> sub sub class"
   ]
  },
  {
   "cell_type": "code",
   "execution_count": null,
   "metadata": {},
   "outputs": [],
   "source": [
    "# Don't append before finishing TODO above\n",
    "missing_descriptions.append([['97R60', '97-XX Mathematics education'], \n",
    "                            ['92B25', '92-XX Biology and other natural sciences 92Bxx Mathematical biology in general 92B25 Biological rhythms and synchronization'],\n",
    "                            ['68T04', '68-XX Computer science 68Txx Artificial intelligence 68T05 Learning and adaptive systems in artificial intelligence'],\n",
    "                            ['97R40', '97-XX Mathematics education'],\n",
    "                            ['92F99', '92-XX Biology and other natural sciences 92Fxx Other natural sciences (mathematical treatment)'],\n",
    "                            ['62H30', '62-XX Statistics 62Hxx Multivariate analysis  62H30 Classification and discrimination; cluster analysis (statistical aspects); mixture models'],\n",
    "                            ['35CXX', '35Cxx Representations of solutions to partial differential equations']])"
   ]
  },
  {
   "cell_type": "code",
   "execution_count": null,
   "metadata": {},
   "outputs": [],
   "source": [
    "missing_descriptions"
   ]
  }
 ],
 "metadata": {
  "kernelspec": {
   "display_name": "Python 3",
   "language": "python",
   "name": "python3"
  },
  "language_info": {
   "codemirror_mode": {
    "name": "ipython",
    "version": 3
   },
   "file_extension": ".py",
   "mimetype": "text/x-python",
   "name": "python",
   "nbconvert_exporter": "python",
   "pygments_lexer": "ipython3",
   "version": "3.10.8"
  },
  "orig_nbformat": 4
 },
 "nbformat": 4,
 "nbformat_minor": 2
}
