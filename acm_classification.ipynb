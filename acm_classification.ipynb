{
 "cells": [
  {
   "cell_type": "code",
   "execution_count": 1,
   "metadata": {},
   "outputs": [],
   "source": [
    "from bs4 import BeautifulSoup\n",
    "import pandas as pd\n",
    "import numpy as np"
   ]
  },
  {
   "cell_type": "code",
   "execution_count": 2,
   "metadata": {},
   "outputs": [],
   "source": [
    "soup = BeautifulSoup(open('classification_codes_data\\ACM Classification Codes.html'), 'html.parser')\n",
    "classification_codes = soup.find_all('li', id=lambda value: value and value.startswith('code:'))\n",
    "table = []\n",
    "unique_codes = set()\n",
    "for code in classification_codes:\n",
    "    code_description = code.get_text().split('\\n')\n",
    "    for description in code_description:\n",
    "        unique_codes.add(description)\n"
   ]
  },
  {
   "cell_type": "code",
   "execution_count": 3,
   "metadata": {},
   "outputs": [],
   "source": [
    "classes = []\n",
    "description = []\n",
    "for code in unique_codes:\n",
    "    classes.append(code.split(':')[0])\n",
    "    description.append(code.split(':')[1])\n",
    "    assert len(classes) == len(description)\n",
    "\n",
    "df = pd.DataFrame({'class': classes, 'description': description})"
   ]
  },
  {
   "cell_type": "code",
   "execution_count": 4,
   "metadata": {},
   "outputs": [],
   "source": [
    "def clean_code(code):\n",
    "    code = code.split('.')\n",
    "    return code\n",
    "\n",
    "df['identifier'] = df['class'].apply(clean_code)"
   ]
  },
  {
   "cell_type": "code",
   "execution_count": 5,
   "metadata": {},
   "outputs": [
    {
     "name": "stdout",
     "output_type": "stream",
     "text": [
      "[['F.4' ' MATHEMATICAL LOGIC AND FORMAL LANGUAGES' list(['F', '4'])]\n",
      " ['D.4.1' ' Process Management' list(['D', '4', '1'])]\n",
      " ['C.0' ' GENERAL' list(['C', '0'])]\n",
      " ...\n",
      " ['K.1' ' THE COMPUTER INDUSTRY' list(['K', '1'])]\n",
      " ['G.1.m' ' Miscellaneous' list(['G', '1', 'm'])]\n",
      " ['H.3.5' ' Online Information Services' list(['H', '3', '5'])]]\n"
     ]
    }
   ],
   "source": [
    "print(df.values)"
   ]
  },
  {
   "cell_type": "code",
   "execution_count": 9,
   "metadata": {},
   "outputs": [],
   "source": [
    "#df.to_csv('acm_classification.csv', index=False)"
   ]
  },
  {
   "cell_type": "code",
   "execution_count": 6,
   "metadata": {},
   "outputs": [],
   "source": [
    "def heirarchy(identifier):\n",
    "    if (len(identifier) == 1):\n",
    "        identifier.append('')\n",
    "        identifier.append('')\n",
    "    if (len(identifier) == 2):\n",
    "        identifier.append('')\n",
    "    \n",
    "    if (identifier[0] != '' and identifier[1] == '' and identifier[2] == ''):\n",
    "        return 1\n",
    "    if (identifier[0] != '' and identifier[1] != '' and identifier[2] == ''):\n",
    "        return 2\n",
    "    if (identifier[0] != '' and identifier[1] != '' and identifier[2] != ''):\n",
    "        return 3\n",
    "\n",
    "df['heirarchy'] = df.identifier.apply(heirarchy)"
   ]
  },
  {
   "cell_type": "code",
   "execution_count": 7,
   "metadata": {},
   "outputs": [],
   "source": [
    "def construct_full_text(identifier):\n",
    "\n",
    "    if isinstance(identifier, str):\n",
    "        identifier = identifier.split('.')\n",
    "\n",
    "    code = '.'.join(identifier)\n",
    "\n",
    "    if code not in df['class'].values:\n",
    "        raise ValueError('Code not found in the dataset')\n",
    "    \n",
    "    if heirarchy(identifier) == 1:\n",
    "        full_text = f\"Class: {df[df['class'] == code]['description'].values[0].strip().capitalize()}\"\n",
    "    \n",
    "    if heirarchy(identifier) == 2:\n",
    "        cls = f\"{identifier[0]}.\"\n",
    "        full_text = f\"Class: {df[df['class']==cls]['description'].values[0].strip().capitalize()} Subclass: {df[df['class'] == code]['description'].values[0].strip().capitalize()}\"\n",
    "    \n",
    "    if heirarchy(identifier) == 3:\n",
    "        cls = f\"{identifier[0]}.\"\n",
    "        subcls = f\"{identifier[0]}.{identifier[1]}\"\n",
    "        full_text = f\"Class: {df[df['class']==cls]['description'].values[0].strip().capitalize()} Subclass: {df[df['class'] == subcls]['description'].values[0].strip().capitalize()} Subsubclass: {df[df['class'] == code]['description'].values[0].strip().capitalize()}\"\n",
    "\n",
    "    return full_text"
   ]
  },
  {
   "cell_type": "code",
   "execution_count": 8,
   "metadata": {},
   "outputs": [],
   "source": [
    "df['full_text'] = df['class'].apply(construct_full_text)"
   ]
  },
  {
   "cell_type": "code",
   "execution_count": 10,
   "metadata": {},
   "outputs": [],
   "source": [
    "df.drop(['description','identifier','heirarchy'], axis=1, inplace=True)"
   ]
  },
  {
   "cell_type": "code",
   "execution_count": 11,
   "metadata": {},
   "outputs": [],
   "source": [
    "df.to_csv('acm_classification.csv', index=False)"
   ]
  },
  {
   "cell_type": "code",
   "execution_count": null,
   "metadata": {},
   "outputs": [],
   "source": []
  }
 ],
 "metadata": {
  "kernelspec": {
   "display_name": "Python 3",
   "language": "python",
   "name": "python3"
  },
  "language_info": {
   "codemirror_mode": {
    "name": "ipython",
    "version": 3
   },
   "file_extension": ".py",
   "mimetype": "text/x-python",
   "name": "python",
   "nbconvert_exporter": "python",
   "pygments_lexer": "ipython3",
   "version": "3.11.3"
  },
  "orig_nbformat": 4
 },
 "nbformat": 4,
 "nbformat_minor": 2
}
