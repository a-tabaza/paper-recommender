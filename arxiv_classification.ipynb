{
 "cells": [
  {
   "cell_type": "code",
   "execution_count": 2,
   "metadata": {},
   "outputs": [],
   "source": [
    "from bs4 import BeautifulSoup\n",
    "import pandas as pd\n",
    "import numpy as np\n",
    "import urllib.request as libreq"
   ]
  },
  {
   "cell_type": "code",
   "execution_count": 2,
   "metadata": {},
   "outputs": [],
   "source": [
    "soup = BeautifulSoup(open(r'classification_codes_data\\arxiv_category_taxonomy.html'), 'html.parser')\n",
    "classification_codes = soup.get_text().split('\\n')"
   ]
  },
  {
   "cell_type": "code",
   "execution_count": 3,
   "metadata": {},
   "outputs": [],
   "source": [
    "# classification_codes = [code for code in classification_codes if (code != '' and code not in main_cls)]\n",
    "classification_codes = [code for code in classification_codes if (code != '')]"
   ]
  },
  {
   "cell_type": "code",
   "execution_count": 6,
   "metadata": {},
   "outputs": [],
   "source": [
    "classification_codes = pd.DataFrame(classification_codes, columns=['classification_codes'])\n",
    "# classification_codes.to_csv(r'arxiv_classification.txt', index=False)\n",
    "\n",
    "# FILE WAS FIXED MANUALLY DO NOT THE EXPORT IN THIS CELL"
   ]
  },
  {
   "cell_type": "code",
   "execution_count": 35,
   "metadata": {},
   "outputs": [
    {
     "data": {
      "text/html": [
       "<div>\n",
       "<style scoped>\n",
       "    .dataframe tbody tr th:only-of-type {\n",
       "        vertical-align: middle;\n",
       "    }\n",
       "\n",
       "    .dataframe tbody tr th {\n",
       "        vertical-align: top;\n",
       "    }\n",
       "\n",
       "    .dataframe thead th {\n",
       "        text-align: right;\n",
       "    }\n",
       "</style>\n",
       "<table border=\"1\" class=\"dataframe\">\n",
       "  <thead>\n",
       "    <tr style=\"text-align: right;\">\n",
       "      <th></th>\n",
       "      <th>class</th>\n",
       "      <th>description</th>\n",
       "    </tr>\n",
       "  </thead>\n",
       "  <tbody>\n",
       "    <tr>\n",
       "      <th>0</th>\n",
       "      <td>cs.AI (Artificial Intelligence)</td>\n",
       "      <td>Covers all areas of AI except Vision  Roboti...</td>\n",
       "    </tr>\n",
       "    <tr>\n",
       "      <th>1</th>\n",
       "      <td>cs.AR (Hardware Architecture)</td>\n",
       "      <td>Covers systems organization and hardware arc...</td>\n",
       "    </tr>\n",
       "    <tr>\n",
       "      <th>2</th>\n",
       "      <td>cs.CC (Computational Complexity)</td>\n",
       "      <td>Covers models of computation  complexity cla...</td>\n",
       "    </tr>\n",
       "    <tr>\n",
       "      <th>3</th>\n",
       "      <td>cs.CE (Computational Engineering  Finance  and...</td>\n",
       "      <td>Covers applications of computer science to t...</td>\n",
       "    </tr>\n",
       "    <tr>\n",
       "      <th>4</th>\n",
       "      <td>cs.CG (Computational Geometry)</td>\n",
       "      <td>Roughly includes material in ACM Subject Cla...</td>\n",
       "    </tr>\n",
       "    <tr>\n",
       "      <th>...</th>\n",
       "      <td>...</td>\n",
       "      <td>...</td>\n",
       "    </tr>\n",
       "    <tr>\n",
       "      <th>150</th>\n",
       "      <td>stat.CO (Computation)</td>\n",
       "      <td>Algorithms  Simulation  Visualization</td>\n",
       "    </tr>\n",
       "    <tr>\n",
       "      <th>151</th>\n",
       "      <td>stat.ME (Methodology)</td>\n",
       "      <td>Design  Surveys  Model Selection  Multiple T...</td>\n",
       "    </tr>\n",
       "    <tr>\n",
       "      <th>152</th>\n",
       "      <td>stat.ML (Machine Learning)</td>\n",
       "      <td>Covers machine learning papers (supervised  ...</td>\n",
       "    </tr>\n",
       "    <tr>\n",
       "      <th>153</th>\n",
       "      <td>stat.OT (Other Statistics)</td>\n",
       "      <td>Work in statistics that does not fit into th...</td>\n",
       "    </tr>\n",
       "    <tr>\n",
       "      <th>154</th>\n",
       "      <td>stat.TH (Statistics Theory)</td>\n",
       "      <td>stat.TH is an alias for math.ST. Asymptotics...</td>\n",
       "    </tr>\n",
       "  </tbody>\n",
       "</table>\n",
       "<p>155 rows × 2 columns</p>\n",
       "</div>"
      ],
      "text/plain": [
       "                                                 class   \n",
       "0                      cs.AI (Artificial Intelligence)  \\\n",
       "1                        cs.AR (Hardware Architecture)   \n",
       "2                     cs.CC (Computational Complexity)   \n",
       "3    cs.CE (Computational Engineering  Finance  and...   \n",
       "4                       cs.CG (Computational Geometry)   \n",
       "..                                                 ...   \n",
       "150                              stat.CO (Computation)   \n",
       "151                              stat.ME (Methodology)   \n",
       "152                         stat.ML (Machine Learning)   \n",
       "153                         stat.OT (Other Statistics)   \n",
       "154                        stat.TH (Statistics Theory)   \n",
       "\n",
       "                                           description  \n",
       "0      Covers all areas of AI except Vision  Roboti...  \n",
       "1      Covers systems organization and hardware arc...  \n",
       "2      Covers models of computation  complexity cla...  \n",
       "3      Covers applications of computer science to t...  \n",
       "4      Roughly includes material in ACM Subject Cla...  \n",
       "..                                                 ...  \n",
       "150              Algorithms  Simulation  Visualization  \n",
       "151    Design  Surveys  Model Selection  Multiple T...  \n",
       "152    Covers machine learning papers (supervised  ...  \n",
       "153    Work in statistics that does not fit into th...  \n",
       "154    stat.TH is an alias for math.ST. Asymptotics...  \n",
       "\n",
       "[155 rows x 2 columns]"
      ]
     },
     "execution_count": 35,
     "metadata": {},
     "output_type": "execute_result"
    }
   ],
   "source": [
    "df = pd.read_csv(r'arxiv_classification.csv')\n",
    "df"
   ]
  },
  {
   "cell_type": "code",
   "execution_count": 36,
   "metadata": {},
   "outputs": [],
   "source": [
    "df['code'] = df['class'].apply(lambda x: x.split(' '))\n",
    "df['class_title'] = df['code'].apply(lambda x: ' '.join(x[1:]))\n",
    "df['class_code'] = df['code'].apply(lambda x: x[0])\n",
    "df.drop(['code','class'], axis=1, inplace=True)\n",
    "df.to_csv(r'arxiv_classification.csv', index=False)"
   ]
  },
  {
   "cell_type": "code",
   "execution_count": null,
   "metadata": {},
   "outputs": [],
   "source": [
    "# USE THE CSV FILE FROM NOW ON"
   ]
  },
  {
   "cell_type": "code",
   "execution_count": 3,
   "metadata": {},
   "outputs": [],
   "source": [
    "df = pd.read_csv(r'arxiv_classification.csv')\n",
    "identifiers = df['class_code'].apply(lambda x: x.split('.')[0]).unique()"
   ]
  },
  {
   "cell_type": "code",
   "execution_count": 4,
   "metadata": {},
   "outputs": [
    {
     "data": {
      "text/plain": [
       "array(['cs', 'econ', 'eess', 'math', 'astro-ph', 'cond-mat', 'gr-qc',\n",
       "       'hep-ex', 'hep-lat', 'hep-ph', 'hep-th', 'math-ph', 'nlin',\n",
       "       'nucl-ex', 'nucl-th', 'physics', 'quant-ph', 'q-bio', 'q-fin',\n",
       "       'stat'], dtype=object)"
      ]
     },
     "execution_count": 4,
     "metadata": {},
     "output_type": "execute_result"
    }
   ],
   "source": [
    "identifiers"
   ]
  },
  {
   "cell_type": "code",
   "execution_count": 6,
   "metadata": {},
   "outputs": [],
   "source": [
    "classes = [\"Computer Science\", \"Economics\", \"Electrical Engineering and Systems Science\", \"Mathematics\", \"Astrophyics\", \n",
    "           \"Condensed Matter\", \"General Relativity and Quantum Cosmology\", \"High Energy Physics - Experiment\", \n",
    "           \"High Energy Physics - Lattice\", \"High Energy Physics - Phenomenology\", \"High Energy Physics - Theory\",\n",
    "           \"Mathematical Physics\", \"Non-linear Sciences\", \"Nuclear Experiment\", \"Nuclear Theory\", \"Physics\",\n",
    "           \"Quantum Physics\", \"Quantitative Biology\", \"Quantitative Finance\", \"Statistics\"]"
   ]
  },
  {
   "cell_type": "code",
   "execution_count": 13,
   "metadata": {},
   "outputs": [
    {
     "data": {
      "text/html": [
       "<div>\n",
       "<style scoped>\n",
       "    .dataframe tbody tr th:only-of-type {\n",
       "        vertical-align: middle;\n",
       "    }\n",
       "\n",
       "    .dataframe tbody tr th {\n",
       "        vertical-align: top;\n",
       "    }\n",
       "\n",
       "    .dataframe thead th {\n",
       "        text-align: right;\n",
       "    }\n",
       "</style>\n",
       "<table border=\"1\" class=\"dataframe\">\n",
       "  <thead>\n",
       "    <tr style=\"text-align: right;\">\n",
       "      <th></th>\n",
       "      <th>class_code</th>\n",
       "      <th>class_title</th>\n",
       "    </tr>\n",
       "  </thead>\n",
       "  <tbody>\n",
       "    <tr>\n",
       "      <th>0</th>\n",
       "      <td>cs</td>\n",
       "      <td>Computer Science</td>\n",
       "    </tr>\n",
       "    <tr>\n",
       "      <th>1</th>\n",
       "      <td>econ</td>\n",
       "      <td>Economics</td>\n",
       "    </tr>\n",
       "    <tr>\n",
       "      <th>2</th>\n",
       "      <td>eess</td>\n",
       "      <td>Electrical Engineering and Systems Science</td>\n",
       "    </tr>\n",
       "    <tr>\n",
       "      <th>3</th>\n",
       "      <td>math</td>\n",
       "      <td>Mathematics</td>\n",
       "    </tr>\n",
       "    <tr>\n",
       "      <th>4</th>\n",
       "      <td>astro-ph</td>\n",
       "      <td>Astrophyics</td>\n",
       "    </tr>\n",
       "    <tr>\n",
       "      <th>5</th>\n",
       "      <td>cond-mat</td>\n",
       "      <td>Condensed Matter</td>\n",
       "    </tr>\n",
       "    <tr>\n",
       "      <th>6</th>\n",
       "      <td>gr-qc</td>\n",
       "      <td>General Relativity and Quantum Cosmology</td>\n",
       "    </tr>\n",
       "    <tr>\n",
       "      <th>7</th>\n",
       "      <td>hep-ex</td>\n",
       "      <td>High Energy Physics - Experiment</td>\n",
       "    </tr>\n",
       "    <tr>\n",
       "      <th>8</th>\n",
       "      <td>hep-lat</td>\n",
       "      <td>High Energy Physics - Lattice</td>\n",
       "    </tr>\n",
       "    <tr>\n",
       "      <th>9</th>\n",
       "      <td>hep-ph</td>\n",
       "      <td>High Energy Physics - Phenomenology</td>\n",
       "    </tr>\n",
       "    <tr>\n",
       "      <th>10</th>\n",
       "      <td>hep-th</td>\n",
       "      <td>High Energy Physics - Theory</td>\n",
       "    </tr>\n",
       "    <tr>\n",
       "      <th>11</th>\n",
       "      <td>math-ph</td>\n",
       "      <td>Mathematical Physics</td>\n",
       "    </tr>\n",
       "    <tr>\n",
       "      <th>12</th>\n",
       "      <td>nlin</td>\n",
       "      <td>Non-linear Sciences</td>\n",
       "    </tr>\n",
       "    <tr>\n",
       "      <th>13</th>\n",
       "      <td>nucl-ex</td>\n",
       "      <td>Nuclear Experiment</td>\n",
       "    </tr>\n",
       "    <tr>\n",
       "      <th>14</th>\n",
       "      <td>nucl-th</td>\n",
       "      <td>Nuclear Theory</td>\n",
       "    </tr>\n",
       "    <tr>\n",
       "      <th>15</th>\n",
       "      <td>physics</td>\n",
       "      <td>Physics</td>\n",
       "    </tr>\n",
       "    <tr>\n",
       "      <th>16</th>\n",
       "      <td>quant-ph</td>\n",
       "      <td>Quantum Physics</td>\n",
       "    </tr>\n",
       "    <tr>\n",
       "      <th>17</th>\n",
       "      <td>q-bio</td>\n",
       "      <td>Quantitative Biology</td>\n",
       "    </tr>\n",
       "    <tr>\n",
       "      <th>18</th>\n",
       "      <td>q-fin</td>\n",
       "      <td>Quantitative Finance</td>\n",
       "    </tr>\n",
       "    <tr>\n",
       "      <th>19</th>\n",
       "      <td>stat</td>\n",
       "      <td>Statistics</td>\n",
       "    </tr>\n",
       "  </tbody>\n",
       "</table>\n",
       "</div>"
      ],
      "text/plain": [
       "   class_code                                 class_title\n",
       "0          cs                            Computer Science\n",
       "1        econ                                   Economics\n",
       "2        eess  Electrical Engineering and Systems Science\n",
       "3        math                                 Mathematics\n",
       "4    astro-ph                                 Astrophyics\n",
       "5    cond-mat                            Condensed Matter\n",
       "6       gr-qc    General Relativity and Quantum Cosmology\n",
       "7      hep-ex            High Energy Physics - Experiment\n",
       "8     hep-lat               High Energy Physics - Lattice\n",
       "9      hep-ph         High Energy Physics - Phenomenology\n",
       "10     hep-th                High Energy Physics - Theory\n",
       "11    math-ph                        Mathematical Physics\n",
       "12       nlin                         Non-linear Sciences\n",
       "13    nucl-ex                          Nuclear Experiment\n",
       "14    nucl-th                              Nuclear Theory\n",
       "15    physics                                     Physics\n",
       "16   quant-ph                             Quantum Physics\n",
       "17      q-bio                        Quantitative Biology\n",
       "18      q-fin                        Quantitative Finance\n",
       "19       stat                                  Statistics"
      ]
     },
     "execution_count": 13,
     "metadata": {},
     "output_type": "execute_result"
    }
   ],
   "source": [
    "class_identifiers = list(zip(identifiers, classes))\n",
    "class_identifiers = pd.DataFrame(class_identifiers, columns=['class_code', 'class_title'])\n",
    "class_identifiers"
   ]
  },
  {
   "cell_type": "code",
   "execution_count": 15,
   "metadata": {},
   "outputs": [],
   "source": [
    "df['class_title'] = df['class_title'].apply(lambda x: x.replace('(','').replace(')',''))"
   ]
  },
  {
   "cell_type": "code",
   "execution_count": 17,
   "metadata": {},
   "outputs": [],
   "source": [
    "df['identifier'] = df['class_code'].apply(lambda x: x.split('.'))"
   ]
  },
  {
   "cell_type": "code",
   "execution_count": 18,
   "metadata": {},
   "outputs": [
    {
     "data": {
      "text/html": [
       "<div>\n",
       "<style scoped>\n",
       "    .dataframe tbody tr th:only-of-type {\n",
       "        vertical-align: middle;\n",
       "    }\n",
       "\n",
       "    .dataframe tbody tr th {\n",
       "        vertical-align: top;\n",
       "    }\n",
       "\n",
       "    .dataframe thead th {\n",
       "        text-align: right;\n",
       "    }\n",
       "</style>\n",
       "<table border=\"1\" class=\"dataframe\">\n",
       "  <thead>\n",
       "    <tr style=\"text-align: right;\">\n",
       "      <th></th>\n",
       "      <th>description</th>\n",
       "      <th>class_title</th>\n",
       "      <th>class_code</th>\n",
       "      <th>identifier</th>\n",
       "    </tr>\n",
       "  </thead>\n",
       "  <tbody>\n",
       "    <tr>\n",
       "      <th>0</th>\n",
       "      <td>Covers all areas of AI except Vision  Roboti...</td>\n",
       "      <td>Artificial Intelligence</td>\n",
       "      <td>cs.AI</td>\n",
       "      <td>[cs, AI]</td>\n",
       "    </tr>\n",
       "    <tr>\n",
       "      <th>1</th>\n",
       "      <td>Covers systems organization and hardware arc...</td>\n",
       "      <td>Hardware Architecture</td>\n",
       "      <td>cs.AR</td>\n",
       "      <td>[cs, AR]</td>\n",
       "    </tr>\n",
       "    <tr>\n",
       "      <th>2</th>\n",
       "      <td>Covers models of computation  complexity cla...</td>\n",
       "      <td>Computational Complexity</td>\n",
       "      <td>cs.CC</td>\n",
       "      <td>[cs, CC]</td>\n",
       "    </tr>\n",
       "    <tr>\n",
       "      <th>3</th>\n",
       "      <td>Covers applications of computer science to t...</td>\n",
       "      <td>Computational Engineering  Finance  and Science</td>\n",
       "      <td>cs.CE</td>\n",
       "      <td>[cs, CE]</td>\n",
       "    </tr>\n",
       "    <tr>\n",
       "      <th>4</th>\n",
       "      <td>Roughly includes material in ACM Subject Cla...</td>\n",
       "      <td>Computational Geometry</td>\n",
       "      <td>cs.CG</td>\n",
       "      <td>[cs, CG]</td>\n",
       "    </tr>\n",
       "    <tr>\n",
       "      <th>...</th>\n",
       "      <td>...</td>\n",
       "      <td>...</td>\n",
       "      <td>...</td>\n",
       "      <td>...</td>\n",
       "    </tr>\n",
       "    <tr>\n",
       "      <th>150</th>\n",
       "      <td>Algorithms  Simulation  Visualization</td>\n",
       "      <td>Computation</td>\n",
       "      <td>stat.CO</td>\n",
       "      <td>[stat, CO]</td>\n",
       "    </tr>\n",
       "    <tr>\n",
       "      <th>151</th>\n",
       "      <td>Design  Surveys  Model Selection  Multiple T...</td>\n",
       "      <td>Methodology</td>\n",
       "      <td>stat.ME</td>\n",
       "      <td>[stat, ME]</td>\n",
       "    </tr>\n",
       "    <tr>\n",
       "      <th>152</th>\n",
       "      <td>Covers machine learning papers (supervised  ...</td>\n",
       "      <td>Machine Learning</td>\n",
       "      <td>stat.ML</td>\n",
       "      <td>[stat, ML]</td>\n",
       "    </tr>\n",
       "    <tr>\n",
       "      <th>153</th>\n",
       "      <td>Work in statistics that does not fit into th...</td>\n",
       "      <td>Other Statistics</td>\n",
       "      <td>stat.OT</td>\n",
       "      <td>[stat, OT]</td>\n",
       "    </tr>\n",
       "    <tr>\n",
       "      <th>154</th>\n",
       "      <td>stat.TH is an alias for math.ST. Asymptotics...</td>\n",
       "      <td>Statistics Theory</td>\n",
       "      <td>stat.TH</td>\n",
       "      <td>[stat, TH]</td>\n",
       "    </tr>\n",
       "  </tbody>\n",
       "</table>\n",
       "<p>155 rows × 4 columns</p>\n",
       "</div>"
      ],
      "text/plain": [
       "                                           description   \n",
       "0      Covers all areas of AI except Vision  Roboti...  \\\n",
       "1      Covers systems organization and hardware arc...   \n",
       "2      Covers models of computation  complexity cla...   \n",
       "3      Covers applications of computer science to t...   \n",
       "4      Roughly includes material in ACM Subject Cla...   \n",
       "..                                                 ...   \n",
       "150              Algorithms  Simulation  Visualization   \n",
       "151    Design  Surveys  Model Selection  Multiple T...   \n",
       "152    Covers machine learning papers (supervised  ...   \n",
       "153    Work in statistics that does not fit into th...   \n",
       "154    stat.TH is an alias for math.ST. Asymptotics...   \n",
       "\n",
       "                                         class_title class_code  identifier  \n",
       "0                            Artificial Intelligence      cs.AI    [cs, AI]  \n",
       "1                              Hardware Architecture      cs.AR    [cs, AR]  \n",
       "2                           Computational Complexity      cs.CC    [cs, CC]  \n",
       "3    Computational Engineering  Finance  and Science      cs.CE    [cs, CE]  \n",
       "4                             Computational Geometry      cs.CG    [cs, CG]  \n",
       "..                                               ...        ...         ...  \n",
       "150                                      Computation    stat.CO  [stat, CO]  \n",
       "151                                      Methodology    stat.ME  [stat, ME]  \n",
       "152                                 Machine Learning    stat.ML  [stat, ML]  \n",
       "153                                 Other Statistics    stat.OT  [stat, OT]  \n",
       "154                                Statistics Theory    stat.TH  [stat, TH]  \n",
       "\n",
       "[155 rows x 4 columns]"
      ]
     },
     "execution_count": 18,
     "metadata": {},
     "output_type": "execute_result"
    }
   ],
   "source": [
    "df"
   ]
  },
  {
   "cell_type": "code",
   "execution_count": 60,
   "metadata": {},
   "outputs": [],
   "source": [
    "def construct_full_text(identifier):\n",
    "    if isinstance(identifier, str):\n",
    "        identifier = identifier.split('.')\n",
    "\n",
    "    code = '.'.join(identifier)\n",
    "\n",
    "    if code not in df['class_code'].values:\n",
    "        raise ValueError('Code not found in the dataset')\n",
    "\n",
    "    description = list(df[df['class_code'] == code].values[0])[0].strip().replace('  ', ', ')\n",
    "\n",
    "    return description"
   ]
  },
  {
   "cell_type": "code",
   "execution_count": 61,
   "metadata": {},
   "outputs": [
    {
     "data": {
      "text/plain": [
       "'Covers all areas of AI except Vision, Robotics, Machine Learning, Multiagent Systems, and Computation and Language (Natural Language Processing), which have separate subject areas. In particular, includes Expert Systems, Theorem Proving (although this may overlap with Logic in Computer Science), Knowledge Representation, Planning, and Uncertainty in AI. Roughly includes material in ACM Subject Classes I.2.0, I.2.1, I.2.3, I.2.4, I.2.8, and I.2.11.'"
      ]
     },
     "execution_count": 61,
     "metadata": {},
     "output_type": "execute_result"
    }
   ],
   "source": [
    "construct_full_text('cs.AI') "
   ]
  },
  {
   "cell_type": "code",
   "execution_count": 64,
   "metadata": {},
   "outputs": [
    {
     "name": "stdout",
     "output_type": "stream",
     "text": [
      "  Covers all areas of AI except Vision  Robotics  Machine Learning  Multiagent Systems  and Computation and Language (Natural Language Processing)  which have separate subject areas. In particular  includes Expert Systems  Theorem Proving (although this may overlap with Logic in Computer Science)  Knowledge Representation  Planning  and Uncertainty in AI. Roughly includes material in ACM Subject Classes I.2.0  I.2.1  I.2.3  I.2.4  I.2.8  and I.2.11.\n",
      "  Covers systems organization and hardware architecture. Roughly includes material in ACM Subject Classes C.0  C.1  and C.5.\n",
      "  Covers models of computation  complexity classes  structural complexity  complexity tradeoffs  upper and lower bounds. Roughly includes material in ACM Subject Classes F.1 (computation by abstract devices)  F.2.3 (tradeoffs among complexity measures)  and F.4.3 (formal languages)  although some material in formal languages may be more appropriate for Logic in Computer Science. Some material in F.2.1 and F.2.2  may also be appropriate here  but is more likely to have Data Structures and Algorithms as the primary subject area.\n",
      "  Covers applications of computer science to the mathematical modeling of complex systems in the fields of science  engineering  and finance. Papers here are interdisciplinary and applications-oriented  focusing on techniques and tools that enable challenging computational simulations to be performed  for which the use of supercomputers or distributed computing platforms is often required. Includes material in ACM Subject Classes J.2  J.3  and J.4 (economics).\n",
      "  Roughly includes material in ACM Subject Classes I.3.5 and F.2.2.\n",
      "  Covers all areas of cryptography and security including authentication  public key cryptosytems  proof-carrying code  etc. Roughly includes material in ACM Subject Classes D.4.6 and E.3.\n",
      "  Covers image processing  computer vision  pattern recognition  and scene understanding. Roughly includes material in ACM Subject Classes I.2.10  I.4  and I.5.\n",
      "  Covers impact of computers on society  computer ethics  information technology and public policy  legal aspects of computing  computers and education. Roughly includes material in ACM Subject Classes K.0  K.2  K.3  K.4  K.5  and K.7.\n",
      "  Covers database management  datamining  and data processing. Roughly includes material in ACM Subject Classes E.2  E.5  H.0  H.2  and J.1.\n",
      "  Covers fault-tolerance  distributed algorithms  stabilility  parallel computation  and cluster computing. Roughly includes material in ACM Subject Classes C.1.2  C.1.4  C.2.4  D.1.3  D.4.5  D.4.7  E.1.\n",
      "  Covers all aspects of the digital library design and document and text creation. Note that there will be some overlap with Information Retrieval (which is a separate subject area). Roughly includes material in ACM Subject Classes H.3.5  H.3.6  H.3.7  I.7.\n",
      "  Covers combinatorics  graph theory  applications of probability. Roughly includes material in ACM Subject Classes G.2 and G.3.\n",
      "  Covers data structures and analysis of algorithms. Roughly includes material in ACM Subject Classes E.1  E.2  F.2.1  and F.2.2.\n",
      "  Covers automata theory  formal language theory  grammars  and combinatorics on words. This roughly corresponds to ACM Subject Classes F.1.1  and F.4.3. Papers dealing with computational complexity should go to cs.CC; papers dealing with logic should go to cs.LO.\n",
      "  Covers human factors  user interfaces  and collaborative computing. Roughly includes material in ACM Subject Classes H.1.2 and all of H.5  except for H.5.1  which is more likely to have Multimedia as the primary subject area.\n",
      "  Covers indexing  dictionaries  retrieval  content and analysis. Roughly includes material in ACM Subject Classes H.3.0  H.3.1  H.3.2  H.3.3  and H.3.4.\n",
      "  Covers all aspects of logic in computer science  including finite model theory  logics of programs  modal logic  and program verification. Programming language semantics should have Programming Languages as the primary subject area. Roughly includes material in ACM Subject Classes D.2.4  F.3.1  F.4.0  F.4.1  and F.4.2; some material in F.4.3 (formal languages) may also be appropriate here  although Computational Complexity is typically the more appropriate subject area.\n",
      "  Roughly includes material in ACM Subject Classes D.4.1  D.4.2.  D.4.3  D.4.4  D.4.5  D.4.7  and D.4.9.\n",
      "  Covers performance measurement and evaluation  queueing  and simulation. Roughly includes material in ACM Subject Classes D.4.8 and K.6.2.\n",
      "  Covers programming language semantics  language features  programming approaches (such as object-oriented programming  functional programming  logic programming). Also includes material on compilers oriented towards programming languages; other material on compilers may be more appropriate in Architecture (AR). Roughly includes material in ACM Subject Classes D.1 and D.3.\n",
      "  Covers design tools  software metrics  testing and debugging  programming environments  etc. Roughly includes material in all of ACM Subject Classes D.2  except that D.2.4 (program verification) should probably have Logics in Computer Science as the primary subject area.\n"
     ]
    }
   ],
   "source": [
    "for record in df[' description'].values:\n",
    "    if 'ACM Subject Classes' in str(record):\n",
    "        print(record)"
   ]
  },
  {
   "cell_type": "code",
   "execution_count": 66,
   "metadata": {},
   "outputs": [
    {
     "name": "stdout",
     "output_type": "stream",
     "text": [
      "nan\n"
     ]
    }
   ],
   "source": [
    "for record in df[' description'].values:\n",
    "    if type(record)==float:\n",
    "        print(record)"
   ]
  }
 ],
 "metadata": {
  "kernelspec": {
   "display_name": "Python 3",
   "language": "python",
   "name": "python3"
  },
  "language_info": {
   "codemirror_mode": {
    "name": "ipython",
    "version": 3
   },
   "file_extension": ".py",
   "mimetype": "text/x-python",
   "name": "python",
   "nbconvert_exporter": "python",
   "pygments_lexer": "ipython3",
   "version": "3.11.3"
  },
  "orig_nbformat": 4
 },
 "nbformat": 4,
 "nbformat_minor": 2
}
