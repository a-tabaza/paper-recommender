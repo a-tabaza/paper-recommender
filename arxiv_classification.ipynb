{
 "cells": [
  {
   "cell_type": "code",
   "execution_count": 1,
   "metadata": {},
   "outputs": [],
   "source": [
    "from bs4 import BeautifulSoup\n",
    "import pandas as pd\n",
    "import numpy as np\n",
    "import urllib.request as libreq"
   ]
  },
  {
   "cell_type": "code",
   "execution_count": 2,
   "metadata": {},
   "outputs": [],
   "source": [
    "soup = BeautifulSoup(open(r'classification_codes_data\\arxiv_category_taxonomy.html'), 'html.parser')\n",
    "classification_codes = soup.get_text().split('\\n')"
   ]
  },
  {
   "cell_type": "code",
   "execution_count": 27,
   "metadata": {},
   "outputs": [],
   "source": [
    "main_cls = ['Computer Science', 'Economics', 'Electrical Engineering and Systems Science', 'Mathematics', 'Physics', 'Quantitative Biology', 'Quantitative Finance', 'Statistics']"
   ]
  },
  {
   "cell_type": "code",
   "execution_count": 3,
   "metadata": {},
   "outputs": [],
   "source": [
    "# classification_codes = [code for code in classification_codes if (code != '' and code not in main_cls)]\n",
    "classification_codes = [code for code in classification_codes if (code != '')]"
   ]
  },
  {
   "cell_type": "code",
   "execution_count": 6,
   "metadata": {},
   "outputs": [],
   "source": [
    "classification_codes = pd.DataFrame(classification_codes, columns=['classification_codes'])\n",
    "# classification_codes.to_csv(r'arxiv_classification.txt', index=False)"
   ]
  },
  {
   "cell_type": "code",
   "execution_count": 35,
   "metadata": {},
   "outputs": [
    {
     "data": {
      "text/html": [
       "<div>\n",
       "<style scoped>\n",
       "    .dataframe tbody tr th:only-of-type {\n",
       "        vertical-align: middle;\n",
       "    }\n",
       "\n",
       "    .dataframe tbody tr th {\n",
       "        vertical-align: top;\n",
       "    }\n",
       "\n",
       "    .dataframe thead th {\n",
       "        text-align: right;\n",
       "    }\n",
       "</style>\n",
       "<table border=\"1\" class=\"dataframe\">\n",
       "  <thead>\n",
       "    <tr style=\"text-align: right;\">\n",
       "      <th></th>\n",
       "      <th>class</th>\n",
       "      <th>description</th>\n",
       "    </tr>\n",
       "  </thead>\n",
       "  <tbody>\n",
       "    <tr>\n",
       "      <th>0</th>\n",
       "      <td>cs.AI (Artificial Intelligence)</td>\n",
       "      <td>Covers all areas of AI except Vision  Roboti...</td>\n",
       "    </tr>\n",
       "    <tr>\n",
       "      <th>1</th>\n",
       "      <td>cs.AR (Hardware Architecture)</td>\n",
       "      <td>Covers systems organization and hardware arc...</td>\n",
       "    </tr>\n",
       "    <tr>\n",
       "      <th>2</th>\n",
       "      <td>cs.CC (Computational Complexity)</td>\n",
       "      <td>Covers models of computation  complexity cla...</td>\n",
       "    </tr>\n",
       "    <tr>\n",
       "      <th>3</th>\n",
       "      <td>cs.CE (Computational Engineering  Finance  and...</td>\n",
       "      <td>Covers applications of computer science to t...</td>\n",
       "    </tr>\n",
       "    <tr>\n",
       "      <th>4</th>\n",
       "      <td>cs.CG (Computational Geometry)</td>\n",
       "      <td>Roughly includes material in ACM Subject Cla...</td>\n",
       "    </tr>\n",
       "    <tr>\n",
       "      <th>...</th>\n",
       "      <td>...</td>\n",
       "      <td>...</td>\n",
       "    </tr>\n",
       "    <tr>\n",
       "      <th>150</th>\n",
       "      <td>stat.CO (Computation)</td>\n",
       "      <td>Algorithms  Simulation  Visualization</td>\n",
       "    </tr>\n",
       "    <tr>\n",
       "      <th>151</th>\n",
       "      <td>stat.ME (Methodology)</td>\n",
       "      <td>Design  Surveys  Model Selection  Multiple T...</td>\n",
       "    </tr>\n",
       "    <tr>\n",
       "      <th>152</th>\n",
       "      <td>stat.ML (Machine Learning)</td>\n",
       "      <td>Covers machine learning papers (supervised  ...</td>\n",
       "    </tr>\n",
       "    <tr>\n",
       "      <th>153</th>\n",
       "      <td>stat.OT (Other Statistics)</td>\n",
       "      <td>Work in statistics that does not fit into th...</td>\n",
       "    </tr>\n",
       "    <tr>\n",
       "      <th>154</th>\n",
       "      <td>stat.TH (Statistics Theory)</td>\n",
       "      <td>stat.TH is an alias for math.ST. Asymptotics...</td>\n",
       "    </tr>\n",
       "  </tbody>\n",
       "</table>\n",
       "<p>155 rows × 2 columns</p>\n",
       "</div>"
      ],
      "text/plain": [
       "                                                 class   \n",
       "0                      cs.AI (Artificial Intelligence)  \\\n",
       "1                        cs.AR (Hardware Architecture)   \n",
       "2                     cs.CC (Computational Complexity)   \n",
       "3    cs.CE (Computational Engineering  Finance  and...   \n",
       "4                       cs.CG (Computational Geometry)   \n",
       "..                                                 ...   \n",
       "150                              stat.CO (Computation)   \n",
       "151                              stat.ME (Methodology)   \n",
       "152                         stat.ML (Machine Learning)   \n",
       "153                         stat.OT (Other Statistics)   \n",
       "154                        stat.TH (Statistics Theory)   \n",
       "\n",
       "                                           description  \n",
       "0      Covers all areas of AI except Vision  Roboti...  \n",
       "1      Covers systems organization and hardware arc...  \n",
       "2      Covers models of computation  complexity cla...  \n",
       "3      Covers applications of computer science to t...  \n",
       "4      Roughly includes material in ACM Subject Cla...  \n",
       "..                                                 ...  \n",
       "150              Algorithms  Simulation  Visualization  \n",
       "151    Design  Surveys  Model Selection  Multiple T...  \n",
       "152    Covers machine learning papers (supervised  ...  \n",
       "153    Work in statistics that does not fit into th...  \n",
       "154    stat.TH is an alias for math.ST. Asymptotics...  \n",
       "\n",
       "[155 rows x 2 columns]"
      ]
     },
     "execution_count": 35,
     "metadata": {},
     "output_type": "execute_result"
    }
   ],
   "source": [
    "df = pd.read_csv(r'arxiv_classification.csv')\n",
    "df"
   ]
  },
  {
   "cell_type": "code",
   "execution_count": 36,
   "metadata": {},
   "outputs": [],
   "source": [
    "df['code'] = df['class'].apply(lambda x: x.split(' '))\n",
    "df['class_title'] = df['code'].apply(lambda x: ' '.join(x[1:]))\n",
    "df['class_code'] = df['code'].apply(lambda x: x[0])\n",
    "df.drop(['code','class'], axis=1, inplace=True)\n",
    "df.to_csv(r'arxiv_classification.csv', index=False)"
   ]
  }
 ],
 "metadata": {
  "kernelspec": {
   "display_name": "Python 3",
   "language": "python",
   "name": "python3"
  },
  "language_info": {
   "codemirror_mode": {
    "name": "ipython",
    "version": 3
   },
   "file_extension": ".py",
   "mimetype": "text/x-python",
   "name": "python",
   "nbconvert_exporter": "python",
   "pygments_lexer": "ipython3",
   "version": "3.11.3"
  },
  "orig_nbformat": 4
 },
 "nbformat": 4,
 "nbformat_minor": 2
}
