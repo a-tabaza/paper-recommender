{
 "cells": [
  {
   "cell_type": "code",
   "execution_count": 1,
   "metadata": {},
   "outputs": [],
   "source": [
    "import pandas as pd \n",
    "import numpy as np\n",
    "import ast\n",
    "import re\n",
    "from bs4 import BeautifulSoup\n",
    "from tqdm import tqdm\n",
    "from sentence_transformers import SentenceTransformer, util"
   ]
  },
  {
   "cell_type": "code",
   "execution_count": 2,
   "metadata": {},
   "outputs": [],
   "source": [
    "path = r'Classification Codes Data\\msc_codes.txt'"
   ]
  },
  {
   "cell_type": "code",
   "execution_count": 3,
   "metadata": {},
   "outputs": [],
   "source": [
    "with open(path, 'r', encoding='utf8') as f:\n",
    "    msc = f.readlines()"
   ]
  },
  {
   "cell_type": "code",
   "execution_count": 4,
   "metadata": {},
   "outputs": [],
   "source": [
    "codes = []\n",
    "descriptions = []\n",
    "for entry in msc:\n",
    "    code, description = entry.split(' ', 1)\n",
    "    codes.append(code)\n",
    "    descriptions.append(description.replace('\\n', ''))\n",
    "    assert len(codes) == len(descriptions)"
   ]
  },
  {
   "cell_type": "code",
   "execution_count": 84,
   "metadata": {},
   "outputs": [],
   "source": [
    "df = pd.DataFrame({'code': codes, 'description': descriptions})"
   ]
  },
  {
   "cell_type": "code",
   "execution_count": 85,
   "metadata": {},
   "outputs": [],
   "source": [
    "def extract_identifier(code):\n",
    "    identifier_0 = code[:2]\n",
    "    identifier_1 = code[2:3]\n",
    "    identifier_2 = code[3:5]\n",
    "    return [identifier_0, identifier_1, identifier_2]\n",
    "df['identifier'] = df['code'].apply(extract_identifier)"
   ]
  },
  {
   "cell_type": "code",
   "execution_count": 86,
   "metadata": {},
   "outputs": [],
   "source": [
    "def heirarchy(identifier):\n",
    "    if re.match(r'\\b^[0-9][0-9]\\b', identifier[0]) and (identifier[1] == '' and identifier[2] == ''):\n",
    "        return 1\n",
    "    if re.match(r'\\b^[0-9][0-9]\\b', identifier[0]) and (identifier[2] == 'XX'):\n",
    "        return 1\n",
    "    if (re.match(r'\\b^[0-9][0-9]\\b', identifier[0]) and re.match(r'\\b^[0-9][0-9]\\b', identifier[0])) and (identifier[1] == '-'):\n",
    "        return 2\n",
    "    if re.match(r'\\b^[0-9][0-9]\\b', identifier[0]) and re.match(r'\\b^[A-Z]\\b', identifier[1]) and re.match(r'\\b^xx\\b', identifier[2]):\n",
    "        return 3\n",
    "    else:\n",
    "        return 4\n",
    "df['heirarchy'] = df['identifier'].apply(heirarchy).astype(int)"
   ]
  },
  {
   "cell_type": "code",
   "execution_count": 87,
   "metadata": {},
   "outputs": [
    {
     "data": {
      "text/html": [
       "<div>\n",
       "<style scoped>\n",
       "    .dataframe tbody tr th:only-of-type {\n",
       "        vertical-align: middle;\n",
       "    }\n",
       "\n",
       "    .dataframe tbody tr th {\n",
       "        vertical-align: top;\n",
       "    }\n",
       "\n",
       "    .dataframe thead th {\n",
       "        text-align: right;\n",
       "    }\n",
       "</style>\n",
       "<table border=\"1\" class=\"dataframe\">\n",
       "  <thead>\n",
       "    <tr style=\"text-align: right;\">\n",
       "      <th></th>\n",
       "      <th>code</th>\n",
       "      <th>description</th>\n",
       "      <th>heirarchy</th>\n",
       "    </tr>\n",
       "  </thead>\n",
       "  <tbody>\n",
       "    <tr>\n",
       "      <th>0</th>\n",
       "      <td>00</td>\n",
       "      <td>General and overarching topics; collections</td>\n",
       "      <td>1</td>\n",
       "    </tr>\n",
       "    <tr>\n",
       "      <th>1</th>\n",
       "      <td>01</td>\n",
       "      <td>History and biography</td>\n",
       "      <td>1</td>\n",
       "    </tr>\n",
       "    <tr>\n",
       "      <th>2</th>\n",
       "      <td>03</td>\n",
       "      <td>Mathematical logic and foundations</td>\n",
       "      <td>1</td>\n",
       "    </tr>\n",
       "    <tr>\n",
       "      <th>3</th>\n",
       "      <td>05</td>\n",
       "      <td>Combinatorics</td>\n",
       "      <td>1</td>\n",
       "    </tr>\n",
       "    <tr>\n",
       "      <th>4</th>\n",
       "      <td>45</td>\n",
       "      <td>Integral equations</td>\n",
       "      <td>1</td>\n",
       "    </tr>\n",
       "  </tbody>\n",
       "</table>\n",
       "</div>"
      ],
      "text/plain": [
       "  code                                  description  heirarchy\n",
       "0   00  General and overarching topics; collections          1\n",
       "1   01                        History and biography          1\n",
       "2   03           Mathematical logic and foundations          1\n",
       "3   05                                Combinatorics          1\n",
       "4   45                           Integral equations          1"
      ]
     },
     "execution_count": 87,
     "metadata": {},
     "output_type": "execute_result"
    }
   ],
   "source": [
    "df.head()"
   ]
  },
  {
   "cell_type": "code",
   "execution_count": null,
   "metadata": {},
   "outputs": [],
   "source": []
  }
 ],
 "metadata": {
  "kernelspec": {
   "display_name": "Python 3",
   "language": "python",
   "name": "python3"
  },
  "language_info": {
   "codemirror_mode": {
    "name": "ipython",
    "version": 3
   },
   "file_extension": ".py",
   "mimetype": "text/x-python",
   "name": "python",
   "nbconvert_exporter": "python",
   "pygments_lexer": "ipython3",
   "version": "3.11.3"
  },
  "orig_nbformat": 4
 },
 "nbformat": 4,
 "nbformat_minor": 2
}
