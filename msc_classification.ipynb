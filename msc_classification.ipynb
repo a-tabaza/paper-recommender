{
 "cells": [
  {
   "cell_type": "code",
   "execution_count": 15,
   "metadata": {},
   "outputs": [],
   "source": [
    "import pandas as pd \n",
    "import numpy as np\n",
    "import ast\n",
    "import re\n",
    "from bs4 import BeautifulSoup\n",
    "from tqdm import tqdm\n",
    "from sentence_transformers import SentenceTransformer, util"
   ]
  },
  {
   "cell_type": "code",
   "execution_count": 16,
   "metadata": {},
   "outputs": [],
   "source": [
    "path = r'Classification Codes Data\\msc_codes.txt'"
   ]
  },
  {
   "cell_type": "code",
   "execution_count": 17,
   "metadata": {},
   "outputs": [],
   "source": [
    "with open(path, 'r', encoding='utf8') as f:\n",
    "    msc = f.readlines()"
   ]
  },
  {
   "cell_type": "code",
   "execution_count": 18,
   "metadata": {},
   "outputs": [],
   "source": [
    "codes = []\n",
    "descriptions = []\n",
    "for entry in msc:\n",
    "    code, description = entry.split(' ', 1)\n",
    "    codes.append(code)\n",
    "    descriptions.append(description.replace('\\n', ''))\n",
    "    assert len(codes) == len(descriptions)"
   ]
  },
  {
   "cell_type": "code",
   "execution_count": 19,
   "metadata": {},
   "outputs": [],
   "source": [
    "def remove_brackets(text):\n",
    "  pattern = re.compile(r'\\[.+\\]|\\{.+\\}')\n",
    "  return pattern.sub('', text)"
   ]
  },
  {
   "cell_type": "code",
   "execution_count": 20,
   "metadata": {},
   "outputs": [],
   "source": [
    "for idx, description in enumerate(descriptions):\n",
    "    descriptions[idx] = remove_brackets(description)"
   ]
  },
  {
   "cell_type": "code",
   "execution_count": 21,
   "metadata": {},
   "outputs": [],
   "source": [
    "df = pd.DataFrame({'code': codes, 'description': descriptions})"
   ]
  },
  {
   "cell_type": "code",
   "execution_count": 22,
   "metadata": {},
   "outputs": [],
   "source": [
    "def extract_identifier(code):\n",
    "    identifier_0 = code[:2]\n",
    "    identifier_1 = code[2:3]\n",
    "    identifier_2 = code[3:5]\n",
    "    return [identifier_0, identifier_1, identifier_2]\n",
    "df['identifier'] = df['code'].apply(extract_identifier)"
   ]
  },
  {
   "cell_type": "code",
   "execution_count": 23,
   "metadata": {},
   "outputs": [],
   "source": [
    "def heirarchy(identifier):\n",
    "    if re.match(r'\\b^[0-9][0-9]\\b', identifier[0]) and (identifier[1] == '' and identifier[2] == ''):\n",
    "        return 1\n",
    "    if re.match(r'\\b^[0-9][0-9]\\b', identifier[0]) and (identifier[2] == 'XX'):\n",
    "        return 1\n",
    "    if (re.match(r'\\b^[0-9][0-9]\\b', identifier[0]) and re.match(r'\\b^[0-9][0-9]\\b', identifier[0])) and (identifier[1] == '-'):\n",
    "        return 2\n",
    "    if re.match(r'\\b^[0-9][0-9]\\b', identifier[0]) and re.match(r'\\b^[A-Z]\\b', identifier[1]) and re.match(r'\\b^xx\\b', identifier[2]):\n",
    "        return 3\n",
    "    else:\n",
    "        return 4\n",
    "df['heirarchy'] = df['identifier'].apply(heirarchy).astype(int)"
   ]
  },
  {
   "cell_type": "code",
   "execution_count": 24,
   "metadata": {},
   "outputs": [
    {
     "data": {
      "text/html": [
       "<div>\n",
       "<style scoped>\n",
       "    .dataframe tbody tr th:only-of-type {\n",
       "        vertical-align: middle;\n",
       "    }\n",
       "\n",
       "    .dataframe tbody tr th {\n",
       "        vertical-align: top;\n",
       "    }\n",
       "\n",
       "    .dataframe thead th {\n",
       "        text-align: right;\n",
       "    }\n",
       "</style>\n",
       "<table border=\"1\" class=\"dataframe\">\n",
       "  <thead>\n",
       "    <tr style=\"text-align: right;\">\n",
       "      <th></th>\n",
       "      <th>code</th>\n",
       "      <th>description</th>\n",
       "      <th>identifier</th>\n",
       "      <th>heirarchy</th>\n",
       "    </tr>\n",
       "  </thead>\n",
       "  <tbody>\n",
       "    <tr>\n",
       "      <th>0</th>\n",
       "      <td>00</td>\n",
       "      <td>General and overarching topics; collections</td>\n",
       "      <td>[00, , ]</td>\n",
       "      <td>1</td>\n",
       "    </tr>\n",
       "    <tr>\n",
       "      <th>1</th>\n",
       "      <td>01</td>\n",
       "      <td>History and biography</td>\n",
       "      <td>[01, , ]</td>\n",
       "      <td>1</td>\n",
       "    </tr>\n",
       "    <tr>\n",
       "      <th>2</th>\n",
       "      <td>03</td>\n",
       "      <td>Mathematical logic and foundations</td>\n",
       "      <td>[03, , ]</td>\n",
       "      <td>1</td>\n",
       "    </tr>\n",
       "    <tr>\n",
       "      <th>3</th>\n",
       "      <td>05</td>\n",
       "      <td>Combinatorics</td>\n",
       "      <td>[05, , ]</td>\n",
       "      <td>1</td>\n",
       "    </tr>\n",
       "    <tr>\n",
       "      <th>4</th>\n",
       "      <td>45</td>\n",
       "      <td>Integral equations</td>\n",
       "      <td>[45, , ]</td>\n",
       "      <td>1</td>\n",
       "    </tr>\n",
       "  </tbody>\n",
       "</table>\n",
       "</div>"
      ],
      "text/plain": [
       "  code                                  description identifier  heirarchy\n",
       "0   00  General and overarching topics; collections   [00, , ]          1\n",
       "1   01                        History and biography   [01, , ]          1\n",
       "2   03           Mathematical logic and foundations   [03, , ]          1\n",
       "3   05                                Combinatorics   [05, , ]          1\n",
       "4   45                           Integral equations   [45, , ]          1"
      ]
     },
     "execution_count": 24,
     "metadata": {},
     "output_type": "execute_result"
    }
   ],
   "source": [
    "df.head()"
   ]
  },
  {
   "cell_type": "code",
   "execution_count": 25,
   "metadata": {},
   "outputs": [],
   "source": [
    "cls = df[df['heirarchy'] == 1]\n",
    "subcls = df[df['heirarchy'] == 2]\n",
    "subsubcls = df[df['heirarchy'] == 3]\n",
    "subsubsubcls = df[df['heirarchy'] == 4]"
   ]
  },
  {
   "cell_type": "code",
   "execution_count": 72,
   "metadata": {},
   "outputs": [],
   "source": [
    "def construct_full_text(identifier):\n",
    "\n",
    "    code = ''.join(identifier)\n",
    "\n",
    "    full_text = ''\n",
    "\n",
    "    if code not in df['code'].values:\n",
    "        raise ValueError('Code not found in the dataset')\n",
    "    \n",
    "    if heirarchy(identifier) == 1:\n",
    "        full_text = f\"Class: {df[df['code'] == code]['description'].values[0].strip()}\"\n",
    "    \n",
    "    if heirarchy(identifier) == 2:\n",
    "        full_text = f\"Class: {df[df['code'] == code[:2] + '-XX']['description'].values[0].strip()} Subclass: {df[df['code'] == code]['description'].values[0].strip()}\"\n",
    "    \n",
    "    if heirarchy(identifier) == 3:\n",
    "        full_text = f\"Class: {df[df['code'] == code[:2] + '-XX']['description'].values[0].strip()} Subclass: {df[df['code'] == code]['description'].values[0].strip()}\"\n",
    "\n",
    "    if heirarchy(identifier) == 4:\n",
    "        full_text = f\"Class: Class: {df[df['code'] == code[:2] + '-XX']['description'].values[0].strip()} Subclass: {df[df['code'] == code[:3] + 'xx']['description'].values[0].strip()} Subsubclass: {df[df['code'] == code]['description'].values[0].strip()}\"\n",
    "\n",
    "    return full_text.strip()"
   ]
  },
  {
   "cell_type": "code",
   "execution_count": 74,
   "metadata": {},
   "outputs": [
    {
     "name": "stdout",
     "output_type": "stream",
     "text": [
      "Class: Mathematics education Subclass: Education of combinatorics, graph theory, probability theory, and statistics\n"
     ]
    }
   ],
   "source": [
    "print(construct_full_text(['97', 'K', 'xx']))"
   ]
  },
  {
   "cell_type": "code",
   "execution_count": 71,
   "metadata": {},
   "outputs": [
    {
     "data": {
      "text/html": [
       "<div>\n",
       "<style scoped>\n",
       "    .dataframe tbody tr th:only-of-type {\n",
       "        vertical-align: middle;\n",
       "    }\n",
       "\n",
       "    .dataframe tbody tr th {\n",
       "        vertical-align: top;\n",
       "    }\n",
       "\n",
       "    .dataframe thead th {\n",
       "        text-align: right;\n",
       "    }\n",
       "</style>\n",
       "<table border=\"1\" class=\"dataframe\">\n",
       "  <thead>\n",
       "    <tr style=\"text-align: right;\">\n",
       "      <th></th>\n",
       "      <th>code</th>\n",
       "      <th>description</th>\n",
       "      <th>identifier</th>\n",
       "      <th>heirarchy</th>\n",
       "    </tr>\n",
       "  </thead>\n",
       "  <tbody>\n",
       "    <tr>\n",
       "      <th>66</th>\n",
       "      <td>00Axx</td>\n",
       "      <td>General and miscellaneous specific topics</td>\n",
       "      <td>[00, A, xx]</td>\n",
       "      <td>3</td>\n",
       "    </tr>\n",
       "    <tr>\n",
       "      <th>88</th>\n",
       "      <td>00Bxx</td>\n",
       "      <td>Conference proceedings and collections of arti...</td>\n",
       "      <td>[00, B, xx]</td>\n",
       "      <td>3</td>\n",
       "    </tr>\n",
       "    <tr>\n",
       "      <th>105</th>\n",
       "      <td>01Axx</td>\n",
       "      <td>History of mathematics and mathematicians</td>\n",
       "      <td>[01, A, xx]</td>\n",
       "      <td>3</td>\n",
       "    </tr>\n",
       "    <tr>\n",
       "      <th>147</th>\n",
       "      <td>03Axx</td>\n",
       "      <td>Philosophical aspects of logic and foundations</td>\n",
       "      <td>[03, A, xx]</td>\n",
       "      <td>3</td>\n",
       "    </tr>\n",
       "    <tr>\n",
       "      <th>151</th>\n",
       "      <td>03Bxx</td>\n",
       "      <td>General logic</td>\n",
       "      <td>[03, B, xx]</td>\n",
       "      <td>3</td>\n",
       "    </tr>\n",
       "    <tr>\n",
       "      <th>...</th>\n",
       "      <td>...</td>\n",
       "      <td>...</td>\n",
       "      <td>...</td>\n",
       "      <td>...</td>\n",
       "    </tr>\n",
       "    <tr>\n",
       "      <th>6621</th>\n",
       "      <td>97Kxx</td>\n",
       "      <td>Education of combinatorics, graph theory, prob...</td>\n",
       "      <td>[97, K, xx]</td>\n",
       "      <td>3</td>\n",
       "    </tr>\n",
       "    <tr>\n",
       "      <th>6631</th>\n",
       "      <td>97Mxx</td>\n",
       "      <td>Education of mathematical modeling and applica...</td>\n",
       "      <td>[97, M, xx]</td>\n",
       "      <td>3</td>\n",
       "    </tr>\n",
       "    <tr>\n",
       "      <th>6641</th>\n",
       "      <td>97Nxx</td>\n",
       "      <td>Education of numerical mathematics</td>\n",
       "      <td>[97, N, xx]</td>\n",
       "      <td>3</td>\n",
       "    </tr>\n",
       "    <tr>\n",
       "      <th>6651</th>\n",
       "      <td>97Pxx</td>\n",
       "      <td>Computer science (educational aspects)</td>\n",
       "      <td>[97, P, xx]</td>\n",
       "      <td>3</td>\n",
       "    </tr>\n",
       "    <tr>\n",
       "      <th>6659</th>\n",
       "      <td>97Uxx</td>\n",
       "      <td>Educational material and media and educational...</td>\n",
       "      <td>[97, U, xx]</td>\n",
       "      <td>3</td>\n",
       "    </tr>\n",
       "  </tbody>\n",
       "</table>\n",
       "<p>534 rows × 4 columns</p>\n",
       "</div>"
      ],
      "text/plain": [
       "       code                                        description   identifier   \n",
       "66    00Axx          General and miscellaneous specific topics  [00, A, xx]  \\\n",
       "88    00Bxx  Conference proceedings and collections of arti...  [00, B, xx]   \n",
       "105   01Axx          History of mathematics and mathematicians  [01, A, xx]   \n",
       "147   03Axx     Philosophical aspects of logic and foundations  [03, A, xx]   \n",
       "151   03Bxx                                      General logic  [03, B, xx]   \n",
       "...     ...                                                ...          ...   \n",
       "6621  97Kxx  Education of combinatorics, graph theory, prob...  [97, K, xx]   \n",
       "6631  97Mxx  Education of mathematical modeling and applica...  [97, M, xx]   \n",
       "6641  97Nxx                 Education of numerical mathematics  [97, N, xx]   \n",
       "6651  97Pxx             Computer science (educational aspects)  [97, P, xx]   \n",
       "6659  97Uxx  Educational material and media and educational...  [97, U, xx]   \n",
       "\n",
       "      heirarchy  \n",
       "66            3  \n",
       "88            3  \n",
       "105           3  \n",
       "147           3  \n",
       "151           3  \n",
       "...         ...  \n",
       "6621          3  \n",
       "6631          3  \n",
       "6641          3  \n",
       "6651          3  \n",
       "6659          3  \n",
       "\n",
       "[534 rows x 4 columns]"
      ]
     },
     "execution_count": 71,
     "metadata": {},
     "output_type": "execute_result"
    }
   ],
   "source": [
    "df[df['heirarchy']==3]"
   ]
  }
 ],
 "metadata": {
  "kernelspec": {
   "display_name": "Python 3",
   "language": "python",
   "name": "python3"
  },
  "language_info": {
   "codemirror_mode": {
    "name": "ipython",
    "version": 3
   },
   "file_extension": ".py",
   "mimetype": "text/x-python",
   "name": "python",
   "nbconvert_exporter": "python",
   "pygments_lexer": "ipython3",
   "version": "3.11.3"
  },
  "orig_nbformat": 4
 },
 "nbformat": 4,
 "nbformat_minor": 2
}
