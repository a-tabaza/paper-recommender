{
 "cells": [
  {
   "cell_type": "code",
   "execution_count": 15,
   "metadata": {},
   "outputs": [],
   "source": [
    "import pandas as pd \n",
    "import numpy as np\n",
    "import ast\n",
    "import re\n",
    "from bs4 import BeautifulSoup\n",
    "from tqdm import tqdm\n",
    "from sentence_transformers import SentenceTransformer, util"
   ]
  },
  {
   "cell_type": "code",
   "execution_count": 16,
   "metadata": {},
   "outputs": [],
   "source": [
    "path = r'Classification Codes Data\\msc_codes.txt'"
   ]
  },
  {
   "cell_type": "code",
   "execution_count": 17,
   "metadata": {},
   "outputs": [],
   "source": [
    "with open(path, 'r', encoding='utf8') as f:\n",
    "    msc = f.readlines()"
   ]
  },
  {
   "cell_type": "code",
   "execution_count": 18,
   "metadata": {},
   "outputs": [],
   "source": [
    "codes = []\n",
    "descriptions = []\n",
    "for entry in msc:\n",
    "    code, description = entry.split(' ', 1)\n",
    "    codes.append(code)\n",
    "    descriptions.append(description.replace('\\n', ''))\n",
    "    assert len(codes) == len(descriptions)"
   ]
  },
  {
   "cell_type": "code",
   "execution_count": 19,
   "metadata": {},
   "outputs": [],
   "source": [
    "def remove_brackets(text):\n",
    "  pattern = re.compile(r'\\[.+\\]|\\{.+\\}')\n",
    "  return pattern.sub('', text)"
   ]
  },
  {
   "cell_type": "code",
   "execution_count": 20,
   "metadata": {},
   "outputs": [],
   "source": [
    "for idx, description in enumerate(descriptions):\n",
    "    descriptions[idx] = remove_brackets(description)"
   ]
  },
  {
   "cell_type": "code",
   "execution_count": 21,
   "metadata": {},
   "outputs": [],
   "source": [
    "df = pd.DataFrame({'code': codes, 'description': descriptions})"
   ]
  },
  {
   "cell_type": "code",
   "execution_count": 22,
   "metadata": {},
   "outputs": [],
   "source": [
    "def extract_identifier(code):\n",
    "    identifier_0 = code[:2]\n",
    "    identifier_1 = code[2:3]\n",
    "    identifier_2 = code[3:5]\n",
    "    return [identifier_0, identifier_1, identifier_2]\n",
    "df['identifier'] = df['code'].apply(extract_identifier)"
   ]
  },
  {
   "cell_type": "code",
   "execution_count": 23,
   "metadata": {},
   "outputs": [],
   "source": [
    "def heirarchy(identifier):\n",
    "    if re.match(r'\\b^[0-9][0-9]\\b', identifier[0]) and (identifier[1] == '' and identifier[2] == ''):\n",
    "        return 1\n",
    "    if re.match(r'\\b^[0-9][0-9]\\b', identifier[0]) and (identifier[2] == 'XX'):\n",
    "        return 1\n",
    "    if (re.match(r'\\b^[0-9][0-9]\\b', identifier[0]) and re.match(r'\\b^[0-9][0-9]\\b', identifier[0])) and (identifier[1] == '-'):\n",
    "        return 2\n",
    "    if re.match(r'\\b^[0-9][0-9]\\b', identifier[0]) and re.match(r'\\b^[A-Z]\\b', identifier[1]) and re.match(r'\\b^xx\\b', identifier[2]):\n",
    "        return 3\n",
    "    else:\n",
    "        return 4\n",
    "df['heirarchy'] = df['identifier'].apply(heirarchy).astype(int)"
   ]
  },
  {
   "cell_type": "code",
   "execution_count": 24,
   "metadata": {},
   "outputs": [
    {
     "data": {
      "text/html": [
       "<div>\n",
       "<style scoped>\n",
       "    .dataframe tbody tr th:only-of-type {\n",
       "        vertical-align: middle;\n",
       "    }\n",
       "\n",
       "    .dataframe tbody tr th {\n",
       "        vertical-align: top;\n",
       "    }\n",
       "\n",
       "    .dataframe thead th {\n",
       "        text-align: right;\n",
       "    }\n",
       "</style>\n",
       "<table border=\"1\" class=\"dataframe\">\n",
       "  <thead>\n",
       "    <tr style=\"text-align: right;\">\n",
       "      <th></th>\n",
       "      <th>code</th>\n",
       "      <th>description</th>\n",
       "      <th>identifier</th>\n",
       "      <th>heirarchy</th>\n",
       "    </tr>\n",
       "  </thead>\n",
       "  <tbody>\n",
       "    <tr>\n",
       "      <th>0</th>\n",
       "      <td>00</td>\n",
       "      <td>General and overarching topics; collections</td>\n",
       "      <td>[00, , ]</td>\n",
       "      <td>1</td>\n",
       "    </tr>\n",
       "    <tr>\n",
       "      <th>1</th>\n",
       "      <td>01</td>\n",
       "      <td>History and biography</td>\n",
       "      <td>[01, , ]</td>\n",
       "      <td>1</td>\n",
       "    </tr>\n",
       "    <tr>\n",
       "      <th>2</th>\n",
       "      <td>03</td>\n",
       "      <td>Mathematical logic and foundations</td>\n",
       "      <td>[03, , ]</td>\n",
       "      <td>1</td>\n",
       "    </tr>\n",
       "    <tr>\n",
       "      <th>3</th>\n",
       "      <td>05</td>\n",
       "      <td>Combinatorics</td>\n",
       "      <td>[05, , ]</td>\n",
       "      <td>1</td>\n",
       "    </tr>\n",
       "    <tr>\n",
       "      <th>4</th>\n",
       "      <td>45</td>\n",
       "      <td>Integral equations</td>\n",
       "      <td>[45, , ]</td>\n",
       "      <td>1</td>\n",
       "    </tr>\n",
       "  </tbody>\n",
       "</table>\n",
       "</div>"
      ],
      "text/plain": [
       "  code                                  description identifier  heirarchy\n",
       "0   00  General and overarching topics; collections   [00, , ]          1\n",
       "1   01                        History and biography   [01, , ]          1\n",
       "2   03           Mathematical logic and foundations   [03, , ]          1\n",
       "3   05                                Combinatorics   [05, , ]          1\n",
       "4   45                           Integral equations   [45, , ]          1"
      ]
     },
     "execution_count": 24,
     "metadata": {},
     "output_type": "execute_result"
    }
   ],
   "source": [
    "df.head()"
   ]
  },
  {
   "cell_type": "code",
   "execution_count": 25,
   "metadata": {},
   "outputs": [],
   "source": [
    "cls = df[df['heirarchy'] == 1]\n",
    "subcls = df[df['heirarchy'] == 2]\n",
    "subsubcls = df[df['heirarchy'] == 3]\n",
    "subsubsubcls = df[df['heirarchy'] == 4]"
   ]
  },
  {
   "cell_type": "code",
   "execution_count": 69,
   "metadata": {},
   "outputs": [],
   "source": [
    "def construct_full_text(identifier):\n",
    "\n",
    "    code = ''.join(identifier)\n",
    "\n",
    "    full_text = ''\n",
    "\n",
    "    if code not in df['code'].values:\n",
    "        raise ValueError('Code not found in the dataset')\n",
    "    \n",
    "    if heirarchy(identifier) == 1:\n",
    "        full_text = f\"Class: {df[df['code'] == code]['description'].values[0].strip()}\"\n",
    "    \n",
    "    if heirarchy(identifier) == 2:\n",
    "        full_text = f\"Class: {df[df['code'] == code[:2] + '-XX']['description'].values[0].strip()} Subclass: {df[df['code'] == code]['description'].values[0].strip()}\"\n",
    "\n",
    "    return full_text.strip()"
   ]
  },
  {
   "cell_type": "code",
   "execution_count": 70,
   "metadata": {},
   "outputs": [
    {
     "name": "stdout",
     "output_type": "stream",
     "text": [
      "Class: Mathematics education Subclass: Research exposition (monographs, survey articles) pertaining to mathematics education\n"
     ]
    }
   ],
   "source": [
    "print(construct_full_text(['97', '-', '02']))"
   ]
  }
 ],
 "metadata": {
  "kernelspec": {
   "display_name": "Python 3",
   "language": "python",
   "name": "python3"
  },
  "language_info": {
   "codemirror_mode": {
    "name": "ipython",
    "version": 3
   },
   "file_extension": ".py",
   "mimetype": "text/x-python",
   "name": "python",
   "nbconvert_exporter": "python",
   "pygments_lexer": "ipython3",
   "version": "3.11.3"
  },
  "orig_nbformat": 4
 },
 "nbformat": 4,
 "nbformat_minor": 2
}
