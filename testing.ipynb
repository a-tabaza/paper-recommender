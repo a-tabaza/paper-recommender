{
 "cells": [
  {
   "cell_type": "code",
   "execution_count": 109,
   "metadata": {},
   "outputs": [],
   "source": [
    "import pandas as pd \n",
    "import numpy as np\n",
    "import ast\n",
    "import re\n",
    "from bs4 import BeautifulSoup\n",
    "import PyPDF2\n",
    "from sentence_transformers import SentenceTransformer, util"
   ]
  },
  {
   "cell_type": "code",
   "execution_count": 2,
   "metadata": {},
   "outputs": [],
   "source": [
    "model = SentenceTransformer('all-mpnet-base-v2')"
   ]
  },
  {
   "attachments": {},
   "cell_type": "markdown",
   "metadata": {},
   "source": [
    "#### Tags Text Cleaning"
   ]
  },
  {
   "cell_type": "code",
   "execution_count": 3,
   "metadata": {},
   "outputs": [],
   "source": [
    "def clean_categories(categories):\n",
    "    tags = [tag.strip() for tag in ast.literal_eval(categories)]\n",
    "    return tags"
   ]
  },
  {
   "cell_type": "code",
   "execution_count": 4,
   "metadata": {},
   "outputs": [],
   "source": [
    "df = pd.read_csv(r'arxiv-paper-abstracts\\arxiv_data_210930-054931.csv')\n",
    "categories = pd.DataFrame(list(df['terms'].unique()),columns=['categories'])\n",
    "categories['clean_categories'] = categories['categories'].apply(clean_categories)\n",
    "tags = set()\n",
    "for index, row in categories.iterrows():\n",
    "    categories = row['clean_categories']\n",
    "    for category in categories:\n",
    "        tags.add(category)\n",
    "tags_df = pd.DataFrame(list(tags), columns=['tags'])\n",
    "tags = set()\n",
    "for index, row in tags_df.iterrows():\n",
    "    categories_str = row['tags']\n",
    "    categories_list = [category.strip() for category in categories_str.replace(',', ';').split(';')]\n",
    "    for category in categories_list:\n",
    "        tags.add(category)\n",
    "tags_df = pd.DataFrame(list(tags), columns=['tags'])\n",
    "tags = set()\n",
    "for index, row in tags_df.iterrows():\n",
    "    categories_str = row['tags']\n",
    "    categories_list = [category.strip() for category in categories_str.replace(',', ';').split(';')]\n",
    "    for category in categories_list:\n",
    "        if '(' in category and ')' in category:\n",
    "            subcategories = [subcat.strip() for subcat in category.split() if subcat[0].isdigit()]\n",
    "            for subcategory in subcategories:\n",
    "                tags.add(subcategory)\n",
    "        else:\n",
    "            tags.add(category)\n",
    "tags.discard('')\n"
   ]
  },
  {
   "cell_type": "code",
   "execution_count": 5,
   "metadata": {},
   "outputs": [
    {
     "name": "stdout",
     "output_type": "stream",
     "text": [
      "['I.4.10', '93B30', '62J02', '60C05', '35J08', '62J99', 'B.7.1', '68W99', '68U35', '78', '49-06', '62H17', '46E22', 'D.3.4', 'I.2.8', '65D10', 'I.2.2', 'cond-mat', '92', 'J.5', '90C05', 'cond-mat.other', 'q-bio.GN', '68P30', 'hep-ex', '68W50', '60G35', '41A52', 'astro-ph.SR', 'H.2.8', '15B48', 'physics.pop-ph', '68: computer science', '62F03', '62G08', '35J47', '65Zxx', '62F40', 'C.2', 'math.ST', 'cs.GT', 'math.AC', '68Q25', 'H.3.4', '60E05', 'physics.geo-ph', '68T05 91E40', '49M41', 'I.2.10', '60', '60L20', '90C26', '60H30', 'cond-mat.soft', '60G15', '47A60', '90C90', 'J.m', 'I.2', '55U10', '62h30', 'math.CO', '34A99', 'Computer science applications- 97R60 Computer graphics', '05C60', 'cs.OH', 'nlin.CG', 'I.2.1', '62F35', 'D.2.11', '91G80', '74S05', '33E10', '92D20', '68W27', '68N30', 'math.RT', 'org', '34C20', 'hep-ph', '90-06', '74B05', '49L20', 'J.0', '00', '68T05', 'I.2.10.f', '54H30', 'F.4.2', 'I.4.9', '62-08', 'q-fin.TR', '60-06', '68-01', '97C30', '30C40', '60G55', '65T60', '90', '14L24', '62F07', '76D07', 'K.4.4', '90-10', '65Yxx', 'D.4.6', 'stat.OT', 'cs.SY', '92E10', '68T40', 'B.m', '15A83', '68Q32', 'physics.chem-ph', 'cs.OS', 'I.4', '62G32', '62G10', '65S05', 'I.6.4', 'H.5.5', 'J.2', '92B20', '68W15', '62P15', 'q-fin.CP', 'cs.MM', '68W05', '65L07', '55R35', 'cs.DS', '97P30', 'G.2.2', 'J.3.1', 'I.3', '14M15', '03B65', 'H.4.0', 'cs.HC', '65N12', '51N05', '35A18', '47G30', 'I.7', '91A60', '05C80', '35J15', 'K.5.2', 'B.7.2', 'I.2.4', 'A.1', '68T99', 'nlin.CD', '68T07', '60H05', '15A63', 'I.4.3', '90C17', '62H22', 'I.1.5', 'q-fin.MF', 'cs.CV', 'physics.ins-det', '65N99', 'I.1.4', 'D.2.2', 'cond-mat.mtrl-sci', '55N99', '62F12', '65F50', '93C85', '62', '62J05', '91G70', '35A15', '60G40', 'I.2.7', 'I.5.0', 'I.5.3', '62D05', '14R10', 'gr-qc', '65M20', 'cs.DL', '93E20', '68T04', '06B99', '60G09', 'physics.data-an', '62M02', 'I.4.1', '68U10', 'F.m', '92B20', '03D10', '62G99', '06A06', 'cond-mat.dis-nn', '41A05', '49N10', '68U10', 'math.GN', 'q-bio.QM', '41A46', '46N30', 'physics.comp-ph', '60D05', '52C25', '93B15', 'cs.AR', '2010', '49J55', 'J.6', '65D15', '60J05', '68T30', 'cs.CG', 'G.1.4', 'I.5.1', '62M10', '60J22', 'H.5.0', '62P99', '90C46', 'I.7.5', '65N06', 'math.GT', '58J35', '60-08', '68U01', 'astro-ph.HE', 'hep-th', '53A04', '90C06', '94A17', '62J07', 'I.3.8', '62-02', '62D20', '00-02', 'G.4', 'physics.plasm-ph', '03G10', 'cs.CR', '47A58', '30E05', 'J.3', 'F.1.3', 'math.RA', '41A10', 'H.4.m', 'q-bio.TO', 'q-fin.PM', '94', '90C27', '62P30', 'I.5.5', '06A15', '68U99', 'math.AG', '62J10', 'math.AP', 'math.DS', '26B40', '62A09', 'J.2.', '90C25', '46M20', '91D30', '62P12', '65C05', 'math.NT', '65M99', '94C15', '68W40', 'math.LO', 'physics.ed-ph', '05C81', '37M25', '62M15', '65J22', '41A65', '42B35', '65F55', 'I.2.1 Applications Expert Systems', 'nlin.AO', '65D19', 'I.0', '54E40', 'I.6.8', 'cs.CY', '53Z50', 'cs.NA', 'I.6.6', '58D10', '49J20', '91C99', '68T45', 'J.7', '26A33', '62F10', '68U20', '68Q87', '43A32', '62-07l', 'astro-ph.GA', '68T45 68T07', '37G05', '90-01', '11J71', '90C20', '37N35', 'astro-ph.EP', '65F22', '05C62', '62E10', 'cs.SC', 'math.IT', '74S30', 'H.1.1', 'q-bio.BM', '93Cxx', 'cs.IR', 'cs.LO', 'I.3.7', 'H.2.7', 'F.2.2', 'physics.soc-ph', '05B45', 'I.4.5', '76S05', '58J90', 'C.4.4', '54F45', '2020: 49N45', '6804', '03B52', '03B70', '68N20', '93C41', '58E30', 'C.2.6', '68T42', '82C32', '90C30', '65R32', 'physics.med-ph', '47B34', 'G.1', 'math.OA', '44A12', 'J.4', 'J.2.5', '14M07', '68R10', 'I.4.8', '93E03', 'cs.RO', '90C59', 'physics.app-ph', '60G99', 'math.MP', 'I.2.0', '55N31', 'stat.ML', '70-08', '65K10', '90C08', '62-07', 'I.5.2', 'cond-mat.str-el', '90C40', '62G09', 'I.2.6', '68U15', '53B20', '90B99', 'I.3.5', '62H20', 'B.4.2', 'I.2.11', '93B35', '62G35', 'G.1.8', '68-06', '05C70', 'D.2', '91C20', '49Q10', '15A60', '35Q84', '65M12', '91Bxx', '62H12', '94A60', 'q-fin.ST', 'I.4.2', 'math.NA', '62R07', 'I.3.0', '41A30', 'I.7.1', 'Computing methodologies for image processing', 'H.3', '97N80', '47G20', '49M15', 'I5.3', '65Kxx', 'F.2.0', 'cs.GR', '94A15', 'F.2.1', 'I.4.6', 'cs.MS', 'cs.MA', '62B10', 'math.FA', '62H30', '37H99', '68T07', 'K.3.2', 'E.5', 'I.4.0', '74A40', '62P10', 'E.0', 'I.6.3', 'cs.NE', '60J20', 'G.2.6', '51M20', '62-XX', '93B50', '35K15', '62C99', 'math.CV', '81Pxx', 'cs.DM', 'stat.AP', 'F.3.1', '62J12', '42-08', '41A63', 'I.5', '11Y16', '62M45', '60K35', '90-05', '76M10', 'K.3.8', 'G.1.6', '37N30', '60L10', '91B16', 'G.2', '92C55', '94A34', '49Q22', 'H.2', '00B25', '62E17', '68T37', 'C.2.4', 'cs.IT', '62P35', '62F25', '68-04', 'cs.CE', '62H99', 'D.2.8', 'K.4.2', '35J20', '91A20', 'H.3.3', 'eess.AS', 'physics.class-ph', 'stat.TH', '05C50', 'cs.CL', 'quant-ph', 'cond-mat.mes-hall', '35Q79', '62-09', '65D17', '05C85', '68Tx', '68T01', 'I.2.3', 'cond-mat.stat-mech', 'physics.flu-dyn', 'G.1.0', 'J.1', '68Q55', '35Q74', '46E30', '54E05', '11Z05', 'G.3', '82B20', '65D05', 'I.2.m', 'H.0', '51K05', '68T01', '68P99', 'I.3.6', '78M32', '80A30', 'Artificial intelligence', 'physics.space-ph', '53A17', '03-04', 'cs.DB', '05C99', '93E12', '14M25', '62C05', 'E.1', 'nucl-ex', '62G86', '05A16', '28A33', 'q-bio.CB', '60B20', '62G05', 'cs.CC', '60G10', '65M55', '37M05', 'E.2', 'hep-lat', '94-02', 'H.5.2', '62H15', '93', '62M05', '93E10', '65N21', '62L10', 'astro-ph.CO', '90C10', '68Wxx', 'This paper tells us how human can be identified by their Gait cycle\\n  using any simple camera', 'cs.DC', '74L10', '49', 'I.2.7.g', '46M15', 'D.3.2', 'math.GR', '35K57', 'I.5.2.b', 'math.CT', '65T50', '65C20', '92B25 92F99', '65M06', 'cs.PL', 'C.2.2', '76T99', 'H.3.1', 'nlin.PS', 'math.HO', 'stat.ME', 'nucl-th', 'cs.ET', 'q-bio.OT', 'G.1.3', 'stat.CO', '91A12', '91F20', '91B08', '68P15', 'physics.optics', 'H.2.0', '91A06', 'I.4.4', '46M40', 'physics.bio-ph', '91-10', 'G.3.11', 'I.2.5', '91B84', 'math.MG', '42C40', '35-XX', 'D.2.0', '65Z05', 'q-fin.RM', '57Z25', '62J10', 'math.DG', 'astro-ph', 'physics.acc-ph', 'physics.ao-ph', '90C22', 'I.5.4.m', '94A12', '62F15', '37E25', 'F.2', 'I.3.3', 'eess.IV', '86A10', '15A69', '37M10', '49N30', 'I.6.5', 'C.2.1', 'astro-ph.IM', '14T10', '68-XX', '65F30', '91-08', 'math.PR', '60H99', '49-11', '14Q15', '68T05', '62B86', '60G60', 'q-bio.NC', 'adap-org', 'q-bio.PE', '60J27', '68R99', '90-08', '68U05', '65C60', '68M25', '91E30', '91B10', '60J25', '16G20', '49N45', '65F15', '35J50', 'G.2.1', '47B32', '68T10', 'I.6', '37N99', 'I.4.7', 'cs.SD', 'eess.SY', '37Nxx', '93E35', 'ams.org', 'math.AT', 'cs.NI', 'cs.SE', 'cs.LG', '86-04', '60J10', '46N10', 'q-bio.MN', '65C50', '92C55', '68W25', 'I.2.9', 'H.2.4', '97R40', '62H25', '90B18', 'I.1.2', 'C.3', 'I.4.m', 'math.CA', 'D.1.3', '92-XX', '68T09', '92C50', '00Bxx', 'H.4.2', 'I.2.0.b', '05C20', '86-08', '65L05', 'I.5.4.b', '90B22', '74Pxx', '49M37', '74L05', '90Cxx', '35CXX', '92B99', 'I.1.3', '68Q42', 'cs.SI', '90C35', '68W10', '68T50', '35K08', '05C21', '65D18', '62M40', '47N10', 'econ.TH', '65Dxx', '62G07', '53A20', 'econ.GN', '10010147.10010257.10010258.10010259.10010263', '14F05', 'J.2.4', 'H.1.2', 'math.SP', '62H35', '62M20', 'math-ph', '35B50', 'F.2.4', '15A06', 'C.4', '91E40', 'I.3.4', 'cs.PF', '14J26', '62P10', 'E.4', 'E.3', '68T27', '68T20', 'K.4', '65C30', '62M09', 'B.5.1', '91A80', 'eess.SP', 'I.4.m I.2.7', 'H.5', '65R30', '68', '94A08', 'cs.FL', 'econ.EM', '62G20', '62R40', '35R02', 'G.2.3', '65C10', 'H.4', '62R01', 'D.2.5', '6006', 'K.3.m', 'I.2.4.j', '68P20', 'F.4.1', '57-08', '35Q68', 'cs.AI', 'q-fin.GN', '74Q15', '34H05', '55U99', 'q-fin.PR', '62C10', 'G.1.2', '15A29', 'F.1.1', '68Txx', '68W01', '49M29', '14J60', 'q-fin.EC', '35P15', 'math.OC', '35K55', 'H.5.1', 'C.1.3', '65K05', '65M22', 'I.5.4', '47N30', 'G.3.7']\n"
     ]
    }
   ],
   "source": [
    "tags_list = []\n",
    "for tag in tags:\n",
    "    tag = tag.replace('(Primary)', '')\n",
    "    tag = tag.replace('Primary', '')\n",
    "    tag = tag.replace('(Secondary)', '')\n",
    "    tag = tag.replace('(secondary)', '')\n",
    "    tag = tag.replace('secondary', '')\n",
    "    tag = tag.replace('Secondary', '')\n",
    "    tag = tag.replace('and ', '')\n",
    "    tags_list.append(tag.strip())\n",
    "print(tags_list)\n",
    "    "
   ]
  },
  {
   "cell_type": "code",
   "execution_count": 6,
   "metadata": {},
   "outputs": [],
   "source": [
    "# create empty lists for each classification\n",
    "msc = set()\n",
    "ccs = set()\n",
    "arxiv = set()\n",
    "misc = set()\n",
    "\n",
    "for tag in tags_list:\n",
    "    if re.match(r'\\d{2}[A-Z]\\d{2}|\\d{2}[A-Z]-xx|\\d{2}\\w{2,}', tag):\n",
    "        msc.add(tag)\n",
    "    elif re.match(r'\\d{2}-\\d{2}|\\d{2}-xx|\\d{2}-XX', tag):\n",
    "        msc.add(tag)\n",
    "    elif re.match(r'\\d{2}', tag):\n",
    "        msc.add(tag)\n",
    "    elif re.match(r'[A-Z]\\.\\d\\.\\d', tag):\n",
    "        ccs.add(tag)\n",
    "    elif re.match(r'[A-Z]\\.\\d', tag):\n",
    "        ccs.add(tag)\n",
    "    elif re.match(r'[A-Z]\\d\\.\\d', tag):\n",
    "        ccs.add(tag)\n",
    "    elif re.match(r'\\w+\\.\\w+', tag):\n",
    "        arxiv.add(tag)\n",
    "    elif re.match(r'\\w+-\\w+\\.\\w+-\\w+', tag):\n",
    "        arxiv.add(tag)\n",
    "    elif re.match(r'\\w+-\\w+\\.\\w+', tag):\n",
    "        arxiv.add(tag)\n",
    "    elif re.match(r'\\w+-\\w+', tag):\n",
    "        arxiv.add(tag)\n",
    "    else:\n",
    "        misc.add(tag)\n"
   ]
  },
  {
   "cell_type": "code",
   "execution_count": 7,
   "metadata": {},
   "outputs": [
    {
     "name": "stdout",
     "output_type": "stream",
     "text": [
      "MSC: 453\n",
      "CCS: 162\n",
      "ArXiv: 149\n",
      "Misc: 5\n"
     ]
    }
   ],
   "source": [
    "print(f'MSC: {len(msc)}\\nCCS: {len(ccs)}\\nArXiv: {len(arxiv)}\\nMisc: {len(misc)}')"
   ]
  },
  {
   "attachments": {},
   "cell_type": "markdown",
   "metadata": {},
   "source": [
    "**Contents of misc:**\n",
    "- Artificial intelligence': corresponds to 68Txx\n",
    "- Computer science applications- 97R60 Computer graphics': corresponds to 97R60\n",
    "- Computing methodologies for image processing': corresponds to 68U10\n",
    "- This paper tells us how human can be identified by their Gait cycle\\n  using any simple camera': dropped\n",
    "- org: dropped"
   ]
  },
  {
   "cell_type": "code",
   "execution_count": 8,
   "metadata": {},
   "outputs": [],
   "source": [
    "msc.add('97R60')\n",
    "del misc"
   ]
  },
  {
   "cell_type": "code",
   "execution_count": 9,
   "metadata": {},
   "outputs": [],
   "source": [
    "msc_cleaned = pd.DataFrame(list(msc), columns=['msc'])\n",
    "ccs_cleaned = pd.DataFrame(list(ccs), columns=['ccs'])\n",
    "arxiv_cleaned = pd.DataFrame(list(arxiv), columns=['arxiv'])"
   ]
  },
  {
   "attachments": {},
   "cell_type": "markdown",
   "metadata": {},
   "source": [
    "#### Retrieve Descriptions for Each Tag"
   ]
  },
  {
   "cell_type": "code",
   "execution_count": 40,
   "metadata": {},
   "outputs": [],
   "source": [
    "msc_html = r'C:\\Users\\User\\Desktop\\ml_paper_recommender_system\\paper-recommender\\MSC Classification Codes.html'\n",
    "\n",
    "# Parse MSC Classification Codes html file\n",
    "with open(msc_html) as fp:\n",
    "    msc_soup = BeautifulSoup(fp, 'html.parser')\n",
    "\n",
    "# Extract MSC Classification Codes\n",
    "msc_tree = [element.text for element in msc_soup.find_all('li')]\n",
    "\n",
    "# Define Dictionary for MSC Classification Codes where the key is the main class and the value is a list of sub-classes\n",
    "msc_classes = {}\n",
    "\n",
    "# Populate the dictionary\n",
    "for cls in msc_tree:\n",
    "    if re.match(r'^\\d\\d-xx:', cls):\n",
    "        msc_classes[cls.split('\\n')[0]] = []\n",
    "\n",
    "for element in msc_tree:\n",
    "    for cls in msc_classes.keys():\n",
    "        if cls[0:2] == element[0:2]:\n",
    "            msc_classes[cls].append(element)\n",
    "\n",
    "for cls in msc_classes.keys():\n",
    "    msc_classes[cls].pop(0)\n",
    "\n",
    "# Create a dataframe from the dictionary\n",
    "msc_df = pd.DataFrame(msc_classes.items(),columns=['class','sub_classes'])"
   ]
  },
  {
   "cell_type": "code",
   "execution_count": 41,
   "metadata": {},
   "outputs": [],
   "source": [
    "for i, subclass in enumerate(msc_df['sub_classes']):\n",
    "    for idx, sub in enumerate(subclass):\n",
    "        if re.match(r'\\d+\\d+[A-Z]xx', sub):\n",
    "            msc_df['sub_classes'][i][idx] = sub.split('\\n')[0]"
   ]
  },
  {
   "cell_type": "code",
   "execution_count": 42,
   "metadata": {},
   "outputs": [],
   "source": [
    "for i, subclass in enumerate(msc_df['sub_classes']):\n",
    "    curr_cls = msc_df['class'][i]\n",
    "    for idx, sub in enumerate(subclass):\n",
    "        msc_df['sub_classes'][i][idx] = curr_cls + ' ' + msc_df['sub_classes'][i][idx]"
   ]
  },
  {
   "cell_type": "code",
   "execution_count": 60,
   "metadata": {},
   "outputs": [],
   "source": [
    "for idx, tag in enumerate(msc_cleaned['msc']):\n",
    "    if ':' in tag:\n",
    "        msc_cleaned['msc'][idx] = tag.split(':')[0]"
   ]
  },
  {
   "cell_type": "code",
   "execution_count": 54,
   "metadata": {},
   "outputs": [
    {
     "data": {
      "text/plain": [
       "True"
      ]
     },
     "execution_count": 54,
     "metadata": {},
     "output_type": "execute_result"
    }
   ],
   "source": [
    "target_string = \"example\"\n",
    "def check_substring(string):\n",
    "    return target_string in string\n",
    "check_substring(\"this is an example\")"
   ]
  },
  {
   "cell_type": "code",
   "execution_count": 72,
   "metadata": {},
   "outputs": [
    {
     "data": {
      "text/plain": [
       "100"
      ]
     },
     "execution_count": 72,
     "metadata": {},
     "output_type": "execute_result"
    }
   ],
   "source": [
    "len(msc_df['sub_classes'][8])"
   ]
  },
  {
   "cell_type": "code",
   "execution_count": 99,
   "metadata": {},
   "outputs": [],
   "source": [
    "msc_cleaned['description'] = None"
   ]
  },
  {
   "cell_type": "code",
   "execution_count": 100,
   "metadata": {},
   "outputs": [],
   "source": [
    "for i, tag in enumerate(msc_cleaned['msc']):\n",
    "    for j, subclass in enumerate(msc_df['sub_classes']):\n",
    "        for k, cls in enumerate(subclass):\n",
    "            if tag in cls:\n",
    "                msc_cleaned['description'][i] = cls"
   ]
  },
  {
   "cell_type": "code",
   "execution_count": 108,
   "metadata": {},
   "outputs": [
    {
     "name": "stdout",
     "output_type": "stream",
     "text": [
      "Status\n",
      "72 out of 454 tags are missing a description\n"
     ]
    }
   ],
   "source": [
    "missing_msc = []\n",
    "for idx, description in enumerate(msc_cleaned['description']):\n",
    "    if description is None:\n",
    "        missing_msc.append(msc_cleaned['msc'][idx])\n",
    "print(f'Status:\\n{len(missing_msc)} out of {len(msc_cleaned)} tags are missing a description')"
   ]
  },
  {
   "cell_type": "code",
   "execution_count": 117,
   "metadata": {},
   "outputs": [
    {
     "name": "stdout",
     "output_type": "stream",
     "text": [
      "['35J08', '49-11', '68W50', '15B48', '35J47', '65Zxx', '49M41', '68T05 91E40', '60L20', '62h30', '91G80', '68W27', '54H30', '62-08', '90-10', '15A83', '97P30', '90C17', '62H22', '91G70', '68T04', '2010', '62D20', '62A09', '05C81', '65F55', '65D19', '53Z50', '68Q87', '62-07l', '68T45 68T07', '2020', '6804', '68T42', '55N31', '35Q84', '62R07', '97N80', '68T07', '62-XX', '42-08', '90-05', '60L10', '49Q22', '35Q79', '35Q74', '78M32', '62G86', '60B20', '92B25 92F99', '91-10', '35-XX', '57Z25', '14T10', '68-XX', '62B86', '68M25', '97R40', '68T09', '92-XX', '35CXX', '35K08', '05C21', '10010147.10010257.10010258.10010259.10010263', '97R60', '62R40', '35R02', '62R01', '6006', '57-08', '35Q68', '65M22']\n"
     ]
    }
   ],
   "source": [
    "print(missing_msc)"
   ]
  },
  {
   "cell_type": "code",
   "execution_count": 119,
   "metadata": {},
   "outputs": [
    {
     "name": "stdout",
     "output_type": "stream",
     "text": [
      "Page 32: 2020\n",
      "Page 32: 2020\n",
      "Page 32: 2020\n",
      "Page 55: 68-XX\n",
      "Page 63: 05C21\n",
      "Page 25: 05C81\n",
      "Page 49: 60B20\n",
      "Page 54: 14T10\n",
      "Page 16: 15A83\n",
      "Page 4: 15B48\n",
      "Page 49: 60B20\n",
      "Page 52: 35-XX\n",
      "Page 52: 35-XX\n",
      "Page 1: 35J08\n",
      "Page 5: 35J47\n",
      "Page 62: 35K08\n",
      "Page 44: 49Q22\n",
      "Page 46: 35Q74\n",
      "Page 71: 35Q68\n",
      "Page 36: 35Q84\n",
      "Page 45: 35Q79\n",
      "Page 67: 35R02\n",
      "Page 60: 92-XX\n",
      "Page 41: 42-08\n",
      "Page 52: 35-XX\n",
      "Page 2: 49-11\n",
      "Page 7: 49M41\n",
      "Page 44: 49Q22\n",
      "Page 28: 53Z50\n",
      "Page 13: 54H30\n",
      "Page 35: 55N31\n",
      "Page 59: 68T09\n",
      "Page 66: 62R40\n",
      "Page 70: 57-08\n",
      "Page 53: 57Z25\n",
      "Page 52: 35-XX\n",
      "Page 40: 62-XX\n",
      "Page 52: 35-XX\n",
      "Page 60: 92-XX\n",
      "Page 49: 60B20\n",
      "Page 9: 60L20\n",
      "Page 43: 60L10\n",
      "Page 60: 92-XX\n",
      "Page 14: 62-08\n",
      "Page 24: 62A09\n",
      "Page 40: 62-XX\n",
      "Page 56: 62B86\n",
      "Page 23: 62D20\n",
      "Page 19: 62H22\n",
      "Page 48: 62G86\n",
      "Page 35: 55N31\n",
      "Page 37: 62R07\n",
      "Page 59: 68T09\n",
      "Page 60: 92-XX\n",
      "Page 66: 62R40\n",
      "Page 68: 62R01\n",
      "Page 14: 62-08\n",
      "Page 26: 65F55\n",
      "Page 27: 65D19\n",
      "Page 72: 65M22\n",
      "Page 6: 65Zxx\n",
      "Page 55: 68-XX\n",
      "Page 57: 68M25\n",
      "Page 29: 68Q87\n",
      "Page 34: 68T42\n",
      "Page 35: 55N31\n",
      "Page 37: 62R07\n",
      "Page 39: 68T07\n",
      "Page 59: 68T09\n",
      "Page 3: 68W50\n",
      "Page 12: 68W27\n",
      "Page 13: 54H30\n",
      "Page 60: 92-XX\n",
      "Page 47: 78M32\n",
      "Page 15: 90-10\n",
      "Page 42: 90-05\n",
      "Page 18: 90C17\n",
      "Page 51: 91-10\n",
      "Page 11: 91G80\n",
      "Page 20: 91G70\n",
      "Page 60: 92-XX\n",
      "Page 35: 55N31\n",
      "Page 37: 62R07\n",
      "Page 59: 68T09\n",
      "Page 17: 97P30\n",
      "Page 38: 97N80\n"
     ]
    }
   ],
   "source": [
    "# Extract Description from MSC Classification Codes 2020\n",
    "reader = PyPDF2.PdfReader(r'C:\\Users\\User\\Desktop\\ml_paper_recommender_system\\paper-recommender\\msc2020.pdf')\n",
    "missing_corpus = []\n",
    "for idx, page in enumerate(reader.pages):\n",
    "    text = page.extract_text()\n",
    "    for idx, code in enumerate(missing_msc):\n",
    "        if code in text:\n",
    "            missing_corpus.append(text)\n",
    "            print(f'Page {idx+1}: {code}')"
   ]
  },
  {
   "cell_type": "code",
   "execution_count": 121,
   "metadata": {},
   "outputs": [],
   "source": [
    "for idx, text in enumerate(missing_corpus):\n",
    "    missing_corpus[idx] = text.split('\\n')\n"
   ]
  },
  {
   "cell_type": "code",
   "execution_count": 130,
   "metadata": {},
   "outputs": [],
   "source": [
    "missing_descriptions = set()\n",
    "for code in missing_msc:\n",
    "    for idx, text in enumerate(missing_corpus):\n",
    "        for line in text:\n",
    "            if code in line:\n",
    "                desc = f'{code}: {line}'\n",
    "                missing_descriptions.add(desc)"
   ]
  },
  {
   "cell_type": "code",
   "execution_count": 136,
   "metadata": {},
   "outputs": [
    {
     "data": {
      "text/plain": [
       "[['60B20',\n",
       "  ' 60B20 Random matrices (probabilistic aspects) fFor algebraic aspects, see 15B52 g'],\n",
       " ['62H22', ' 62H22 Probabilistic graphical models'],\n",
       " ['97P30', ' 97P30 Systems, databases (educational aspects)'],\n",
       " ['05C81', ' 05C81 Random walks on graphs'],\n",
       " ['62B86',\n",
       "  ' 62B86 Statistical aspects of fuzziness, sufficiency, and information'],\n",
       " ['68T42', ' 68T42 Agent technology and artificial intelligence'],\n",
       " ['97N80',\n",
       "  ' 97N80 Mathematical software, computer programs (educational aspects)'],\n",
       " ['60L10', ' 60L10 Signatures and data streams'],\n",
       " ['35Q68', ' 35Q68 PDEs in connection with computer science'],\n",
       " ['68T07', ' 68T07 Artificial neural networks and deep learning'],\n",
       " ['60L20', ' 60L20 Rough paths'],\n",
       " ['62-08',\n",
       "  ' 62-08 Computational methods for problems pertaining to statistics'],\n",
       " ['35Q79',\n",
       "  ' 35Q79 PDEs in connection with classical thermodynamics and heat transfer'],\n",
       " ['15B48',\n",
       "  ' 15B48 Positive matrices and their generalizations; cones of matrices'],\n",
       " ['68W50',\n",
       "  ' 68W50 Evolutionary algorithms, genetic algorithms (computational aspects) [See also 68T05, 68T20, 90C59]'],\n",
       " ['62-XX', ' 62-XX Statistics'],\n",
       " ['65Zxx', ' 65Zxx Applications to the sciences'],\n",
       " ['62G86', ' 62G86 Nonparametric inference and fuzziness'],\n",
       " ['62R40', ' 62R40 Topological data analysis [See also 55N31]'],\n",
       " ['05C21', ' 05C21 Flows in graphs'],\n",
       " ['35J08', \" 35J08 Green's functions for elliptic equations\"],\n",
       " ['91-10',\n",
       "  ' 91-10 Mathematical modeling or simulation for problems pertaining to game theory, economics, and \\x0cnance'],\n",
       " ['90-05',\n",
       "  ' 90-05 Experimental work for problems pertaining to operations research and mathematical programming'],\n",
       " ['68W27', ' 68W27 Online algorithms; streaming algorithms'],\n",
       " ['14T10',\n",
       "  ' 14T10 Foundations of tropical geometry and relations with algebra fFor algebraic aspects, see 15A80 g'],\n",
       " ['62D20', ' 62D20 Causal inference from observational studies'],\n",
       " ['49Q22', ' 49Q22 Optimal transportation [See also 90B06]'],\n",
       " ['35R02',\n",
       "  ' 35R02 PDEs on graphs and networks (rami\\x0ced or polygonal spaces)'],\n",
       " ['57-08',\n",
       "  ' 57-08 Computational methods for problems pertaining to manifolds and cell complexes'],\n",
       " ['65F55',\n",
       "  ' 65F55 Numerical methods for low-rank matrix approximation; matrix compression'],\n",
       " ['90C17', ' 90C17 Robustness in mathematical programming'],\n",
       " ['53Z50',\n",
       "  ' 53Z50 Applications of di\\x0berential geometry to data and computer science'],\n",
       " ['35J47', ' 35J47 Second-order elliptic systems'],\n",
       " ['62R07',\n",
       "  ' 62R07 Statistical aspects of big data and data science fFor computer science aspects, see 68T09; for information-'],\n",
       " ['15A83', ' 15A83 Matrix completion problems'],\n",
       " ['91G80',\n",
       "  ' 91G80 Financial applications of other theories [See also 35Q91, 37N40, 49N90, 60J70, 60K10, 60H30, 93E20]'],\n",
       " ['54H30',\n",
       "  ' 54H30 Applications of general topology to computer science (e.g., digital topology, image processing) [See also'],\n",
       " ['35K08', ' 35K08 Heat kernel'],\n",
       " ['90-10',\n",
       "  ' 90-10 Mathematical modeling or simulation for problems pertaining to operations research and mathematical pro-'],\n",
       " ['78M32',\n",
       "  ' 78M32 Neural and heuristic methods applied to problems in optics and electromagnetic theory'],\n",
       " ['62A09', ' 62A09 Graphical methods in statistics'],\n",
       " ['35Q74', ' 35Q74 PDEs in connection with mechanics of deformable solids'],\n",
       " ['55N31',\n",
       "  ' 68T09 Computational aspects of data analysis and big data [See also 62R07] fFor homological aspects, see 55N31 g'],\n",
       " ['68-XX',\n",
       "  ' 68-XX Computer science fFor papers containing software, source code,'],\n",
       " ['62R07',\n",
       "  ' 68T09 Computational aspects of data analysis and big data [See also 62R07] fFor homological aspects, see 55N31 g'],\n",
       " ['65D19', ' 65D19 Computational issues in computer and robotic vision'],\n",
       " ['68M25', ' 68M25 Computer security'],\n",
       " ['62-08',\n",
       "  ' 65C20 Probabilistic models, generic numerical methods in probability and statistics [See also 60-08, 62-08]'],\n",
       " ['55N31',\n",
       "  ' 55N31 Persistent homology and applications, topological data analysis [See also 62R40, 68T09]'],\n",
       " ['92-XX', ' 92-XX Biology and other natural sciences'],\n",
       " ['35-XX', ' 35-XX Partial differential equations'],\n",
       " ['68Q87',\n",
       "  ' 68Q87 Probability in computer science (algorithm analysis, random structures, phase transitions, etc.) [See also'],\n",
       " ['60B20',\n",
       "  ' 15B52 Random matrices (algebraic aspects) fFor probabilistic aspects, see 60B20 g'],\n",
       " ['91G70',\n",
       "  ' 91G70 Statistical methods; risk measures [See also 62P05, 62P20]'],\n",
       " ['62R01', ' 62R01 Algebraic statistics'],\n",
       " ['49Q22',\n",
       "  ' 35Q49 Transport equations fFor calculus of variations and optimal control, see 49Q22; for Fluid mechanics, see'],\n",
       " ['60B20', ' 05C80 Random graphs (graph-theoretic aspects) [See also 60B20]'],\n",
       " ['68T09',\n",
       "  ' 94A16 Informational aspects of data analysis and big data [See also 62R07, 68T09] fFor homological aspects, see'],\n",
       " ['49M41', ' 49M41 PDE constrained optimization (numerical aspects)'],\n",
       " ['57Z25',\n",
       "  ' 57Z25 Relations of manifolds and cell complexes with computer and data science'],\n",
       " ['49-11',\n",
       "  ' 49-11 Research data for problems pertaining to calculus of variations and optimal control'],\n",
       " ['35Q84',\n",
       "  ' 35Q84 Fokker-Planck equations For Fluid mechanics, see 76X05, 76W05; for statistical mechanics, see 82C31'],\n",
       " ['42-08',\n",
       "  ' 42-08 Computational methods for problems pertaining to harmonic analysis on Euclidean spaces'],\n",
       " ['68T09',\n",
       "  ' 68T09 Computational aspects of data analysis and big data [See also 62R07] For homological aspects, see 55N31'],\n",
       " ['65M22',\n",
       "  ' 65M22 Numerical solution of discretized equations for initial value and initial-boundary value problems involving']]"
      ]
     },
     "execution_count": 136,
     "metadata": {},
     "output_type": "execute_result"
    }
   ],
   "source": [
    "missing_descriptions = [\n",
    " '60B20: 60B20 Random matrices (probabilistic aspects) fFor algebraic aspects, see 15B52 g',\n",
    " '62H22: 62H22 Probabilistic graphical models',\n",
    " '97P30: 97P30 Systems, databases (educational aspects)',\n",
    " '05C81: 05C81 Random walks on graphs',\n",
    " '62B86: 62B86 Statistical aspects of fuzziness, sufficiency, and information',\n",
    " '68T42: 68T42 Agent technology and artificial intelligence',\n",
    " '97N80: 97N80 Mathematical software, computer programs (educational aspects)',\n",
    " '60L10: 60L10 Signatures and data streams',\n",
    " '35Q68: 35Q68 PDEs in connection with computer science',\n",
    " '68T07: 68T07 Artificial neural networks and deep learning',\n",
    " '60L20: 60L20 Rough paths',\n",
    " '62-08: 62-08 Computational methods for problems pertaining to statistics',\n",
    " '35Q79: 35Q79 PDEs in connection with classical thermodynamics and heat transfer',\n",
    " '15B48: 15B48 Positive matrices and their generalizations; cones of matrices',\n",
    " '68W50: 68W50 Evolutionary algorithms, genetic algorithms (computational aspects) [See also 68T05, 68T20, 90C59]',\n",
    " '62-XX: 62-XX Statistics',\n",
    " '65Zxx: 65Zxx Applications to the sciences',\n",
    " '62G86: 62G86 Nonparametric inference and fuzziness',\n",
    " '62R40: 62R40 Topological data analysis [See also 55N31]',\n",
    " '05C21: 05C21 Flows in graphs',\n",
    " \"35J08: 35J08 Green's functions for elliptic equations\",\n",
    " '91-10: 91-10 Mathematical modeling or simulation for problems pertaining to game theory, economics, and \\x0cnance',\n",
    " '90-05: 90-05 Experimental work for problems pertaining to operations research and mathematical programming',\n",
    " '68W27: 68W27 Online algorithms; streaming algorithms',\n",
    " '14T10: 14T10 Foundations of tropical geometry and relations with algebra fFor algebraic aspects, see 15A80 g',\n",
    " '62D20: 62D20 Causal inference from observational studies',\n",
    " '49Q22: 49Q22 Optimal transportation [See also 90B06]',\n",
    " '35R02: 35R02 PDEs on graphs and networks (rami\\x0ced or polygonal spaces)',\n",
    " '57-08: 57-08 Computational methods for problems pertaining to manifolds and cell complexes',\n",
    " '65F55: 65F55 Numerical methods for low-rank matrix approximation; matrix compression',\n",
    " '90C17: 90C17 Robustness in mathematical programming',\n",
    " '53Z50: 53Z50 Applications of di\\x0berential geometry to data and computer science',\n",
    " '35J47: 35J47 Second-order elliptic systems',\n",
    " '62R07: 62R07 Statistical aspects of big data and data science fFor computer science aspects, see 68T09; for information-',\n",
    " '15A83: 15A83 Matrix completion problems',\n",
    " '91G80: 91G80 Financial applications of other theories [See also 35Q91, 37N40, 49N90, 60J70, 60K10, 60H30, 93E20]',\n",
    " '54H30: 54H30 Applications of general topology to computer science (e.g., digital topology, image processing) [See also',\n",
    " '35K08: 35K08 Heat kernel',\n",
    " '90-10: 90-10 Mathematical modeling or simulation for problems pertaining to operations research and mathematical pro-',\n",
    " '78M32: 78M32 Neural and heuristic methods applied to problems in optics and electromagnetic theory',\n",
    " '62A09: 62A09 Graphical methods in statistics',\n",
    " '35Q74: 35Q74 PDEs in connection with mechanics of deformable solids',\n",
    " '55N31: 68T09 Computational aspects of data analysis and big data [See also 62R07] fFor homological aspects, see 55N31 g',\n",
    " '68-XX: 68-XX Computer science fFor papers containing software, source code,',\n",
    " '62R07: 68T09 Computational aspects of data analysis and big data [See also 62R07] fFor homological aspects, see 55N31 g',\n",
    " '65D19: 65D19 Computational issues in computer and robotic vision',\n",
    " '68M25: 68M25 Computer security',\n",
    " '62-08: 65C20 Probabilistic models, generic numerical methods in probability and statistics [See also 60-08, 62-08]',\n",
    " '55N31: 55N31 Persistent homology and applications, topological data analysis [See also 62R40, 68T09]',\n",
    " '92-XX: 92-XX Biology and other natural sciences',\n",
    " '35-XX: 35-XX Partial differential equations',\n",
    " '68Q87: 68Q87 Probability in computer science (algorithm analysis, random structures, phase transitions, etc.) [See also',\n",
    " '60B20: 15B52 Random matrices (algebraic aspects) fFor probabilistic aspects, see 60B20 g',\n",
    " '91G70: 91G70 Statistical methods; risk measures [See also 62P05, 62P20]',\n",
    " '62R01: 62R01 Algebraic statistics',\n",
    " '49Q22: 35Q49 Transport equations fFor calculus of variations and optimal control, see 49Q22; for Fluid mechanics, see',\n",
    " '60B20: 05C80 Random graphs (graph-theoretic aspects) [See also 60B20]',\n",
    " '68T09: 94A16 Informational aspects of data analysis and big data [See also 62R07, 68T09] fFor homological aspects, see',\n",
    " '49M41: 49M41 PDE constrained optimization (numerical aspects)',\n",
    " '57Z25: 57Z25 Relations of manifolds and cell complexes with computer and data science',\n",
    " '49-11: 49-11 Research data for problems pertaining to calculus of variations and optimal control',\n",
    " '35Q84: 35Q84 Fokker-Planck equations For Fluid mechanics, see 76X05, 76W05; for statistical mechanics, see 82C31',\n",
    " '42-08: 42-08 Computational methods for problems pertaining to harmonic analysis on Euclidean spaces',\n",
    " '68T09: 68T09 Computational aspects of data analysis and big data [See also 62R07] For homological aspects, see 55N31',\n",
    " '65M22: 65M22 Numerical solution of discretized equations for initial value and initial-boundary value problems involving']\n",
    "\n",
    "for idx, desc in enumerate(missing_descriptions):\n",
    "    missing_descriptions[idx] = desc.split(':')\n",
    "missing_descriptions\n"
   ]
  },
  {
   "cell_type": "code",
   "execution_count": 135,
   "metadata": {},
   "outputs": [
    {
     "data": {
      "text/plain": [
       "[['60B20',\n",
       "  ' 60B20 Random matrices (probabilistic aspects) fFor algebraic aspects, see 15B52 g'],\n",
       " ['62H22', ' 62H22 Probabilistic graphical models'],\n",
       " ['97P30', ' 97P30 Systems, databases (educational aspects)'],\n",
       " ['05C81', ' 05C81 Random walks on graphs'],\n",
       " ['62B86',\n",
       "  ' 62B86 Statistical aspects of fuzziness, sufficiency, and information'],\n",
       " ['68T42', ' 68T42 Agent technology and artificial intelligence'],\n",
       " ['97N80',\n",
       "  ' 97N80 Mathematical software, computer programs (educational aspects)'],\n",
       " ['60L10', ' 60L10 Signatures and data streams'],\n",
       " ['35Q68', ' 35Q68 PDEs in connection with computer science'],\n",
       " ['68T07', ' 68T07 Artificial neural networks and deep learning'],\n",
       " ['60L20', ' 60L20 Rough paths'],\n",
       " ['62-08',\n",
       "  ' 62-08 Computational methods for problems pertaining to statistics'],\n",
       " ['35Q79',\n",
       "  ' 35Q79 PDEs in connection with classical thermodynamics and heat transfer'],\n",
       " ['15B48',\n",
       "  ' 15B48 Positive matrices and their generalizations; cones of matrices'],\n",
       " ['68W50',\n",
       "  ' 68W50 Evolutionary algorithms, genetic algorithms (computational aspects) [See also 68T05, 68T20, 90C59]'],\n",
       " ['62-XX', ' 62-XX Statistics'],\n",
       " ['65Zxx', ' 65Zxx Applications to the sciences'],\n",
       " ['62G86', ' 62G86 Nonparametric inference and fuzziness'],\n",
       " ['62R40', ' 62R40 Topological data analysis [See also 55N31]'],\n",
       " ['05C21', ' 05C21 Flows in graphs'],\n",
       " ['35J08', \" 35J08 Green's functions for elliptic equations\"],\n",
       " ['91-10',\n",
       "  ' 91-10 Mathematical modeling or simulation for problems pertaining to game theory, economics, and \\x0cnance'],\n",
       " ['90-05',\n",
       "  ' 90-05 Experimental work for problems pertaining to operations research and mathematical programming'],\n",
       " ['68W27', ' 68W27 Online algorithms; streaming algorithms'],\n",
       " ['14T10',\n",
       "  ' 14T10 Foundations of tropical geometry and relations with algebra fFor algebraic aspects, see 15A80 g'],\n",
       " ['62D20', ' 62D20 Causal inference from observational studies'],\n",
       " ['49Q22', ' 49Q22 Optimal transportation [See also 90B06]'],\n",
       " ['35R02',\n",
       "  ' 35R02 PDEs on graphs and networks (rami\\x0ced or polygonal spaces)'],\n",
       " ['57-08',\n",
       "  ' 57-08 Computational methods for problems pertaining to manifolds and cell complexes'],\n",
       " ['65F55',\n",
       "  ' 65F55 Numerical methods for low-rank matrix approximation; matrix compression'],\n",
       " ['90C17', ' 90C17 Robustness in mathematical programming'],\n",
       " ['53Z50',\n",
       "  ' 53Z50 Applications of di\\x0berential geometry to data and computer science'],\n",
       " ['35J47', ' 35J47 Second-order elliptic systems'],\n",
       " ['62R07',\n",
       "  ' 62R07 Statistical aspects of big data and data science fFor computer science aspects, see 68T09; for information-'],\n",
       " ['15A83', ' 15A83 Matrix completion problems'],\n",
       " ['91G80',\n",
       "  ' 91G80 Financial applications of other theories [See also 35Q91, 37N40, 49N90, 60J70, 60K10, 60H30, 93E20]'],\n",
       " ['54H30',\n",
       "  ' 54H30 Applications of general topology to computer science (e.g., digital topology, image processing) [See also'],\n",
       " ['35K08', ' 35K08 Heat kernel'],\n",
       " ['90-10',\n",
       "  ' 90-10 Mathematical modeling or simulation for problems pertaining to operations research and mathematical pro-'],\n",
       " ['78M32',\n",
       "  ' 78M32 Neural and heuristic methods applied to problems in optics and electromagnetic theory'],\n",
       " ['62A09', ' 62A09 Graphical methods in statistics'],\n",
       " ['35Q74', ' 35Q74 PDEs in connection with mechanics of deformable solids'],\n",
       " ['55N31',\n",
       "  ' 68T09 Computational aspects of data analysis and big data [See also 62R07] fFor homological aspects, see 55N31 g'],\n",
       " ['68-XX',\n",
       "  ' 68-XX Computer science fFor papers containing software, source code,'],\n",
       " ['62R07',\n",
       "  ' 68T09 Computational aspects of data analysis and big data [See also 62R07] fFor homological aspects, see 55N31 g'],\n",
       " ['65D19', ' 65D19 Computational issues in computer and robotic vision'],\n",
       " ['68M25', ' 68M25 Computer security'],\n",
       " ['62-08',\n",
       "  ' 65C20 Probabilistic models, generic numerical methods in probability and statistics [See also 60-08, 62-08]'],\n",
       " ['55N31',\n",
       "  ' 55N31 Persistent homology and applications, topological data analysis [See also 62R40, 68T09]'],\n",
       " ['92-XX', ' 92-XX Biology and other natural sciences'],\n",
       " ['35-XX', ' 35-XX Partial differential equations'],\n",
       " ['68Q87',\n",
       "  ' 68Q87 Probability in computer science (algorithm analysis, random structures, phase transitions, etc.) [See also'],\n",
       " ['60B20',\n",
       "  ' 15B52 Random matrices (algebraic aspects) fFor probabilistic aspects, see 60B20 g'],\n",
       " ['91G70',\n",
       "  ' 91G70 Statistical methods; risk measures [See also 62P05, 62P20]'],\n",
       " ['62R01', ' 62R01 Algebraic statistics'],\n",
       " ['49Q22',\n",
       "  ' 35Q49 Transport equations fFor calculus of variations and optimal control, see 49Q22; for Fluid mechanics, see'],\n",
       " ['60B20', ' 05C80 Random graphs (graph-theoretic aspects) [See also 60B20]'],\n",
       " ['68T09',\n",
       "  ' 94A16 Informational aspects of data analysis and big data [See also 62R07, 68T09] fFor homological aspects, see'],\n",
       " ['49M41', ' 49M41 PDE constrained optimization (numerical aspects)'],\n",
       " ['57Z25',\n",
       "  ' 57Z25 Relations of manifolds and cell complexes with computer and data science'],\n",
       " ['49-11',\n",
       "  ' 49-11 Research data for problems pertaining to calculus of variations and optimal control'],\n",
       " ['35Q84',\n",
       "  ' 35Q84 Fokker-Planck equations For Fluid mechanics, see 76X05, 76W05; for statistical mechanics, see 82C31'],\n",
       " ['42-08',\n",
       "  ' 42-08 Computational methods for problems pertaining to harmonic analysis on Euclidean spaces'],\n",
       " ['68T09',\n",
       "  ' 68T09 Computational aspects of data analysis and big data [See also 62R07] For homological aspects, see 55N31'],\n",
       " ['65M22',\n",
       "  ' 65M22 Numerical solution of discretized equations for initial value and initial-boundary value problems involving']]"
      ]
     },
     "execution_count": 135,
     "metadata": {},
     "output_type": "execute_result"
    }
   ],
   "source": []
  }
 ],
 "metadata": {
  "kernelspec": {
   "display_name": "Python 3",
   "language": "python",
   "name": "python3"
  },
  "language_info": {
   "codemirror_mode": {
    "name": "ipython",
    "version": 3
   },
   "file_extension": ".py",
   "mimetype": "text/x-python",
   "name": "python",
   "nbconvert_exporter": "python",
   "pygments_lexer": "ipython3",
   "version": "3.10.8"
  },
  "orig_nbformat": 4
 },
 "nbformat": 4,
 "nbformat_minor": 2
}
